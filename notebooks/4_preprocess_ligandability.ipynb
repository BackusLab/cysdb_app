{
 "cells": [
  {
   "cell_type": "markdown",
   "id": "36fccb12",
   "metadata": {},
   "source": [
    "Reformat published datasets for CysteineomeDB. Categories: Dataset Identified, Reactive, and Ligandable. Note: Annotations from authors were used to determine \"ligandability.\""
   ]
  },
  {
   "cell_type": "markdown",
   "id": "0e870d93",
   "metadata": {},
   "source": [
    "# Setup Environment"
   ]
  },
  {
   "cell_type": "code",
   "execution_count": null,
   "id": "15f1f9c1",
   "metadata": {},
   "outputs": [],
   "source": [
    "import os, sys\n",
    "import numpy as np\n",
    "import matplotlib.pyplot as plt\n",
    "import pandas as pd\n",
    "import csv\n",
    "import matplotlib\n",
    "import numpy as np\n",
    "import math\n",
    "from matplotlib.pyplot import figure\n",
    "import Bio\n",
    "from Bio import SeqIO\n",
    "from functools import reduce"
   ]
  },
  {
   "cell_type": "code",
   "execution_count": null,
   "id": "2c2056bf",
   "metadata": {},
   "outputs": [],
   "source": [
    "cd = os.getcwd()\n",
    "cd"
   ]
  },
  {
   "cell_type": "code",
   "execution_count": null,
   "id": "0760fb7c",
   "metadata": {},
   "outputs": [],
   "source": [
    "path_data = os.path.join(os.getcwd(), 'results')\n",
    "if not os.path.exists(path_data):\n",
    "    os.makedirs(path_data)"
   ]
  },
  {
   "cell_type": "code",
   "execution_count": null,
   "id": "ccd0cae0",
   "metadata": {},
   "outputs": [],
   "source": [
    "# merge identifiers from all csvs\n",
    "\n",
    "def get_new_df(dfs, dataset, col1, col2, cys):\n",
    "    new_df = pd.concat(dfs)\n",
    "    \n",
    "    new_df = new_df[new_df[col1].str.contains(\"contaminant\") == False]\n",
    "    \n",
    "    if dataset == 'kuljanin_gygi':\n",
    "        new_df['proteinid'] = new_df[col1].map(lambda x: str(x).replace(' ','').split('|')[1])\n",
    "        new_df['resid'] = new_df[col2].map(lambda x: 'C' + str(x).replace(' ',''))\n",
    "    elif dataset == 'weerapana_cravatt':\n",
    "        new_df['proteinid'] = new_df[col1].map(lambda x: str(x).replace(' ',''))\n",
    "        new_df['resid'] = new_df[col2].map(lambda x: 'C' + str(x).replace(' ',''))\n",
    "    elif dataset == 'backus_cravatt':\n",
    "        new_df['proteinid'] = new_df['Identifier'].map(lambda x: str(x).replace(' ','').split('_')[0])\n",
    "        new_df['resid'] = new_df['Identifier'].map(lambda x: str(x).replace(' ','').split('_')[-1]) \n",
    "    elif dataset == 'yan_backus':\n",
    "        new_df['proteinid'] = new_df[col1].map(lambda x: str(x).replace(' ',''))\n",
    "        new_df['resid'] = new_df['identifier'].map(lambda x: 'C' + str(x).replace(' ','').split('_')[-1]) \n",
    "    elif dataset == 'yang_wang':\n",
    "        new_df['proteinid'] = new_df[col1]\n",
    "        new_df['resid'] = new_df[col2].map(lambda x: 'C' + str(x).replace(' ',''))         \n",
    "    else:\n",
    "        new_df = new_df.rename(columns = {col1: 'proteinid', col2: 'resid'})\n",
    "        \n",
    "    new_df['cysteineid'] = new_df['proteinid'] + '_' + new_df['resid'].astype(str)\n",
    "    new_df['dataset'] = dataset\n",
    "    new_df['identified'] = 1\n",
    "    new_df['identified_datasets'] = dataset\n",
    "    \n",
    "    if cys == True:\n",
    "        new_df['level'] = 'cysteine'\n",
    "        new_df = new_df[['level', 'cysteineid', 'proteinid', 'dataset', 'identified', 'identified_datasets']]\n",
    "    else:\n",
    "        new_df['level'] = 'protein'\n",
    "        new_df = new_df[['level', 'proteinid', 'dataset', 'identified', 'identified_datasets']]\n",
    "    new_df = new_df.drop_duplicates()\n",
    "    \n",
    "    return new_df"
   ]
  },
  {
   "cell_type": "code",
   "execution_count": null,
   "id": "7ce86ee6",
   "metadata": {},
   "outputs": [],
   "source": [
    "# create protein identifiers\n",
    "# UniProtKB\n",
    "\n",
    "def get_pro_uniprot_identifier(master, df, dataset, category, category_datasets, col1, col2):\n",
    "    if dataset == 'weerapana_cravatt':\n",
    "        df['proteinid'] = df[col1].map(lambda x: str(x).replace(' ',''))\n",
    "    elif dataset == 'kuljanin_gygi':\n",
    "        df = df[[col1, col2]]\n",
    "        df = df.drop_duplicates()\n",
    "        df['proteinid'] = df[col1].map(lambda x: str(x).replace(' ','').split('|')[1])\n",
    "    elif dataset == 'backus_cravatt':\n",
    "        df['proteinid'] = df['Identifier'].map(lambda x: str(x).replace(' ','').split('_')[0])\n",
    "        df = df[['proteinid']]\n",
    "        df = df.drop_duplicates()\n",
    "    elif dataset == 'yang_wang':\n",
    "        df['proteinid'] = df[col1].map(lambda x: str(x).replace(' ',''))\n",
    "    else:\n",
    "        df = df[[col1]]\n",
    "        df = df.drop_duplicates()\n",
    "        df = df.rename(columns = {col1: 'proteinid'})\n",
    "\n",
    "    df_ids = list(df['proteinid'].unique())\n",
    "    \n",
    "    master[category] = np.where(master['proteinid'].isin(df_ids), 1, 0)\n",
    "    category_df = master[master[category] == 1]\n",
    "    category_df[category  + '_datasets'] = [category_datasets] * category_df.shape[0]\n",
    "    non_category_df = master[master[category] == 0]\n",
    "    \n",
    "    new_df = pd.concat([category_df, non_category_df])\n",
    "\n",
    "    return new_df"
   ]
  },
  {
   "cell_type": "code",
   "execution_count": null,
   "id": "425e9f3a",
   "metadata": {},
   "outputs": [],
   "source": [
    "# create cysteine identifiers\n",
    "# UniProtKB_C#\n",
    "\n",
    "def get_cys_uniprot_identifier(master, df, dataset, category, category_datasets, col1, col2):\n",
    "    if dataset == 'weerapana_cravatt':\n",
    "        df['proteinid'] = df[col1].map(lambda x: str(x).replace(' ',''))\n",
    "        df['resid'] = df[col2].map(lambda x: 'C' + str(x).replace(' ',''))\n",
    "    elif dataset == 'kuljanin_gygi':\n",
    "        df = df[[col1, col2]]\n",
    "        df = df.drop_duplicates()\n",
    "        df['proteinid'] = df[col1].map(lambda x: str(x).replace(' ','').split('|')[1])\n",
    "        df['resid'] = df[col2].map(lambda x: 'C' + str(x).replace(' ',''))\n",
    "    elif dataset == 'backus_cravatt':\n",
    "        df['proteinid'] = df['Identifier'].map(lambda x: str(x).replace(' ','').split('_')[0])\n",
    "        df['resid'] = df['Identifier'].map(lambda x: str(x).replace(' ','').split('_')[-1])  \n",
    "        df = df[['proteinid', 'resid']]\n",
    "        df = df.drop_duplicates()\n",
    "    elif dataset == 'yan_backus':\n",
    "        df['proteinid'] = df[col1].map(lambda x: str(x).replace(' ',''))\n",
    "        df['resid'] = df[col2].map(lambda x: 'C' + str(x).replace(' ','').split('_')[-1]) \n",
    "    elif dataset == 'yang_wang':\n",
    "        df['proteinid'] = df[col1].map(lambda x: str(x).replace(' ',''))\n",
    "        df['resid'] = df[col2].map(lambda x: 'C' + str(x).replace(' ','')) \n",
    "    else:\n",
    "        df = df[[col1, col2]]\n",
    "        df = df.drop_duplicates()\n",
    "        df = df.rename(columns = {col1: 'proteinid', col2: 'resid'})\n",
    "        \n",
    "    df['cysteineid'] = df['proteinid'] + '_' + df['resid'].astype(str)\n",
    "    df_ids = list(df['cysteineid'].unique())\n",
    "    \n",
    "    master[category] = np.where(master['cysteineid'].isin(df_ids), 1, 0)\n",
    "    category_df = master[master[category] == 1]\n",
    "    category_df[category  + '_datasets'] = [category_datasets] * category_df.shape[0]\n",
    "    non_category_df = master[master[category] == 0]\n",
    "    \n",
    "    new_df = pd.concat([category_df, non_category_df])\n",
    "\n",
    "    return new_df"
   ]
  },
  {
   "cell_type": "code",
   "execution_count": null,
   "id": "9d62f372",
   "metadata": {},
   "outputs": [],
   "source": [
    "def get_full_ligandability(df):\n",
    "    df['proteinid'] = df['Uniprot ID'].map(lambda x: str(x).split('|')[1])\n",
    "    df['cysteineid'] = df['proteinid'] + '_C' + df['Site Position'].astype(str)\n",
    "    \n",
    "    chloro_cols = df.columns.to_list()[5:133]\n",
    "    acryl_cols = df.columns.to_list()[134:-2]\n",
    "    \n",
    "    chloro_labels = get_ligandable_category(df, chloro_cols, False, 4)\n",
    "    acryl_labels = get_ligandable_category(df, acryl_cols, False, 4)\n",
    "    \n",
    "    new_df_ligandability = df.copy()\n",
    "    new_df_ligandability = new_df_ligandability.drop(columns = ['Uniprot ID',\n",
    "                             'Gene Symbol',\n",
    "                             'Peptide Sequence',\n",
    "                             'Site Position',\n",
    "                             'Gene + Site'])\n",
    "    \n",
    "    new_df_ligandability['chloroacetamide'] = chloro_labels\n",
    "    new_df_ligandability['acrylamide'] = acryl_labels\n",
    "    \n",
    "    return new_df_ligandability"
   ]
  },
  {
   "cell_type": "code",
   "execution_count": null,
   "id": "25063cbc",
   "metadata": {},
   "outputs": [],
   "source": [
    "def get_ligandability(df, compound_list, cutoff):\n",
    "    ligandable = []\n",
    "    \n",
    "    for index, row in df.iterrows():\n",
    "        \n",
    "        count = 0\n",
    "\n",
    "        for i in range(len(compound_list)):\n",
    "            current_ratio = row[compound_list[i]]\n",
    "            \n",
    "            if type(current_ratio) != int and type(current_ratio) != float:\n",
    "                continue\n",
    "            else:    \n",
    "                if float(current_ratio) >= cutoff:\n",
    "                    count += 1\n",
    "    \n",
    "        if count >= cutoff:\n",
    "            ligandable.append('yes')\n",
    "        else:\n",
    "            ligandable.append(np.nan)\n",
    "            \n",
    "    df['ligandable'] = ligandable\n",
    "    \n",
    "    df_identified = df[df['ligandable'].isna() == True]\n",
    "    df_ligandable = df[df['ligandable'].isna() == False]\n",
    "    return df_identified, df_ligandable"
   ]
  },
  {
   "cell_type": "code",
   "execution_count": null,
   "id": "e17f075f",
   "metadata": {},
   "outputs": [],
   "source": [
    "def get_ligandability_w_dataset_cutoff(df, compound_list, cutoff, dataset_cutoff):\n",
    "    ligandable = []\n",
    "    \n",
    "    df = df.replace(np.nan, 0)\n",
    "    \n",
    "    for index, row in df.iterrows():\n",
    "        \n",
    "        count = 0\n",
    "\n",
    "        for i in range(len(compound_list)):\n",
    "            current_ratio = row[compound_list[i]]\n",
    "            \n",
    "\n",
    "            if float(current_ratio) >= cutoff:\n",
    "                count += 1\n",
    "    \n",
    "        if count >= dataset_cutoff:\n",
    "            ligandable.append('yes')\n",
    "        else:\n",
    "            ligandable.append(None)\n",
    "            \n",
    "    df['ligandable'] = ligandable\n",
    "    \n",
    "    df_identified = df[df['ligandable'].isna() == True]\n",
    "    df_ligandable = df[df['ligandable'].isna() == False]\n",
    "    return df_identified, df_ligandable"
   ]
  },
  {
   "cell_type": "code",
   "execution_count": null,
   "id": "333e96f5",
   "metadata": {},
   "outputs": [],
   "source": [
    "def get_ligandable_category(df, probe_cols, tcell, cutoff):\n",
    "    \n",
    "    lig_labels = []\n",
    "    \n",
    "    if tcell == True:\n",
    "        df = df.replace('--', 0)\n",
    "    \n",
    "    for index, row in df.iterrows():\n",
    "        liganded = False\n",
    "        for i in range(len(probe_cols)):\n",
    "            if row[probe_cols[i]] >= cutoff:\n",
    "                liganded = True\n",
    "                \n",
    "        if liganded == True:\n",
    "            lig_labels.append('yes')\n",
    "        else:\n",
    "            lig_labels.append(None)\n",
    "            \n",
    "    return lig_labels"
   ]
  },
  {
   "cell_type": "code",
   "execution_count": null,
   "id": "df932117",
   "metadata": {},
   "outputs": [],
   "source": [
    "def get_ligandable_greater_category(df, probe_cols, tcell, cutoff):\n",
    "    \n",
    "    lig_labels = []\n",
    "    \n",
    "    if tcell == True:\n",
    "        df = df.replace('--', 0)\n",
    "    \n",
    "    for index, row in df.iterrows():\n",
    "        liganded = False\n",
    "        for i in range(len(probe_cols)):\n",
    "            if row[probe_cols[i]] > cutoff:\n",
    "                liganded = True\n",
    "                \n",
    "        if liganded == True:\n",
    "            lig_labels.append('yes')\n",
    "        else:\n",
    "            lig_labels.append(np.nan)\n",
    "            \n",
    "    return lig_labels"
   ]
  },
  {
   "cell_type": "code",
   "execution_count": null,
   "id": "29504510",
   "metadata": {},
   "outputs": [],
   "source": [
    "def list_to_string(lst, symbol):\n",
    "    return (symbol.join([str(elem) for elem in lst]))"
   ]
  },
  {
   "cell_type": "code",
   "execution_count": null,
   "id": "d77c7057",
   "metadata": {},
   "outputs": [],
   "source": [
    "def get_dup_ids(df):\n",
    "    nodup_ids = []\n",
    "    dup_ids = []\n",
    "    for index, row in df.iterrows():\n",
    "        if row['cysteineid'] not in nodup_ids:\n",
    "            nodup_ids.append(row['cysteineid'])\n",
    "        else:\n",
    "            dup_ids.append(row['cysteineid'])\n",
    "            \n",
    "    return dup_ids"
   ]
  },
  {
   "cell_type": "markdown",
   "id": "ecd10eff",
   "metadata": {},
   "source": [
    "# Extract Experimental Data"
   ]
  },
  {
   "cell_type": "markdown",
   "id": "d3cbda61",
   "metadata": {},
   "source": [
    "# Read Proteome-wide Discovery Data"
   ]
  },
  {
   "cell_type": "markdown",
   "id": "d7ce0116",
   "metadata": {},
   "source": [
    "\"R values≥ 4 in two or more data sets and met additional criteria for data quality\""
   ]
  },
  {
   "cell_type": "code",
   "execution_count": null,
   "id": "017068a6",
   "metadata": {},
   "outputs": [],
   "source": [
    "os.chdir(cd)\n",
    "os.chdir('Discovery')"
   ]
  },
  {
   "cell_type": "code",
   "execution_count": null,
   "id": "e9b727bb",
   "metadata": {},
   "outputs": [],
   "source": [
    "df_discovery_ligandable = pd.read_excel('41586_2016_BFnature18002_MOESM54_ESM.xlsx', sheet_name='Probe Targets In vitro')\n",
    "df_discovery_not_ligandable = pd.read_excel('41586_2016_BFnature18002_MOESM54_ESM.xlsx', sheet_name='In vitro (not probe targets)')"
   ]
  },
  {
   "cell_type": "code",
   "execution_count": null,
   "id": "be631088",
   "metadata": {},
   "outputs": [],
   "source": [
    "df_discovery_ligandable['ligandable'] = 'yes'"
   ]
  },
  {
   "cell_type": "code",
   "execution_count": null,
   "id": "82f1795a",
   "metadata": {},
   "outputs": [],
   "source": [
    "df_discovery_ligandablity = pd.concat([df_discovery_ligandable, df_discovery_not_ligandable])"
   ]
  },
  {
   "cell_type": "code",
   "execution_count": null,
   "id": "8ff2a83b",
   "metadata": {},
   "outputs": [],
   "source": [
    "df_discovery_ligandable_subset = df_discovery_ligandablity.drop(columns = ['Protein Master_pep Exp_pep', 'Drug Bank Target', 'Protein Class'\n",
    "                                                                          ])"
   ]
  },
  {
   "cell_type": "code",
   "execution_count": null,
   "id": "e302bbf6",
   "metadata": {},
   "outputs": [],
   "source": [
    "df_discovery_ligandable_subset = df_discovery_ligandable_subset.rename(columns = {'Identifier': 'cysteineid'})"
   ]
  },
  {
   "cell_type": "markdown",
   "id": "ad2ded00",
   "metadata": {},
   "source": [
    "# cysteineid, chloroacetamide, bromoacetamide, acrylamide, acetamide"
   ]
  },
  {
   "cell_type": "code",
   "execution_count": null,
   "id": "12e13f2d",
   "metadata": {},
   "outputs": [],
   "source": [
    "discovery_other_cols = [\n",
    " '23_500uM_invitro_231',\n",
    " '23_500uM_invitro_ramos',\n",
    " '42_500uM_invitro_ramos'\n",
    "]"
   ]
  },
  {
   "cell_type": "code",
   "execution_count": null,
   "id": "ded3042c",
   "metadata": {},
   "outputs": [],
   "source": [
    "discovery_chloro_cols = [\n",
    " '2_500uM_invitro_231',\n",
    " '2_500uM_invitro_ramos',\n",
    " '3_500uM_invitro_231',\n",
    " '3_500uM_invitro_ramos',\n",
    " '4_250uM_invitro_231',\n",
    " '4_250uM_invitro_ramos',\n",
    " '7_500uM_invitro_231',\n",
    " '7_500uM_invitro_ramos',\n",
    " '8_500uM_invitro_231',\n",
    " '8_500uM_invitro_ramos',\n",
    " '9_500uM_invitro_231',\n",
    " '9_500uM_invitro_ramos',\n",
    " '10_500uM_invitro_231',\n",
    " '10_500uM_invitro_ramos',\n",
    " '11_500uM_invitro_231',\n",
    " '11_500uM_invitro_ramos',\n",
    " '12_500uM_invitro_231',\n",
    " '12_500uM_invitro_ramos',\n",
    " '13_500uM_invitro_231',\n",
    " '13_500uM_invitro_ramos',\n",
    " '27_500uM_invitro_231',\n",
    " '20_500uM_invitro_231',\n",
    " '20_500uM_invitro_ramos',\n",
    " '21_500uM_invitro_231',\n",
    " '21_500uM_invitro_ramos',\n",
    " '22_500uM_invitro_231',\n",
    " '22_500uM_invitro_ramos',\n",
    " '25_500uM_invitro_231',\n",
    " '27_500uM_invitro_231.1',\n",
    " '27_500uM_invitro_ramos',\n",
    " '28_500uM_invitro_231',\n",
    " '28_500uM_invitro_ramos',\n",
    " '29_500uM_invitro_231',\n",
    " '29_500uM_invitro_ramos',\n",
    " '30_500uM_invitro_231',\n",
    " '30_500uM_invitro_ramos',\n",
    " '32_500uM_invitro_231',\n",
    " '32_500uM_invitro_ramos',\n",
    " '33_500uM_invitro_231',\n",
    " '33_500uM_invitro_ramos',\n",
    " '34_500uM_invitro_231',\n",
    " '34_500uM_invitro_ramos',\n",
    " '35_500uM_invitro_231',\n",
    " '35_500uM_invitro_ramos',\n",
    " '36_500uM_invitro_231',\n",
    " '39_500uM_invitro_231',\n",
    " '43_500uM_invitro_231',\n",
    " '43_500uM_invitro_ramos',\n",
    " '44_500uM_invitro_231',\n",
    " '45_500uM_invitro_231',\n",
    " '49_500uM_invitro_231',\n",
    " '50_500uM_invitro_231',\n",
    " '51_500uM_invitro_231',\n",
    " '51_500uM_invitro_ramos',\n",
    " '52_500uM_invitro_231',\n",
    " '52_500uM_invitro_ramos',\n",
    " '54_500uM_invitro_231',\n",
    " '55_500uM_invitro_231'\n",
    "]"
   ]
  },
  {
   "cell_type": "code",
   "execution_count": null,
   "id": "6e5265de",
   "metadata": {},
   "outputs": [],
   "source": [
    "discovery_acryl_cols = [\n",
    " '5_500uM_invitro_231',\n",
    " '5_500uM_invitro_ramos',\n",
    " '6_500uM_invitro_231',\n",
    " '14_500uM_invitro_231',\n",
    " '14_500uM_invitro_ramos',\n",
    " '15_500uM_invitro_231',\n",
    " '15_500uM_invitro_ramos',\n",
    " '26_500uM_invitro_ramos',\n",
    " '31_500uM_invitro_231',\n",
    " '31_500uM_invitro_ramos',\n",
    " '37_500uM_invitro_ramos',\n",
    " '38_500uM_invitro_231',\n",
    " '38_500uM_invitro_ramos',\n",
    " '40_500uM_invitro_231',\n",
    " '40_500uM_invitro_ramos',\n",
    " '41_500uM_invitro_231',\n",
    " '41_500uM_invitro_ramos',\n",
    " '46_500uM_invitro_231',\n",
    " '47_500uM_invitro_231',\n",
    " '48_500uM_invitro_231',\n",
    " '53_500uM_invitro_231',\n",
    " '53_500uM_invitro_ramos',\n",
    " '56_500uM_invitro_231',\n",
    " '56_500uM_invitro_ramos'\n",
    "]"
   ]
  },
  {
   "cell_type": "code",
   "execution_count": null,
   "id": "b4329d29",
   "metadata": {},
   "outputs": [],
   "source": [
    "discovery_bromo_cols = [\n",
    " '24_500uM_invitro_ramos',\n",
    "]"
   ]
  },
  {
   "cell_type": "code",
   "execution_count": null,
   "id": "49554f92",
   "metadata": {},
   "outputs": [],
   "source": [
    "other_labels = get_ligandable_category(df_discovery_ligandable_subset, discovery_other_cols, True, 4)"
   ]
  },
  {
   "cell_type": "code",
   "execution_count": null,
   "id": "d2828964",
   "metadata": {},
   "outputs": [],
   "source": [
    "chloro_labels = get_ligandable_category(df_discovery_ligandable_subset, discovery_chloro_cols, True, 4)"
   ]
  },
  {
   "cell_type": "code",
   "execution_count": null,
   "id": "00900299",
   "metadata": {},
   "outputs": [],
   "source": [
    "acryl_labels = get_ligandable_category(df_discovery_ligandable_subset, discovery_acryl_cols, True, 4)"
   ]
  },
  {
   "cell_type": "code",
   "execution_count": null,
   "id": "30ffa25e",
   "metadata": {},
   "outputs": [],
   "source": [
    "bromo_labels = get_ligandable_category(df_discovery_ligandable_subset, discovery_bromo_cols, True, 4)"
   ]
  },
  {
   "cell_type": "code",
   "execution_count": null,
   "id": "65ea787c",
   "metadata": {},
   "outputs": [],
   "source": [
    "new_df_discovery_ligandability = df_discovery_ligandable_subset.copy()"
   ]
  },
  {
   "cell_type": "code",
   "execution_count": null,
   "id": "dca01793",
   "metadata": {},
   "outputs": [],
   "source": [
    "new_df_discovery_ligandability['other'] = other_labels\n",
    "new_df_discovery_ligandability['chloroacetamide'] = chloro_labels\n",
    "new_df_discovery_ligandability['acrylamide'] = acryl_labels\n",
    "new_df_discovery_ligandability['bromoacetamide'] = bromo_labels"
   ]
  },
  {
   "cell_type": "code",
   "execution_count": null,
   "id": "65d1e467",
   "metadata": {},
   "outputs": [],
   "source": [
    "backus_ligandable_df = new_df_discovery_ligandability.copy()"
   ]
  },
  {
   "cell_type": "code",
   "execution_count": null,
   "id": "fe61306b",
   "metadata": {},
   "outputs": [],
   "source": [
    "backus_ligandable_df.shape, len(backus_ligandable_df['cysteineid'].unique())"
   ]
  },
  {
   "cell_type": "code",
   "execution_count": null,
   "id": "5df2eae9",
   "metadata": {},
   "outputs": [],
   "source": [
    "os.chdir('../')\n",
    "os.chdir('results')\n",
    "backus_ligandable_df.to_csv('backus_ligandable_dataset.csv', index = False)"
   ]
  },
  {
   "cell_type": "markdown",
   "id": "71f833cd",
   "metadata": {},
   "source": [
    "# Read Suzuki Data"
   ]
  },
  {
   "cell_type": "markdown",
   "id": "971ef926",
   "metadata": {},
   "source": [
    "\"Competitive m-CSCP data, cysteine- and lysine- containing peptides labeled by two or more compounds with an MS1 ratio >3, and lysine-containing peptides labeled only by bifunctional compounds 15−18, 21, or 22 with an MS1 ratio >3\""
   ]
  },
  {
   "cell_type": "code",
   "execution_count": null,
   "id": "ce75fb9e",
   "metadata": {},
   "outputs": [],
   "source": [
    "os.chdir(cd)\n",
    "os.chdir('Suzuki')\n",
    "os.chdir('5275142')"
   ]
  },
  {
   "cell_type": "code",
   "execution_count": null,
   "id": "85fe94e5",
   "metadata": {},
   "outputs": [],
   "source": [
    "df_suzuki_ligandability = pd.read_excel('ac0c04726_si_003.xlsx', sheet_name='Liganded Cysteines')"
   ]
  },
  {
   "cell_type": "code",
   "execution_count": null,
   "id": "c12b6e15",
   "metadata": {},
   "outputs": [],
   "source": [
    "df_suzuki_ligandability_subset = df_suzuki_ligandability[df_suzuki_ligandability['Proteins'].str.count(',') == 0]"
   ]
  },
  {
   "cell_type": "code",
   "execution_count": null,
   "id": "b2d3a52a",
   "metadata": {},
   "outputs": [],
   "source": [
    "df_suzuki_ligandability_subset = df_suzuki_ligandability_subset[df_suzuki_ligandability_subset['Cysteine Labeled'].str.count(';') == 0]"
   ]
  },
  {
   "cell_type": "code",
   "execution_count": null,
   "id": "0c0a8b5a",
   "metadata": {},
   "outputs": [],
   "source": [
    "df_suzuki_ligandability_subset['cysteineid'] = df_suzuki_ligandability_subset['Proteins'] + '_' + df_suzuki_ligandability_subset['Cysteine Labeled']\n",
    "df_suzuki_ligandability_subset = df_suzuki_ligandability_subset.rename(columns = {'Proteins': 'proteinid'})"
   ]
  },
  {
   "cell_type": "code",
   "execution_count": null,
   "id": "cc989dbc",
   "metadata": {},
   "outputs": [],
   "source": [
    "df_suzuki_ligandability_merged = df_suzuki_ligandability_subset.copy()"
   ]
  },
  {
   "cell_type": "markdown",
   "id": "17208d59",
   "metadata": {},
   "source": [
    "## cysteineid, chloroacetamide, acrylamide, acetamide"
   ]
  },
  {
   "cell_type": "code",
   "execution_count": null,
   "id": "ea22ef65",
   "metadata": {},
   "outputs": [],
   "source": [
    "suzuki_cols = df_suzuki_ligandability_merged.columns.to_list()[4:-1]"
   ]
  },
  {
   "cell_type": "code",
   "execution_count": null,
   "id": "e81ccb4d",
   "metadata": {},
   "outputs": [],
   "source": [
    "for i in range(len(cols)):\n",
    "    df_suzuki_ligandability_merged = df_suzuki_ligandability_merged.rename(columns = {cols[i] : cols[i] + ' ' + 'hek293t'})"
   ]
  },
  {
   "cell_type": "code",
   "execution_count": null,
   "id": "723974e5",
   "metadata": {},
   "outputs": [],
   "source": [
    "suzuki_other_cols = ['19 Mean Ratio hek293t', '22 Mean Ratio hek293t']\n",
    "suzuki_chloro_cols = ['16 Mean Ratio hek293t', '18 Mean Ratio hek293t', '21 Mean Ratio hek293t', 'KB3 Mean Ratio hek293t']\n",
    "suzuki_acryl_cols = ['15 Mean Ratio hek293t', '17 Mean Ratio hek293t', '20 Mean Ratio hek293t', 'KB14 Mean Ratio hek293t']"
   ]
  },
  {
   "cell_type": "code",
   "execution_count": null,
   "id": "acb58b63",
   "metadata": {},
   "outputs": [],
   "source": [
    "other_labels = get_ligandable_category(df_suzuki_ligandability_merged, suzuki_other_cols, False, 3)"
   ]
  },
  {
   "cell_type": "code",
   "execution_count": null,
   "id": "1bab8a18",
   "metadata": {},
   "outputs": [],
   "source": [
    "chloro_labels = get_ligandable_category(df_suzuki_ligandability_merged, suzuki_chloro_cols, False, 3)"
   ]
  },
  {
   "cell_type": "code",
   "execution_count": null,
   "id": "83c2d66c",
   "metadata": {},
   "outputs": [],
   "source": [
    "acryl_labels = get_ligandable_category(df_suzuki_ligandability_merged, suzuki_acryl_cols, False, 3)"
   ]
  },
  {
   "cell_type": "code",
   "execution_count": null,
   "id": "99c47b24",
   "metadata": {},
   "outputs": [],
   "source": [
    "new_df_suzuki_ligandability = df_suzuki_ligandability_merged.copy()"
   ]
  },
  {
   "cell_type": "code",
   "execution_count": null,
   "id": "af7590a5",
   "metadata": {},
   "outputs": [],
   "source": [
    "new_df_suzuki_ligandability['other'] = other_labels\n",
    "new_df_suzuki_ligandability['chloroacetamide'] = chloro_labels\n",
    "new_df_suzuki_ligandability['acrylamide'] = acryl_labels"
   ]
  },
  {
   "cell_type": "code",
   "execution_count": null,
   "id": "4bfd9841",
   "metadata": {},
   "outputs": [],
   "source": [
    "df_suzuki_compound_list = new_df_suzuki_ligandability.columns.to_list()[2:-3]"
   ]
  },
  {
   "cell_type": "code",
   "execution_count": null,
   "id": "c295d1b2",
   "metadata": {},
   "outputs": [],
   "source": [
    "df_suzuki_not_ligandable, df_suzuki_ligandable = get_ligandability(new_df_suzuki_ligandability, df_suzuki_compound_list, 2)"
   ]
  },
  {
   "cell_type": "code",
   "execution_count": null,
   "id": "ac54b37e",
   "metadata": {},
   "outputs": [],
   "source": [
    "cao_ligandable_df = pd.concat([df_suzuki_not_ligandable, df_suzuki_ligandable])"
   ]
  },
  {
   "cell_type": "code",
   "execution_count": null,
   "id": "d806e435",
   "metadata": {},
   "outputs": [],
   "source": [
    "cao_ligandable_df = cao_ligandable_df.drop(columns = ['Sequence', 'Cysteine Labeled', 'Gene Name'])"
   ]
  },
  {
   "cell_type": "code",
   "execution_count": null,
   "id": "5d1f9c0e",
   "metadata": {},
   "outputs": [],
   "source": [
    "os.chdir('../../')\n",
    "os.chdir('results')\n",
    "cao_ligandable_df.to_csv('cao_ligandable_dataset.csv', index = False)"
   ]
  },
  {
   "cell_type": "markdown",
   "id": "7ec0fff0",
   "metadata": {},
   "source": [
    "# Read T-cell Data"
   ]
  },
  {
   "cell_type": "markdown",
   "id": "0f251ab4",
   "metadata": {},
   "source": [
    "\"active compounds in\n",
    "T cells by ABPP. In these experiments, we set a slightly lower\n",
    "threshold for liganded cysteines (R >= 4 versus R >= 5 for scout\n",
    "fragments), because treatments with elaborated electrophilic\n",
    "compounds were performed in situ at much lower concentrations\""
   ]
  },
  {
   "cell_type": "code",
   "execution_count": null,
   "id": "9c0d387f",
   "metadata": {},
   "outputs": [],
   "source": [
    "os.chdir(cd)\n",
    "os.chdir('Tcell')"
   ]
  },
  {
   "cell_type": "markdown",
   "id": "f4fbba24",
   "metadata": {},
   "source": [
    "## Read ligandability data"
   ]
  },
  {
   "cell_type": "code",
   "execution_count": null,
   "id": "51216ccb",
   "metadata": {},
   "outputs": [],
   "source": [
    "df_tcell_ligandablility = pd.read_excel('NIHMS1616434-supplement-mmc4.xlsx', sheet_name='Table S6_Master Table', header = [5])"
   ]
  },
  {
   "cell_type": "code",
   "execution_count": null,
   "id": "acd4af1c",
   "metadata": {},
   "outputs": [],
   "source": [
    "df_tcell_ligandablility_merged_split = df_tcell_ligandablility[df_tcell_ligandablility['Residues'].str.count(',') == 0]"
   ]
  },
  {
   "cell_type": "code",
   "execution_count": null,
   "id": "dfbdc1b0",
   "metadata": {},
   "outputs": [],
   "source": [
    "df_tcell_ligandablility_merged_split['cysteineid'] = df_tcell_ligandablility_merged_split['Uniprot'] + '_' + df_tcell_ligandablility_merged_split['Residues'].str.strip()"
   ]
  },
  {
   "cell_type": "code",
   "execution_count": null,
   "id": "9300ad7e",
   "metadata": {},
   "outputs": [],
   "source": [
    "df_tcell_ligandablility_merged_split = df_tcell_ligandablility_merged_split.rename(columns = {\n",
    "    'control.1': 'control_1_KB02_TMT',\n",
    "    'control.2': 'control_2_KB05_TMT',\n",
    "    'control.3': 'control_3_KB02_TMT',\n",
    "    'control.4': 'control_4_KB05_TMT',\n",
    "    'control.5': 'control_5_KB02_isoTOP',\n",
    "    'control.6': 'control_6_KB05_isoTOP',\n",
    "    'control.7': 'control_7_KB02_isoTOP',\n",
    "    'control.8': 'control_8_KB05_isoTOP'\n",
    "})"
   ]
  },
  {
   "cell_type": "code",
   "execution_count": null,
   "id": "cda6fe78",
   "metadata": {},
   "outputs": [],
   "source": [
    "tcell_cols = df_tcell_ligandablility_merged_split.columns.to_list()[10:-1]"
   ]
  },
  {
   "cell_type": "code",
   "execution_count": null,
   "id": "a857b4f1",
   "metadata": {},
   "outputs": [],
   "source": [
    "for i in range(len(tcell_cols)):\n",
    "    df_tcell_ligandablility_merged_split = df_tcell_ligandablility_merged_split.rename(columns = {tcell_cols[i]: tcell_cols[i].replace(' μM', 'uM').replace(' ', '_') + '_' + 'tcell' })"
   ]
  },
  {
   "cell_type": "markdown",
   "id": "d30add6b",
   "metadata": {},
   "source": [
    "## cysteineid, chloroacetamide, acrylamide, dmf"
   ]
  },
  {
   "cell_type": "code",
   "execution_count": null,
   "id": "fec68052",
   "metadata": {},
   "outputs": [],
   "source": [
    "tcell_chloro_active_cols = [\n",
    " 'EV-3_tcell',\n",
    " 'EV-93_tcell'\n",
    "]"
   ]
  },
  {
   "cell_type": "code",
   "execution_count": null,
   "id": "c5af3f7f",
   "metadata": {},
   "outputs": [],
   "source": [
    "tcell_chloro_scout_cols = [\n",
    " 'control_1_KB02_TMT_tcell',\n",
    " 'control_3_KB02_TMT_tcell',\n",
    " 'control_5_KB02_isoTOP_tcell',\n",
    " 'control_7_KB02_isoTOP_tcell'\n",
    "]"
   ]
  },
  {
   "cell_type": "code",
   "execution_count": null,
   "id": "a02349b5",
   "metadata": {},
   "outputs": [],
   "source": [
    "tcell_chloro_cols = tcell_chloro_active_cols + tcell_chloro_scout_cols"
   ]
  },
  {
   "cell_type": "code",
   "execution_count": null,
   "id": "2373c9c7",
   "metadata": {},
   "outputs": [],
   "source": [
    "tcell_acryl_active_cols = [\n",
    " 'BPK-21_tcell',\n",
    " 'BPK-25_tcell',\n",
    " 'EV-98_5uM_tcell',\n",
    " 'EV-98_20uM_tcell',\n",
    " 'EV-99_5uM_tcell',\n",
    " 'EV-99_20uM_tcell',\n",
    " 'EV-96_5uM_tcell',\n",
    " 'EV-96_20uM_tcell',\n",
    " 'EV-97_5uM_tcell',\n",
    " 'ev-97_20uM_tcell'\n",
    "]"
   ]
  },
  {
   "cell_type": "code",
   "execution_count": null,
   "id": "3c3c452a",
   "metadata": {},
   "outputs": [],
   "source": [
    "tcell_acryl_scout_cols = [\n",
    " 'control_2_KB05_TMT_tcell',\n",
    " 'control_4_KB05_TMT_tcell',\n",
    " 'control_6_KB05_isoTOP_tcell',\n",
    " 'control_8_KB05_isoTOP_tcell'"
   ]
  },
  {
   "cell_type": "code",
   "execution_count": null,
   "id": "25b58505",
   "metadata": {},
   "outputs": [],
   "source": [
    "tcell_acryl_cols = tcell_acryl_active_cols + tcell_acryl_scout_cols"
   ]
  },
  {
   "cell_type": "code",
   "execution_count": null,
   "id": "6651874b",
   "metadata": {},
   "outputs": [],
   "source": [
    "tcell_dmf_cols = [\n",
    " 'DMF_tcell'\n",
    "]"
   ]
  },
  {
   "cell_type": "code",
   "execution_count": null,
   "id": "d8536307",
   "metadata": {},
   "outputs": [],
   "source": [
    "chloro_active_labels = get_ligandable_category(df_tcell_ligandablility_merged_split, tcell_chloro_active_cols, False, 4)"
   ]
  },
  {
   "cell_type": "code",
   "execution_count": null,
   "id": "3a203f91",
   "metadata": {},
   "outputs": [],
   "source": [
    "chloro_scout_labels = get_ligandable_category(df_tcell_ligandablility_merged_split, tcell_chloro_scout_cols, False, 5)"
   ]
  },
  {
   "cell_type": "code",
   "execution_count": null,
   "id": "a10f3f18",
   "metadata": {},
   "outputs": [],
   "source": [
    "acryl_active_labels = get_ligandable_category(df_tcell_ligandablility_merged_split, tcell_acryl_active_cols, False, 4)"
   ]
  },
  {
   "cell_type": "code",
   "execution_count": null,
   "id": "08e123f6",
   "metadata": {},
   "outputs": [],
   "source": [
    "acryl_scout_labels = get_ligandable_category(df_tcell_ligandablility_merged_split, tcell_acryl_scout_cols, False, 5)"
   ]
  },
  {
   "cell_type": "code",
   "execution_count": null,
   "id": "26e01329",
   "metadata": {},
   "outputs": [],
   "source": [
    "dmf_labels = get_ligandable_category(df_tcell_ligandablility_merged_split, tcell_dmf_cols, False, 4)"
   ]
  },
  {
   "cell_type": "code",
   "execution_count": null,
   "id": "e3b23b3f",
   "metadata": {},
   "outputs": [],
   "source": [
    "new_df_tcell_ligandability = df_tcell_ligandablility_merged_split.copy()"
   ]
  },
  {
   "cell_type": "code",
   "execution_count": null,
   "id": "5771445d",
   "metadata": {},
   "outputs": [],
   "source": [
    "new_df_tcell_ligandability['chloroacetamide_active'] = chloro_active_labels\n",
    "new_df_tcell_ligandability['acrylamide_active'] = acryl_active_labels\n",
    "new_df_tcell_ligandability['chloroacetamide_scout'] = chloro_scout_labels\n",
    "new_df_tcell_ligandability['acrylamide_scout'] = acryl_scout_labels\n",
    "new_df_tcell_ligandability['dmf'] = dmf_labels"
   ]
  },
  {
   "cell_type": "code",
   "execution_count": null,
   "id": "3a7e9cf0",
   "metadata": {},
   "outputs": [],
   "source": [
    "new_df_tcell_ligandability['chloroacetamide'] = np.where((new_df_tcell_ligandability['chloroacetamide_active'] == 'yes') | (new_df_tcell_ligandability['chloroacetamide_scout'] == 'yes'), 'yes', None)"
   ]
  },
  {
   "cell_type": "code",
   "execution_count": null,
   "id": "e33d4017",
   "metadata": {},
   "outputs": [],
   "source": [
    "new_df_tcell_ligandability['acrylamide'] = np.where((new_df_tcell_ligandability['acrylamide_active'] == 'yes') | (new_df_tcell_ligandability['acrylamide_scout'] == 'yes'), 'yes', None)"
   ]
  },
  {
   "cell_type": "code",
   "execution_count": null,
   "id": "ae0daa11",
   "metadata": {},
   "outputs": [],
   "source": [
    "new_df_tcell_ligandability['dmf'] = dmf_labels"
   ]
  },
  {
   "cell_type": "code",
   "execution_count": null,
   "id": "c26d6baf",
   "metadata": {},
   "outputs": [],
   "source": [
    "new_df_tcell_ligandability['ligandable'] = np.where((new_df_tcell_ligandability['Max'] >= 4) | (new_df_tcell_ligandability['Max.1_tcell'] >= 5), 'yes', np.nan)"
   ]
  },
  {
   "cell_type": "code",
   "execution_count": null,
   "id": "876ce4d9",
   "metadata": {},
   "outputs": [],
   "source": [
    "df_tcell_ligandability_merged = new_df_tcell_ligandability.copy()"
   ]
  },
  {
   "cell_type": "code",
   "execution_count": null,
   "id": "a6fd46a9",
   "metadata": {},
   "outputs": [],
   "source": [
    "df_tcell_ligandability_merged = df_tcell_ligandability_merged.drop(columns =  ['Description',\n",
    " 'Residues',\n",
    " 'OMIM?',\n",
    " 'immune-enriched?',\n",
    " 'target?',\n",
    " 'activated',\n",
    " 'control',\n",
    " 'Max', \n",
    " 'Residues'])"
   ]
  },
  {
   "cell_type": "code",
   "execution_count": null,
   "id": "2af1b842",
   "metadata": {},
   "outputs": [],
   "source": [
    "df_tcell_ligandability_merged = df_tcell_ligandability_merged.rename(columns = {'Uniprot': 'proteinid'})"
   ]
  },
  {
   "cell_type": "code",
   "execution_count": null,
   "id": "968a49cf",
   "metadata": {},
   "outputs": [],
   "source": [
    "vinogradova_ligandable_df = df_tcell_ligandability_merged[[\n",
    " 'proteinid',\n",
    " 'cysteineid',\n",
    " 'DMF_tcell',\n",
    " 'EV-3_tcell',\n",
    " 'BPK-21_tcell',\n",
    " 'BPK-25_tcell',\n",
    " 'EV-93_tcell',\n",
    " 'EV-98_5uM_tcell',\n",
    " 'EV-98_20uM_tcell',\n",
    " 'EV-99_5uM_tcell',\n",
    " 'EV-99_20uM_tcell',\n",
    " 'EV-96_5uM_tcell',\n",
    " 'EV-96_20uM_tcell',\n",
    " 'EV-97_5uM_tcell',\n",
    " 'ev-97_20uM_tcell',\n",
    " 'control_1_KB02_TMT_tcell',\n",
    " 'control_2_KB05_TMT_tcell',\n",
    " 'control_3_KB02_TMT_tcell',\n",
    " 'control_4_KB05_TMT_tcell',\n",
    " 'control_5_KB02_isoTOP_tcell',\n",
    " 'control_6_KB05_isoTOP_tcell',\n",
    " 'control_7_KB02_isoTOP_tcell',\n",
    " 'control_8_KB05_isoTOP_tcell',\n",
    " 'chloroacetamide',\n",
    " 'acrylamide',\n",
    " 'dmf',\n",
    " 'ligandable'\n",
    "]]"
   ]
  },
  {
   "cell_type": "code",
   "execution_count": null,
   "id": "507b4c71",
   "metadata": {},
   "outputs": [],
   "source": [
    "tcell_dup_ids = get_dup_ids(vinogradova_ligandable_df)"
   ]
  },
  {
   "cell_type": "code",
   "execution_count": null,
   "id": "773807ab",
   "metadata": {},
   "outputs": [],
   "source": [
    "vinogradova_ligandable_df['duplicate'] = np.where(vinogradova_ligandable_df['cysteineid'].isin(tcell_dup_ids), 1, 0)"
   ]
  },
  {
   "cell_type": "code",
   "execution_count": null,
   "id": "ea56df38",
   "metadata": {},
   "outputs": [],
   "source": [
    "nodups_tcell = vinogradova_ligandable_df[vinogradova_ligandable_df['duplicate'] == 0]"
   ]
  },
  {
   "cell_type": "code",
   "execution_count": null,
   "id": "fe86b7cc",
   "metadata": {},
   "outputs": [],
   "source": [
    "nodups_tcell.shape, len(nodups_tcell['cysteineid'].unique())"
   ]
  },
  {
   "cell_type": "code",
   "execution_count": null,
   "id": "5a35a711",
   "metadata": {},
   "outputs": [],
   "source": [
    "os.chdir('../')\n",
    "os.chdir('results')\n",
    "nodups_tcell.to_csv('vinogradova_ligandable_dataset.csv', index = False)"
   ]
  },
  {
   "cell_type": "markdown",
   "id": "116463a7",
   "metadata": {},
   "source": [
    "24081 -23920 = 161"
   ]
  },
  {
   "cell_type": "markdown",
   "id": "47bc3d25",
   "metadata": {},
   "source": [
    "Number of duplicate cysteines."
   ]
  },
  {
   "cell_type": "markdown",
   "id": "2d74ca50",
   "metadata": {},
   "source": [
    "# Read SP3 Data"
   ]
  },
  {
   "cell_type": "markdown",
   "id": "ec845a4e",
   "metadata": {},
   "source": [
    "\"MS1 chromatographic area\n",
    "ratios (R>4), indicative of labeling\""
   ]
  },
  {
   "cell_type": "code",
   "execution_count": null,
   "id": "ffce1760",
   "metadata": {},
   "outputs": [],
   "source": [
    "os.chdir('../')"
   ]
  },
  {
   "cell_type": "code",
   "execution_count": null,
   "id": "18ed74bc",
   "metadata": {},
   "outputs": [],
   "source": [
    "os.chdir('SP3')"
   ]
  },
  {
   "cell_type": "code",
   "execution_count": null,
   "id": "edd65097",
   "metadata": {},
   "outputs": [],
   "source": [
    "df_sp3 = pd.read_excel(\"cbic202000870-sup-0001-table_s6_modified.xlsx\")"
   ]
  },
  {
   "cell_type": "code",
   "execution_count": null,
   "id": "a0005609",
   "metadata": {},
   "outputs": [],
   "source": [
    "df_sp3 = df_sp3[df_sp3[\"Protein\"].str.contains('contaminant') == False]"
   ]
  },
  {
   "cell_type": "code",
   "execution_count": null,
   "id": "b14bb51a",
   "metadata": {},
   "outputs": [],
   "source": [
    "df_sp3 = df_sp3[df_sp3['Protein'].str.count(',') == 0]"
   ]
  },
  {
   "cell_type": "code",
   "execution_count": null,
   "id": "98a4bd86",
   "metadata": {},
   "outputs": [],
   "source": [
    "df_sp3 = df_sp3[df_sp3['PTM'].str.count(',') == 0]"
   ]
  },
  {
   "cell_type": "code",
   "execution_count": null,
   "id": "d4e78454",
   "metadata": {},
   "outputs": [],
   "source": [
    "df_sp3 = df_sp3.drop_duplicates()"
   ]
  },
  {
   "cell_type": "code",
   "execution_count": null,
   "id": "8439c55d",
   "metadata": {},
   "outputs": [],
   "source": [
    "df_sp3 = df_sp3.rename(columns = {'Protein': 'proteinid'})\n",
    "df_sp3 = df_sp3.rename(columns = {'PTM': 'resid'})"
   ]
  },
  {
   "cell_type": "code",
   "execution_count": null,
   "id": "8b1810be",
   "metadata": {},
   "outputs": [],
   "source": [
    "df_sp3['cysteineid'] = df_sp3['proteinid'] + '_' + df_sp3['resid']"
   ]
  },
  {
   "cell_type": "code",
   "execution_count": null,
   "id": "820a65f5",
   "metadata": {},
   "outputs": [],
   "source": [
    "df_sp3 = df_sp3.rename(columns = {'Mean Ratio': 'Mean Ratio jurkat'})"
   ]
  },
  {
   "cell_type": "code",
   "execution_count": null,
   "id": "52d4328c",
   "metadata": {},
   "outputs": [],
   "source": [
    "sp3_chloro_cols = ['Mean Ratio jurkat']"
   ]
  },
  {
   "cell_type": "code",
   "execution_count": null,
   "id": "d8e4a574",
   "metadata": {},
   "outputs": [],
   "source": [
    "chloro_labels = get_ligandable_greater_category(df_sp3, sp3_chloro_cols, False, 4)"
   ]
  },
  {
   "cell_type": "code",
   "execution_count": null,
   "id": "c99729c2",
   "metadata": {},
   "outputs": [],
   "source": [
    "new_df_sp3_ligandability = df_sp3.copy()"
   ]
  },
  {
   "cell_type": "code",
   "execution_count": null,
   "id": "f674128f",
   "metadata": {},
   "outputs": [],
   "source": [
    "new_df_sp3_ligandability['chloroacetamide'] = chloro_labels"
   ]
  },
  {
   "cell_type": "code",
   "execution_count": null,
   "id": "ede5f127",
   "metadata": {},
   "outputs": [],
   "source": [
    "new_df_sp3_ligandability['ligandable'] = np.where(new_df_sp3_ligandability['Mean Ratio jurkat'] > 4, 'yes', np.nan)"
   ]
  },
  {
   "cell_type": "code",
   "execution_count": null,
   "id": "c1e50259",
   "metadata": {},
   "outputs": [],
   "source": [
    "os.chdir('../')\n",
    "os.chdir('results')\n",
    "new_df_sp3_ligandability.to_csv('yan_ligandable_dataset.csv', index = False)"
   ]
  },
  {
   "cell_type": "markdown",
   "id": "c41b5576",
   "metadata": {},
   "source": [
    "# Read SLCABPP Data"
   ]
  },
  {
   "cell_type": "markdown",
   "id": "40cece9e",
   "metadata": {},
   "source": [
    "\"Scout Ligandable cysteine sites were defined as \n",
    "those showing ≥75% reduction in abundance (CR≥4)\"\n",
    "\n",
    "\"ligandable (CR ≥ 4) \n",
    "cysteines per fragment\""
   ]
  },
  {
   "cell_type": "code",
   "execution_count": null,
   "id": "f3bfb233",
   "metadata": {},
   "outputs": [],
   "source": [
    "os.chdir(cd)\n",
    "os.chdir('SLCABPP')\n",
    "os.chdir('NIHMS1660575-supplement-9_supplementary_tables')"
   ]
  },
  {
   "cell_type": "code",
   "execution_count": null,
   "id": "dedc25c0",
   "metadata": {},
   "outputs": [],
   "source": [
    "# HCT116\n",
    "df_scout = pd.read_excel('41587_2020_778_S4_ESM.xlsx', sheet_name='Scout Profiling')"
   ]
  },
  {
   "cell_type": "code",
   "execution_count": null,
   "id": "5b1546f8",
   "metadata": {},
   "outputs": [],
   "source": [
    "df_hct = pd.read_excel('41587_2020_778_S6_ESM.xlsx', sheet_name='SLC-ABPP HCT116 Screen')\n",
    "df_hek = pd.read_excel('41587_2020_778_S7_ESM.xlsx', sheet_name='SLC-ABPP HEK293T SCreen')\n",
    "df_patu = pd.read_excel('41587_2020_778_S8_ESM.xlsx', sheet_name='SLC-ABPP PaTu-8988T Screen')"
   ]
  },
  {
   "cell_type": "code",
   "execution_count": null,
   "id": "05dc26c1",
   "metadata": {},
   "outputs": [],
   "source": [
    "df_scout['proteinid'] = df_scout['Uniprot ID'].map(lambda x: str(x).split('|')[1].strip())"
   ]
  },
  {
   "cell_type": "code",
   "execution_count": null,
   "id": "01058cca",
   "metadata": {},
   "outputs": [],
   "source": [
    "df_scout['cysteineid'] = df_scout['proteinid'] + '_C' + df_scout['Site Position'].astype(str)"
   ]
  },
  {
   "cell_type": "code",
   "execution_count": null,
   "id": "93edb861",
   "metadata": {},
   "outputs": [],
   "source": [
    "df_scout['cysteineid'] = df_scout['cysteineid'].map(lambda x: str(x).replace(' ', '').strip())"
   ]
  },
  {
   "cell_type": "code",
   "execution_count": null,
   "id": "0bea5340",
   "metadata": {},
   "outputs": [],
   "source": [
    "df_scout = df_scout.rename(columns = {'Comp ratio (KBO2)': 'Comp ratio (KBO2) hct116',\n",
    "                                      'Comp ratio (KBO3)': 'Comp ratio (KBO3) hct116',\n",
    "                                      'Comp ratio (KBO5)': 'Comp ratio (KBO5) hct116'})"
   ]
  },
  {
   "cell_type": "code",
   "execution_count": null,
   "id": "d1804563",
   "metadata": {},
   "outputs": [],
   "source": [
    "slc_chloro_cols = ['Comp ratio (KBO2) hct116', 'Comp ratio (KBO3) hct116']"
   ]
  },
  {
   "cell_type": "code",
   "execution_count": null,
   "id": "9a6fb1ee",
   "metadata": {},
   "outputs": [],
   "source": [
    "slc_acryl_cols = ['Comp ratio (KBO5) hct116']"
   ]
  },
  {
   "cell_type": "code",
   "execution_count": null,
   "id": "2390ab11",
   "metadata": {},
   "outputs": [],
   "source": [
    "chloro_labels = get_ligandable_category(df_scout, slc_chloro_cols, False, 4)"
   ]
  },
  {
   "cell_type": "code",
   "execution_count": null,
   "id": "ec18e81b",
   "metadata": {},
   "outputs": [],
   "source": [
    "acryl_labels = get_ligandable_category(df_scout, slc_acryl_cols, False, 4)"
   ]
  },
  {
   "cell_type": "code",
   "execution_count": null,
   "id": "d783c1b5",
   "metadata": {},
   "outputs": [],
   "source": [
    "new_df_scout_ligandability = df_scout[['proteinid', 'cysteineid', \n",
    "                                       'Comp ratio (KBO2) hct116', \n",
    "                                       'Comp ratio (KBO3) hct116', \n",
    "                                       'Comp ratio (KBO5) hct116']]"
   ]
  },
  {
   "cell_type": "code",
   "execution_count": null,
   "id": "105592f3",
   "metadata": {},
   "outputs": [],
   "source": [
    "new_df_scout_ligandability['chloroacetamide'] = chloro_labels"
   ]
  },
  {
   "cell_type": "code",
   "execution_count": null,
   "id": "047ede05",
   "metadata": {},
   "outputs": [],
   "source": [
    "new_df_scout_ligandability['acrylamide'] = acryl_labels"
   ]
  },
  {
   "cell_type": "code",
   "execution_count": null,
   "id": "c94b2b5c",
   "metadata": {},
   "outputs": [],
   "source": [
    "scout_compound_list = new_df_scout_ligandability.columns.to_list()[2:-2]"
   ]
  },
  {
   "cell_type": "code",
   "execution_count": null,
   "id": "79706390",
   "metadata": {},
   "outputs": [],
   "source": [
    "df_scout_not_ligandable, df_scout_ligandable = get_ligandability(new_df_scout_ligandability, scout_compound_list, 4)"
   ]
  },
  {
   "cell_type": "code",
   "execution_count": null,
   "id": "63806e63",
   "metadata": {},
   "outputs": [],
   "source": [
    "new_kuljanin_scout_ligandability_df = pd.concat([df_scout_ligandable, df_scout_not_ligandable])"
   ]
  },
  {
   "cell_type": "code",
   "execution_count": null,
   "id": "153bbf23",
   "metadata": {},
   "outputs": [],
   "source": [
    "new_kuljanin_scout_ligandability_df.to_csv('kuljanin_scout_ligandable_dataset.csv', index = False)"
   ]
  },
  {
   "cell_type": "code",
   "execution_count": null,
   "id": "c6f12538",
   "metadata": {},
   "outputs": [],
   "source": [
    "new_hct_df_ligandability = get_full_ligandability(df_hct)"
   ]
  },
  {
   "cell_type": "code",
   "execution_count": null,
   "id": "b212829f",
   "metadata": {},
   "outputs": [],
   "source": [
    "new_hek_df_ligandability = get_full_ligandability(df_hek)"
   ]
  },
  {
   "cell_type": "code",
   "execution_count": null,
   "id": "b1d97d66",
   "metadata": {},
   "outputs": [],
   "source": [
    "new_patu_df_ligandability = get_full_ligandability(df_patu)"
   ]
  },
  {
   "cell_type": "code",
   "execution_count": null,
   "id": "ef05c312",
   "metadata": {},
   "outputs": [],
   "source": [
    "cell_line_compound_list = new_patu_df_ligandability.columns.to_list()\n",
    "cell_line_compound_list = cell_line_compound_list[:-4]"
   ]
  },
  {
   "cell_type": "code",
   "execution_count": null,
   "id": "7a774f62",
   "metadata": {},
   "outputs": [],
   "source": [
    "def rename_slcabpp_cols(df, cell_line_compound_list, cell_line):\n",
    "    for i in range(len(cell_line_compound_list)):\n",
    "        df = df.rename(columns = {cell_line_compound_list[i]: cell_line_compound_list[i] + '_' + cell_line})\n",
    "        \n",
    "    return df"
   ]
  },
  {
   "cell_type": "code",
   "execution_count": null,
   "id": "76e519b6",
   "metadata": {},
   "outputs": [],
   "source": [
    "new_hct_df_ligandability = rename_slcabpp_cols(new_hct_df_ligandability, cell_line_compound_list, 'hct116')"
   ]
  },
  {
   "cell_type": "code",
   "execution_count": null,
   "id": "f4d08037",
   "metadata": {},
   "outputs": [],
   "source": [
    "new_hek_df_ligandability = rename_slcabpp_cols(new_hek_df_ligandability, cell_line_compound_list, 'hek293t')"
   ]
  },
  {
   "cell_type": "code",
   "execution_count": null,
   "id": "dd8d11a3",
   "metadata": {},
   "outputs": [],
   "source": [
    "new_patu_df_ligandability = rename_slcabpp_cols(new_patu_df_ligandability, cell_line_compound_list, 'patu-8988t')"
   ]
  },
  {
   "cell_type": "code",
   "execution_count": null,
   "id": "5594b8b8",
   "metadata": {},
   "outputs": [],
   "source": [
    "hct_compound_list = [\n",
    " 'CL1_hct116',\n",
    " 'CL2_hct116',\n",
    " 'CL3_hct116',\n",
    " 'CL4_hct116',\n",
    " 'CL5_hct116',\n",
    " 'CL6_hct116',\n",
    " 'CL7_hct116',\n",
    " 'CL8_hct116',\n",
    " 'CL9_hct116',\n",
    " 'CL10_hct116',\n",
    " 'CL11_hct116',\n",
    " 'CL12_hct116',\n",
    " 'CL13_hct116',\n",
    " 'CL14_hct116',\n",
    " 'CL15_hct116',\n",
    " 'CL16_hct116',\n",
    " 'CL17_hct116',\n",
    " 'CL18_hct116',\n",
    " 'CL19_hct116',\n",
    " 'CL20_hct116',\n",
    " 'CL21_hct116',\n",
    " 'CL22_hct116',\n",
    " 'CL23_hct116',\n",
    " 'CL24_hct116',\n",
    " 'CL25_hct116',\n",
    " 'CL26_hct116',\n",
    " 'CL27_hct116',\n",
    " 'CL28_hct116',\n",
    " 'CL29_hct116',\n",
    " 'CL30_hct116',\n",
    " 'CL31_hct116',\n",
    " 'CL32_hct116',\n",
    " 'CL33_hct116',\n",
    " 'CL34_hct116',\n",
    " 'CL35_hct116',\n",
    " 'CL36_hct116',\n",
    " 'CL37_hct116',\n",
    " 'CL38_hct116',\n",
    " 'CL39_hct116',\n",
    " 'CL40_hct116',\n",
    " 'CL41_hct116',\n",
    " 'CL42_hct116',\n",
    " 'CL43_hct116',\n",
    " 'CL44_hct116',\n",
    " 'CL45_hct116',\n",
    " 'CL46_hct116',\n",
    " 'CL47_hct116',\n",
    " 'CL48_hct116',\n",
    " 'CL49_hct116',\n",
    " 'CL50_hct116',\n",
    " 'CL51_hct116',\n",
    " 'CL52_hct116',\n",
    " 'CL53_hct116',\n",
    " 'CL54_hct116',\n",
    " 'CL55_hct116',\n",
    " 'CL56_hct116',\n",
    " 'CL57_hct116',\n",
    " 'CL58_hct116',\n",
    " 'CL59_hct116',\n",
    " 'CL60_hct116',\n",
    " 'CL61_hct116',\n",
    " 'CL62_hct116',\n",
    " 'CL63_hct116',\n",
    " 'CL64_hct116',\n",
    " 'CL65_hct116',\n",
    " 'CL66_hct116',\n",
    " 'CL67_hct116',\n",
    " 'CL68_hct116',\n",
    " 'CL69_hct116',\n",
    " 'CL70_hct116',\n",
    " 'CL71_hct116',\n",
    " 'CL72_hct116',\n",
    " 'CL73_hct116',\n",
    " 'CL74_hct116',\n",
    " 'CL75_hct116',\n",
    " 'CL76_hct116',\n",
    " 'CL77_hct116',\n",
    " 'CL78_hct116',\n",
    " 'CL79_hct116',\n",
    " 'CL80_hct116',\n",
    " 'CL81_hct116',\n",
    " 'CL82_hct116',\n",
    " 'CL83_hct116',\n",
    " 'CL84_hct116',\n",
    " 'CL85_hct116',\n",
    " 'CL86_hct116',\n",
    " 'CL87_hct116',\n",
    " 'CL88_hct116',\n",
    " 'CL89_hct116',\n",
    " 'CL90_hct116',\n",
    " 'CL91_hct116',\n",
    " 'CL92_hct116',\n",
    " 'CL93_hct116',\n",
    " 'CL94_hct116',\n",
    " 'CL95_hct116',\n",
    " 'CL96_hct116',\n",
    " 'CL97_hct116',\n",
    " 'CL98_hct116',\n",
    " 'CL99_hct116',\n",
    " 'CL100_hct116',\n",
    " 'CL101_hct116',\n",
    " 'CL102_hct116',\n",
    " 'CL103_hct116',\n",
    " 'CL104_hct116',\n",
    " 'CL105_hct116',\n",
    " 'CL106_hct116',\n",
    " 'CL107_hct116',\n",
    " 'CL108_hct116',\n",
    " 'CL109_hct116',\n",
    " 'CL110_hct116',\n",
    " 'CL111_hct116',\n",
    " 'CL112_hct116',\n",
    " 'CL113_hct116',\n",
    " 'CL114_hct116',\n",
    " 'CL115_hct116',\n",
    " 'CL116_hct116',\n",
    " 'CL117_hct116',\n",
    " 'CL118_hct116',\n",
    " 'CL119_hct116',\n",
    " 'CL120_hct116',\n",
    " 'CL121_hct116',\n",
    " 'CL122_hct116',\n",
    " 'CL123_hct116',\n",
    " 'CL124_hct116',\n",
    " 'CL125_hct116',\n",
    " 'CL126_hct116',\n",
    " 'CL127_hct116',\n",
    " 'CL128_hct116',\n",
    " 'AC1_hct116',\n",
    " 'AC2_hct116',\n",
    " 'AC3_hct116',\n",
    " 'AC4_hct116',\n",
    " 'AC5_hct116',\n",
    " 'AC6_hct116',\n",
    " 'AC7_hct116',\n",
    " 'AC8_hct116',\n",
    " 'AC9_hct116',\n",
    " 'AC10_hct116',\n",
    " 'AC11_hct116',\n",
    " 'AC12_hct116',\n",
    " 'AC13_hct116',\n",
    " 'AC14_hct116',\n",
    " 'AC15_hct116',\n",
    " 'AC16_hct116',\n",
    " 'AC17_hct116',\n",
    " 'AC18_hct116',\n",
    " 'AC19_hct116',\n",
    " 'AC20_hct116',\n",
    " 'AC21_hct116',\n",
    " 'AC22_hct116',\n",
    " 'AC23_hct116',\n",
    " 'AC24_hct116',\n",
    " 'AC25_hct116',\n",
    " 'AC26_hct116',\n",
    " 'AC27_hct116',\n",
    " 'AC28_hct116',\n",
    " 'AC29_hct116',\n",
    " 'AC30_hct116',\n",
    " 'AC31_hct116',\n",
    " 'AC32_hct116',\n",
    " 'AC33_hct116',\n",
    " 'AC34_hct116',\n",
    " 'AC35_hct116',\n",
    " 'AC36_hct116',\n",
    " 'AC37_hct116',\n",
    " 'AC38_hct116',\n",
    " 'AC39_hct116',\n",
    " 'AC40_hct116',\n",
    " 'AC41_hct116',\n",
    " 'AC42_hct116',\n",
    " 'AC43_hct116',\n",
    " 'AC44_hct116',\n",
    " 'AC45_hct116',\n",
    " 'AC46_hct116',\n",
    " 'AC47_hct116',\n",
    " 'AC48_hct116',\n",
    " 'AC49_hct116',\n",
    " 'AC50_hct116',\n",
    " 'AC51_hct116',\n",
    " 'AC52_hct116',\n",
    " 'AC53_hct116',\n",
    " 'AC54_hct116',\n",
    " 'AC55_hct116',\n",
    " 'AC56_hct116',\n",
    " 'AC57_hct116',\n",
    " 'AC58_hct116',\n",
    " 'AC59_hct116',\n",
    " 'AC60_hct116',\n",
    " 'AC61_hct116',\n",
    " 'AC62_hct116',\n",
    " 'AC63_hct116',\n",
    " 'AC64_hct116',\n",
    " 'AC65_hct116',\n",
    " 'AC66_hct116',\n",
    " 'AC67_hct116',\n",
    " 'AC68_hct116',\n",
    " 'AC69_hct116',\n",
    " 'AC70_hct116',\n",
    " 'AC71_hct116',\n",
    " 'AC72_hct116',\n",
    " 'AC73_hct116',\n",
    " 'AC74_hct116',\n",
    " 'AC75_hct116',\n",
    " 'AC76_hct116',\n",
    " 'AC77_hct116',\n",
    " 'AC78_hct116',\n",
    " 'AC79_hct116',\n",
    " 'AC80_hct116',\n",
    " 'AC81_hct116',\n",
    " 'AC82_hct116',\n",
    " 'AC83_hct116',\n",
    " 'AC84_hct116',\n",
    " 'AC85_hct116',\n",
    " 'AC86_hct116',\n",
    " 'AC87_hct116',\n",
    " 'AC88_hct116',\n",
    " 'AC89_hct116',\n",
    " 'AC90_hct116',\n",
    " 'AC91_hct116',\n",
    " 'AC92_hct116',\n",
    " 'AC93_hct116',\n",
    " 'AC94_hct116',\n",
    " 'AC95_hct116',\n",
    " 'AC96_hct116',\n",
    " 'AC97_hct116',\n",
    " 'AC98_hct116',\n",
    " 'AC99_hct116',\n",
    " 'AC100_hct116',\n",
    " 'AC101_hct116',\n",
    " 'AC102_hct116',\n",
    " 'AC103_hct116',\n",
    " 'AC104_hct116',\n",
    " 'AC105_hct116',\n",
    " 'AC106_hct116',\n",
    " 'AC107_hct116',\n",
    " 'AC108_hct116',\n",
    " 'AC109_hct116',\n",
    " 'AC110_hct116',\n",
    " 'AC111_hct116',\n",
    " 'AC112_hct116',\n",
    " 'AC113_hct116',\n",
    " 'AC114_hct116',\n",
    " 'AC115_hct116',\n",
    " 'AC116_hct116',\n",
    " 'AC117_hct116',\n",
    " 'AC118_hct116',\n",
    " 'AC119_hct116',\n",
    " 'AC120_hct116',\n",
    " 'AC121_hct116',\n",
    " 'AC122_hct116',\n",
    " 'AC123_hct116',\n",
    " 'AC124_hct116',\n",
    " 'AC125_hct116',\n",
    " 'AC126_hct116',\n",
    " 'AC127_hct116',\n",
    " 'AC128_hct116',\n",
    " 'AC129_hct116',\n",
    " 'AC130_hct116',\n",
    " 'AC131_hct116',\n",
    " 'AC132_hct116',\n",
    " 'AC133_hct116',\n",
    " 'AC134_hct116',\n",
    " 'AC135_hct116',\n",
    " 'AC136_hct116',\n",
    " 'AC137_hct116',\n",
    " 'AC138_hct116',\n",
    " 'AC139_hct116',\n",
    " 'AC140_hct116',\n",
    " 'AC141_hct116',\n",
    " 'AC142_hct116',\n",
    " 'AC143_hct116',\n",
    " 'AC144_hct116',\n",
    " 'AC145_hct116',\n",
    " 'AC146_hct116',\n",
    " 'AC147_hct116',\n",
    " 'AC148_hct116',\n",
    " 'AC149_hct116',\n",
    " 'AC150_hct116',\n",
    " 'AC151_hct116',\n",
    " 'AC152_hct116',\n",
    " 'AC153_hct116',\n",
    " 'AC154_hct116',\n",
    " 'AC155_hct116',\n",
    " 'AC156_hct116',\n",
    " 'AC157_hct116'\n",
    "]"
   ]
  },
  {
   "cell_type": "code",
   "execution_count": null,
   "id": "ed9c7d0e",
   "metadata": {},
   "outputs": [],
   "source": [
    "hek_compound_list = [\n",
    "'CL1_hek293t',\n",
    " 'CL2_hek293t',\n",
    " 'CL3_hek293t',\n",
    " 'CL4_hek293t',\n",
    " 'CL5_hek293t',\n",
    " 'CL6_hek293t',\n",
    " 'CL7_hek293t',\n",
    " 'CL8_hek293t',\n",
    " 'CL9_hek293t',\n",
    " 'CL10_hek293t',\n",
    " 'CL11_hek293t',\n",
    " 'CL12_hek293t',\n",
    " 'CL13_hek293t',\n",
    " 'CL14_hek293t',\n",
    " 'CL15_hek293t',\n",
    " 'CL16_hek293t',\n",
    " 'CL17_hek293t',\n",
    " 'CL18_hek293t',\n",
    " 'CL19_hek293t',\n",
    " 'CL20_hek293t',\n",
    " 'CL21_hek293t',\n",
    " 'CL22_hek293t',\n",
    " 'CL23_hek293t',\n",
    " 'CL24_hek293t',\n",
    " 'CL25_hek293t',\n",
    " 'CL26_hek293t',\n",
    " 'CL27_hek293t',\n",
    " 'CL28_hek293t',\n",
    " 'CL29_hek293t',\n",
    " 'CL30_hek293t',\n",
    " 'CL31_hek293t',\n",
    " 'CL32_hek293t',\n",
    " 'CL33_hek293t',\n",
    " 'CL34_hek293t',\n",
    " 'CL35_hek293t',\n",
    " 'CL36_hek293t',\n",
    " 'CL37_hek293t',\n",
    " 'CL38_hek293t',\n",
    " 'CL39_hek293t',\n",
    " 'CL40_hek293t',\n",
    " 'CL41_hek293t',\n",
    " 'CL42_hek293t',\n",
    " 'CL43_hek293t',\n",
    " 'CL44_hek293t',\n",
    " 'CL45_hek293t',\n",
    " 'CL46_hek293t',\n",
    " 'CL47_hek293t',\n",
    " 'CL48_hek293t',\n",
    " 'CL49_hek293t',\n",
    " 'CL50_hek293t',\n",
    " 'CL51_hek293t',\n",
    " 'CL52_hek293t',\n",
    " 'CL53_hek293t',\n",
    " 'CL54_hek293t',\n",
    " 'CL55_hek293t',\n",
    " 'CL56_hek293t',\n",
    " 'CL57_hek293t',\n",
    " 'CL58_hek293t',\n",
    " 'CL59_hek293t',\n",
    " 'CL60_hek293t',\n",
    " 'CL61_hek293t',\n",
    " 'CL62_hek293t',\n",
    " 'CL63_hek293t',\n",
    " 'CL64_hek293t',\n",
    " 'CL65_hek293t',\n",
    " 'CL66_hek293t',\n",
    " 'CL67_hek293t',\n",
    " 'CL68_hek293t',\n",
    " 'CL69_hek293t',\n",
    " 'CL70_hek293t',\n",
    " 'CL71_hek293t',\n",
    " 'CL72_hek293t',\n",
    " 'CL73_hek293t',\n",
    " 'CL74_hek293t',\n",
    " 'CL75_hek293t',\n",
    " 'CL76_hek293t',\n",
    " 'CL77_hek293t',\n",
    " 'CL78_hek293t',\n",
    " 'CL79_hek293t',\n",
    " 'CL80_hek293t',\n",
    " 'CL81_hek293t',\n",
    " 'CL82_hek293t',\n",
    " 'CL83_hek293t',\n",
    " 'CL84_hek293t',\n",
    " 'CL85_hek293t',\n",
    " 'CL86_hek293t',\n",
    " 'CL87_hek293t',\n",
    " 'CL88_hek293t',\n",
    " 'CL89_hek293t',\n",
    " 'CL90_hek293t',\n",
    " 'CL91_hek293t',\n",
    " 'CL92_hek293t',\n",
    " 'CL93_hek293t',\n",
    " 'CL94_hek293t',\n",
    " 'CL95_hek293t',\n",
    " 'CL96_hek293t',\n",
    " 'CL97_hek293t',\n",
    " 'CL98_hek293t',\n",
    " 'CL99_hek293t',\n",
    " 'CL100_hek293t',\n",
    " 'CL101_hek293t',\n",
    " 'CL102_hek293t',\n",
    " 'CL103_hek293t',\n",
    " 'CL104_hek293t',\n",
    " 'CL105_hek293t',\n",
    " 'CL106_hek293t',\n",
    " 'CL107_hek293t',\n",
    " 'CL108_hek293t',\n",
    " 'CL109_hek293t',\n",
    " 'CL110_hek293t',\n",
    " 'CL111_hek293t',\n",
    " 'CL112_hek293t',\n",
    " 'CL113_hek293t',\n",
    " 'CL114_hek293t',\n",
    " 'CL115_hek293t',\n",
    " 'CL116_hek293t',\n",
    " 'CL117_hek293t',\n",
    " 'CL118_hek293t',\n",
    " 'CL119_hek293t',\n",
    " 'CL120_hek293t',\n",
    " 'CL121_hek293t',\n",
    " 'CL122_hek293t',\n",
    " 'CL123_hek293t',\n",
    " 'CL124_hek293t',\n",
    " 'CL125_hek293t',\n",
    " 'CL126_hek293t',\n",
    " 'CL127_hek293t',\n",
    " 'CL128_hek293t',\n",
    " 'AC1_hek293t',\n",
    " 'AC2_hek293t',\n",
    " 'AC3_hek293t',\n",
    " 'AC4_hek293t',\n",
    " 'AC5_hek293t',\n",
    " 'AC6_hek293t',\n",
    " 'AC7_hek293t',\n",
    " 'AC8_hek293t',\n",
    " 'AC9_hek293t',\n",
    " 'AC10_hek293t',\n",
    " 'AC11_hek293t',\n",
    " 'AC12_hek293t',\n",
    " 'AC13_hek293t',\n",
    " 'AC14_hek293t',\n",
    " 'AC15_hek293t',\n",
    " 'AC16_hek293t',\n",
    " 'AC17_hek293t',\n",
    " 'AC18_hek293t',\n",
    " 'AC19_hek293t',\n",
    " 'AC20_hek293t',\n",
    " 'AC21_hek293t',\n",
    " 'AC22_hek293t',\n",
    " 'AC23_hek293t',\n",
    " 'AC24_hek293t',\n",
    " 'AC25_hek293t',\n",
    " 'AC26_hek293t',\n",
    " 'AC27_hek293t',\n",
    " 'AC28_hek293t',\n",
    " 'AC29_hek293t',\n",
    " 'AC30_hek293t',\n",
    " 'AC31_hek293t',\n",
    " 'AC32_hek293t',\n",
    " 'AC33_hek293t',\n",
    " 'AC34_hek293t',\n",
    " 'AC35_hek293t',\n",
    " 'AC36_hek293t',\n",
    " 'AC37_hek293t',\n",
    " 'AC38_hek293t',\n",
    " 'AC39_hek293t',\n",
    " 'AC40_hek293t',\n",
    " 'AC41_hek293t',\n",
    " 'AC42_hek293t',\n",
    " 'AC43_hek293t',\n",
    " 'AC44_hek293t',\n",
    " 'AC45_hek293t',\n",
    " 'AC46_hek293t',\n",
    " 'AC47_hek293t',\n",
    " 'AC48_hek293t',\n",
    " 'AC49_hek293t',\n",
    " 'AC50_hek293t',\n",
    " 'AC51_hek293t',\n",
    " 'AC52_hek293t',\n",
    " 'AC53_hek293t',\n",
    " 'AC54_hek293t',\n",
    " 'AC55_hek293t',\n",
    " 'AC56_hek293t',\n",
    " 'AC57_hek293t',\n",
    " 'AC58_hek293t',\n",
    " 'AC59_hek293t',\n",
    " 'AC60_hek293t',\n",
    " 'AC61_hek293t',\n",
    " 'AC62_hek293t',\n",
    " 'AC63_hek293t',\n",
    " 'AC64_hek293t',\n",
    " 'AC65_hek293t',\n",
    " 'AC66_hek293t',\n",
    " 'AC67_hek293t',\n",
    " 'AC68_hek293t',\n",
    " 'AC69_hek293t',\n",
    " 'AC70_hek293t',\n",
    " 'AC71_hek293t',\n",
    " 'AC72_hek293t',\n",
    " 'AC73_hek293t',\n",
    " 'AC74_hek293t',\n",
    " 'AC75_hek293t',\n",
    " 'AC76_hek293t',\n",
    " 'AC77_hek293t',\n",
    " 'AC78_hek293t',\n",
    " 'AC79_hek293t',\n",
    " 'AC80_hek293t',\n",
    " 'AC81_hek293t',\n",
    " 'AC82_hek293t',\n",
    " 'AC83_hek293t',\n",
    " 'AC84_hek293t',\n",
    " 'AC85_hek293t',\n",
    " 'AC86_hek293t',\n",
    " 'AC87_hek293t',\n",
    " 'AC88_hek293t',\n",
    " 'AC89_hek293t',\n",
    " 'AC90_hek293t',\n",
    " 'AC91_hek293t',\n",
    " 'AC92_hek293t',\n",
    " 'AC93_hek293t',\n",
    " 'AC94_hek293t',\n",
    " 'AC95_hek293t',\n",
    " 'AC96_hek293t',\n",
    " 'AC97_hek293t',\n",
    " 'AC98_hek293t',\n",
    " 'AC99_hek293t',\n",
    " 'AC100_hek293t',\n",
    " 'AC101_hek293t',\n",
    " 'AC102_hek293t',\n",
    " 'AC103_hek293t',\n",
    " 'AC104_hek293t',\n",
    " 'AC105_hek293t',\n",
    " 'AC106_hek293t',\n",
    " 'AC107_hek293t',\n",
    " 'AC108_hek293t',\n",
    " 'AC109_hek293t',\n",
    " 'AC110_hek293t',\n",
    " 'AC111_hek293t',\n",
    " 'AC112_hek293t',\n",
    " 'AC113_hek293t',\n",
    " 'AC114_hek293t',\n",
    " 'AC115_hek293t',\n",
    " 'AC116_hek293t',\n",
    " 'AC117_hek293t',\n",
    " 'AC118_hek293t',\n",
    " 'AC119_hek293t',\n",
    " 'AC120_hek293t',\n",
    " 'AC121_hek293t',\n",
    " 'AC122_hek293t',\n",
    " 'AC123_hek293t',\n",
    " 'AC124_hek293t',\n",
    " 'AC125_hek293t',\n",
    " 'AC126_hek293t',\n",
    " 'AC127_hek293t',\n",
    " 'AC128_hek293t',\n",
    " 'AC129_hek293t',\n",
    " 'AC130_hek293t',\n",
    " 'AC131_hek293t',\n",
    " 'AC132_hek293t',\n",
    " 'AC133_hek293t',\n",
    " 'AC134_hek293t',\n",
    " 'AC135_hek293t',\n",
    " 'AC136_hek293t',\n",
    " 'AC137_hek293t',\n",
    " 'AC138_hek293t',\n",
    " 'AC139_hek293t',\n",
    " 'AC140_hek293t',\n",
    " 'AC141_hek293t',\n",
    " 'AC142_hek293t',\n",
    " 'AC143_hek293t',\n",
    " 'AC144_hek293t',\n",
    " 'AC145_hek293t',\n",
    " 'AC146_hek293t',\n",
    " 'AC147_hek293t',\n",
    " 'AC148_hek293t',\n",
    " 'AC149_hek293t',\n",
    " 'AC150_hek293t',\n",
    " 'AC151_hek293t',\n",
    " 'AC152_hek293t',\n",
    " 'AC153_hek293t',\n",
    " 'AC154_hek293t',\n",
    " 'AC155_hek293t',\n",
    " 'AC156_hek293t',\n",
    " 'AC157_hek293t'\n",
    "]"
   ]
  },
  {
   "cell_type": "code",
   "execution_count": null,
   "id": "3e03955f",
   "metadata": {},
   "outputs": [],
   "source": [
    "patu_compound_list = [\n",
    "    'CL1_patu-8988t',\n",
    " 'CL2_patu-8988t',\n",
    " 'CL3_patu-8988t',\n",
    " 'CL4_patu-8988t',\n",
    " 'CL5_patu-8988t',\n",
    " 'CL6_patu-8988t',\n",
    " 'CL7_patu-8988t',\n",
    " 'CL8_patu-8988t',\n",
    " 'CL9_patu-8988t',\n",
    " 'CL10_patu-8988t',\n",
    " 'CL11_patu-8988t',\n",
    " 'CL12_patu-8988t',\n",
    " 'CL13_patu-8988t',\n",
    " 'CL14_patu-8988t',\n",
    " 'CL15_patu-8988t',\n",
    " 'CL16_patu-8988t',\n",
    " 'CL17_patu-8988t',\n",
    " 'CL18_patu-8988t',\n",
    " 'CL19_patu-8988t',\n",
    " 'CL20_patu-8988t',\n",
    " 'CL21_patu-8988t',\n",
    " 'CL22_patu-8988t',\n",
    " 'CL23_patu-8988t',\n",
    " 'CL24_patu-8988t',\n",
    " 'CL25_patu-8988t',\n",
    " 'CL26_patu-8988t',\n",
    " 'CL27_patu-8988t',\n",
    " 'CL28_patu-8988t',\n",
    " 'CL29_patu-8988t',\n",
    " 'CL30_patu-8988t',\n",
    " 'CL31_patu-8988t',\n",
    " 'CL32_patu-8988t',\n",
    " 'CL33_patu-8988t',\n",
    " 'CL34_patu-8988t',\n",
    " 'CL35_patu-8988t',\n",
    " 'CL36_patu-8988t',\n",
    " 'CL37_patu-8988t',\n",
    " 'CL38_patu-8988t',\n",
    " 'CL39_patu-8988t',\n",
    " 'CL40_patu-8988t',\n",
    " 'CL41_patu-8988t',\n",
    " 'CL42_patu-8988t',\n",
    " 'CL43_patu-8988t',\n",
    " 'CL44_patu-8988t',\n",
    " 'CL45_patu-8988t',\n",
    " 'CL46_patu-8988t',\n",
    " 'CL47_patu-8988t',\n",
    " 'CL48_patu-8988t',\n",
    " 'CL49_patu-8988t',\n",
    " 'CL50_patu-8988t',\n",
    " 'CL51_patu-8988t',\n",
    " 'CL52_patu-8988t',\n",
    " 'CL53_patu-8988t',\n",
    " 'CL54_patu-8988t',\n",
    " 'CL55_patu-8988t',\n",
    " 'CL56_patu-8988t',\n",
    " 'CL57_patu-8988t',\n",
    " 'CL58_patu-8988t',\n",
    " 'CL59_patu-8988t',\n",
    " 'CL60_patu-8988t',\n",
    " 'CL61_patu-8988t',\n",
    " 'CL62_patu-8988t',\n",
    " 'CL63_patu-8988t',\n",
    " 'CL64_patu-8988t',\n",
    " 'CL65_patu-8988t',\n",
    " 'CL66_patu-8988t',\n",
    " 'CL67_patu-8988t',\n",
    " 'CL68_patu-8988t',\n",
    " 'CL69_patu-8988t',\n",
    " 'CL70_patu-8988t',\n",
    " 'CL71_patu-8988t',\n",
    " 'CL72_patu-8988t',\n",
    " 'CL73_patu-8988t',\n",
    " 'CL74_patu-8988t',\n",
    " 'CL75_patu-8988t',\n",
    " 'CL76_patu-8988t',\n",
    " 'CL77_patu-8988t',\n",
    " 'CL78_patu-8988t',\n",
    " 'CL79_patu-8988t',\n",
    " 'CL80_patu-8988t',\n",
    " 'CL81_patu-8988t',\n",
    " 'CL82_patu-8988t',\n",
    " 'CL83_patu-8988t',\n",
    " 'CL84_patu-8988t',\n",
    " 'CL85_patu-8988t',\n",
    " 'CL86_patu-8988t',\n",
    " 'CL87_patu-8988t',\n",
    " 'CL88_patu-8988t',\n",
    " 'CL89_patu-8988t',\n",
    " 'CL90_patu-8988t',\n",
    " 'CL91_patu-8988t',\n",
    " 'CL92_patu-8988t',\n",
    " 'CL93_patu-8988t',\n",
    " 'CL94_patu-8988t',\n",
    " 'CL95_patu-8988t',\n",
    " 'CL96_patu-8988t',\n",
    " 'CL97_patu-8988t',\n",
    " 'CL98_patu-8988t',\n",
    " 'CL99_patu-8988t',\n",
    " 'CL100_patu-8988t',\n",
    " 'CL101_patu-8988t',\n",
    " 'CL102_patu-8988t',\n",
    " 'CL103_patu-8988t',\n",
    " 'CL104_patu-8988t',\n",
    " 'CL105_patu-8988t',\n",
    " 'CL106_patu-8988t',\n",
    " 'CL107_patu-8988t',\n",
    " 'CL108_patu-8988t',\n",
    " 'CL109_patu-8988t',\n",
    " 'CL110_patu-8988t',\n",
    " 'CL111_patu-8988t',\n",
    " 'CL112_patu-8988t',\n",
    " 'CL113_patu-8988t',\n",
    " 'CL114_patu-8988t',\n",
    " 'CL115_patu-8988t',\n",
    " 'CL116_patu-8988t',\n",
    " 'CL117_patu-8988t',\n",
    " 'CL118_patu-8988t',\n",
    " 'CL119_patu-8988t',\n",
    " 'CL120_patu-8988t',\n",
    " 'CL121_patu-8988t',\n",
    " 'CL122_patu-8988t',\n",
    " 'CL123_patu-8988t',\n",
    " 'CL124_patu-8988t',\n",
    " 'CL125_patu-8988t',\n",
    " 'CL126_patu-8988t',\n",
    " 'CL127_patu-8988t',\n",
    " 'CL128_patu-8988t',\n",
    " 'AC1_patu-8988t',\n",
    " 'AC2_patu-8988t',\n",
    " 'AC3_patu-8988t',\n",
    " 'AC4_patu-8988t',\n",
    " 'AC5_patu-8988t',\n",
    " 'AC6_patu-8988t',\n",
    " 'AC7_patu-8988t',\n",
    " 'AC8_patu-8988t',\n",
    " 'AC9_patu-8988t',\n",
    " 'AC10_patu-8988t',\n",
    " 'AC11_patu-8988t',\n",
    " 'AC12_patu-8988t',\n",
    " 'AC13_patu-8988t',\n",
    " 'AC14_patu-8988t',\n",
    " 'AC15_patu-8988t',\n",
    " 'AC16_patu-8988t',\n",
    " 'AC17_patu-8988t',\n",
    " 'AC18_patu-8988t',\n",
    " 'AC19_patu-8988t',\n",
    " 'AC20_patu-8988t',\n",
    " 'AC21_patu-8988t',\n",
    " 'AC22_patu-8988t',\n",
    " 'AC23_patu-8988t',\n",
    " 'AC24_patu-8988t',\n",
    " 'AC25_patu-8988t',\n",
    " 'AC26_patu-8988t',\n",
    " 'AC27_patu-8988t',\n",
    " 'AC28_patu-8988t',\n",
    " 'AC29_patu-8988t',\n",
    " 'AC30_patu-8988t',\n",
    " 'AC31_patu-8988t',\n",
    " 'AC32_patu-8988t',\n",
    " 'AC33_patu-8988t',\n",
    " 'AC34_patu-8988t',\n",
    " 'AC35_patu-8988t',\n",
    " 'AC36_patu-8988t',\n",
    " 'AC37_patu-8988t',\n",
    " 'AC38_patu-8988t',\n",
    " 'AC39_patu-8988t',\n",
    " 'AC40_patu-8988t',\n",
    " 'AC41_patu-8988t',\n",
    " 'AC42_patu-8988t',\n",
    " 'AC43_patu-8988t',\n",
    " 'AC44_patu-8988t',\n",
    " 'AC45_patu-8988t',\n",
    " 'AC46_patu-8988t',\n",
    " 'AC47_patu-8988t',\n",
    " 'AC48_patu-8988t',\n",
    " 'AC49_patu-8988t',\n",
    " 'AC50_patu-8988t',\n",
    " 'AC51_patu-8988t',\n",
    " 'AC52_patu-8988t',\n",
    " 'AC53_patu-8988t',\n",
    " 'AC54_patu-8988t',\n",
    " 'AC55_patu-8988t',\n",
    " 'AC56_patu-8988t',\n",
    " 'AC57_patu-8988t',\n",
    " 'AC58_patu-8988t',\n",
    " 'AC59_patu-8988t',\n",
    " 'AC60_patu-8988t',\n",
    " 'AC61_patu-8988t',\n",
    " 'AC62_patu-8988t',\n",
    " 'AC63_patu-8988t',\n",
    " 'AC64_patu-8988t',\n",
    " 'AC65_patu-8988t',\n",
    " 'AC66_patu-8988t',\n",
    " 'AC67_patu-8988t',\n",
    " 'AC68_patu-8988t',\n",
    " 'AC69_patu-8988t',\n",
    " 'AC70_patu-8988t',\n",
    " 'AC71_patu-8988t',\n",
    " 'AC72_patu-8988t',\n",
    " 'AC73_patu-8988t',\n",
    " 'AC74_patu-8988t',\n",
    " 'AC75_patu-8988t',\n",
    " 'AC76_patu-8988t',\n",
    " 'AC77_patu-8988t',\n",
    " 'AC78_patu-8988t',\n",
    " 'AC79_patu-8988t',\n",
    " 'AC80_patu-8988t',\n",
    " 'AC81_patu-8988t',\n",
    " 'AC82_patu-8988t',\n",
    " 'AC83_patu-8988t',\n",
    " 'AC84_patu-8988t',\n",
    " 'AC85_patu-8988t',\n",
    " 'AC86_patu-8988t',\n",
    " 'AC87_patu-8988t',\n",
    " 'AC88_patu-8988t',\n",
    " 'AC89_patu-8988t',\n",
    " 'AC90_patu-8988t',\n",
    " 'AC91_patu-8988t',\n",
    " 'AC92_patu-8988t',\n",
    " 'AC93_patu-8988t',\n",
    " 'AC94_patu-8988t',\n",
    " 'AC95_patu-8988t',\n",
    " 'AC96_patu-8988t',\n",
    " 'AC97_patu-8988t',\n",
    " 'AC98_patu-8988t',\n",
    " 'AC99_patu-8988t',\n",
    " 'AC100_patu-8988t',\n",
    " 'AC101_patu-8988t',\n",
    " 'AC102_patu-8988t',\n",
    " 'AC103_patu-8988t',\n",
    " 'AC104_patu-8988t',\n",
    " 'AC105_patu-8988t',\n",
    " 'AC106_patu-8988t',\n",
    " 'AC107_patu-8988t',\n",
    " 'AC108_patu-8988t',\n",
    " 'AC109_patu-8988t',\n",
    " 'AC110_patu-8988t',\n",
    " 'AC111_patu-8988t',\n",
    " 'AC112_patu-8988t',\n",
    " 'AC113_patu-8988t',\n",
    " 'AC114_patu-8988t',\n",
    " 'AC115_patu-8988t',\n",
    " 'AC116_patu-8988t',\n",
    " 'AC117_patu-8988t',\n",
    " 'AC118_patu-8988t',\n",
    " 'AC119_patu-8988t',\n",
    " 'AC120_patu-8988t',\n",
    " 'AC121_patu-8988t',\n",
    " 'AC122_patu-8988t',\n",
    " 'AC123_patu-8988t',\n",
    " 'AC124_patu-8988t',\n",
    " 'AC125_patu-8988t',\n",
    " 'AC126_patu-8988t',\n",
    " 'AC127_patu-8988t',\n",
    " 'AC128_patu-8988t',\n",
    " 'AC129_patu-8988t',\n",
    " 'AC130_patu-8988t',\n",
    " 'AC131_patu-8988t',\n",
    " 'AC132_patu-8988t',\n",
    " 'AC133_patu-8988t',\n",
    " 'AC134_patu-8988t',\n",
    " 'AC135_patu-8988t',\n",
    " 'AC136_patu-8988t',\n",
    " 'AC137_patu-8988t',\n",
    " 'AC138_patu-8988t',\n",
    " 'AC139_patu-8988t',\n",
    " 'AC140_patu-8988t',\n",
    " 'AC141_patu-8988t',\n",
    " 'AC142_patu-8988t',\n",
    " 'AC143_patu-8988t',\n",
    " 'AC144_patu-8988t',\n",
    " 'AC145_patu-8988t',\n",
    " 'AC146_patu-8988t',\n",
    " 'AC147_patu-8988t',\n",
    " 'AC148_patu-8988t',\n",
    " 'AC149_patu-8988t',\n",
    " 'AC150_patu-8988t',\n",
    " 'AC151_patu-8988t',\n",
    " 'AC152_patu-8988t',\n",
    " 'AC153_patu-8988t',\n",
    " 'AC154_patu-8988t',\n",
    " 'AC155_patu-8988t',\n",
    " 'AC156_patu-8988t',\n",
    " 'AC157_patu-8988t'\n",
    "]"
   ]
  },
  {
   "cell_type": "code",
   "execution_count": null,
   "id": "df88e0c3",
   "metadata": {},
   "outputs": [],
   "source": [
    "df_hct_not_ligandable, df_hct_ligandable = get_ligandability_w_dataset_cutoff(new_hct_df_ligandability, hct_compound_list, 4, 1)"
   ]
  },
  {
   "cell_type": "code",
   "execution_count": null,
   "id": "d7067118",
   "metadata": {},
   "outputs": [],
   "source": [
    "df_hek_not_ligandable, df_hek_ligandable = get_ligandability_w_dataset_cutoff(new_hek_df_ligandability, hek_compound_list, 4, 1)"
   ]
  },
  {
   "cell_type": "code",
   "execution_count": null,
   "id": "0cf4854a",
   "metadata": {},
   "outputs": [],
   "source": [
    "df_patu_not_ligandable, df_patu_ligandable = get_ligandability_w_dataset_cutoff(new_patu_df_ligandability, patu_compound_list, 4, 1)"
   ]
  },
  {
   "cell_type": "code",
   "execution_count": null,
   "id": "479dfcdc",
   "metadata": {},
   "outputs": [],
   "source": [
    "new_df_hct_ligandability = pd.concat([df_hct_not_ligandable, df_hct_ligandable])"
   ]
  },
  {
   "cell_type": "code",
   "execution_count": null,
   "id": "4a71c379",
   "metadata": {},
   "outputs": [],
   "source": [
    "new_df_hek_ligandability = pd.concat([df_hek_not_ligandable, df_hek_ligandable])"
   ]
  },
  {
   "cell_type": "code",
   "execution_count": null,
   "id": "87424f75",
   "metadata": {},
   "outputs": [],
   "source": [
    "new_df_patu_ligandability = pd.concat([df_patu_not_ligandable, df_patu_ligandable])"
   ]
  },
  {
   "cell_type": "code",
   "execution_count": null,
   "id": "c20fa93c",
   "metadata": {},
   "outputs": [],
   "source": [
    "new_df_hct_ligandability.shape, new_df_hek_ligandability.shape"
   ]
  },
  {
   "cell_type": "code",
   "execution_count": null,
   "id": "f7494bfa",
   "metadata": {},
   "outputs": [],
   "source": [
    "new_df_hek_ligandability['proteinid'] = new_df_hek_ligandability['proteinid'].map(lambda x: str(x).replace(' ', '').strip())\n",
    "new_df_hek_ligandability['cysteineid'] = new_df_hek_ligandability['cysteineid'].map(lambda x: str(x).replace(' ', '').strip())\n",
    "new_df_hek_ligandability.shape"
   ]
  },
  {
   "cell_type": "code",
   "execution_count": null,
   "id": "0abf2731",
   "metadata": {},
   "outputs": [],
   "source": [
    "new_df_hct_ligandability['proteinid'] = new_df_hct_ligandability['proteinid'].map(lambda x: str(x).replace(' ', '').strip())\n",
    "new_df_hct_ligandability['cysteineid'] = new_df_hct_ligandability['cysteineid'].map(lambda x: str(x).replace(' ', '').strip())\n",
    "new_df_hct_ligandability.shape\n"
   ]
  },
  {
   "cell_type": "code",
   "execution_count": null,
   "id": "ac681370",
   "metadata": {},
   "outputs": [],
   "source": [
    "new_df_patu_ligandability['proteinid'] = new_df_patu_ligandability['proteinid'].map(lambda x: str(x).replace(' ', '').strip())\n",
    "new_df_patu_ligandability['cysteineid'] = new_df_patu_ligandability['cysteineid'].map(lambda x: str(x).replace(' ', '').strip())\n",
    "new_df_patu_ligandability.shape\n"
   ]
  },
  {
   "cell_type": "code",
   "execution_count": null,
   "id": "5cf4d19d",
   "metadata": {},
   "outputs": [],
   "source": [
    "new_df_hek_ligandability = new_df_hek_ligandability.drop_duplicates()\n",
    "new_df_hek_ligandability.shape"
   ]
  },
  {
   "cell_type": "code",
   "execution_count": null,
   "id": "8b4afdc3",
   "metadata": {},
   "outputs": [],
   "source": [
    "new_df_hct_ligandability = new_df_hct_ligandability.drop_duplicates()\n",
    "new_df_hct_ligandability.shape"
   ]
  },
  {
   "cell_type": "code",
   "execution_count": null,
   "id": "91f78819",
   "metadata": {},
   "outputs": [],
   "source": [
    "new_df_patu_ligandability = new_df_patu_ligandability.drop_duplicates()\n",
    "new_df_patu_ligandability.shape"
   ]
  },
  {
   "cell_type": "code",
   "execution_count": null,
   "id": "702f850a",
   "metadata": {},
   "outputs": [],
   "source": [
    "os.chdir(cd)\n",
    "os.chdir('results')\n",
    "new_df_hct_ligandability.to_csv('kuljanin_hct_ligandable_dataset.csv', index = False)\n",
    "new_df_hek_ligandability.to_csv('kuljanin_hek_ligandable_dataset.csv', index = False)\n",
    "new_df_patu_ligandability.to_csv('kuljanin_patu_ligandable_dataset.csv', index = False)"
   ]
  },
  {
   "cell_type": "markdown",
   "id": "bd625f5c",
   "metadata": {},
   "source": [
    "# Merge"
   ]
  },
  {
   "cell_type": "markdown",
   "id": "6c92480c",
   "metadata": {},
   "source": [
    "## cysteineid, chloroacetamide, acrylamide"
   ]
  },
  {
   "cell_type": "code",
   "execution_count": null,
   "id": "e20c8390",
   "metadata": {},
   "outputs": [],
   "source": [
    "scout_merge = df_scout[['cysteineid', 'Comp ratio (KBO2) hct116', 'Comp ratio (KBO3) hct116', 'Comp ratio (KBO5) hct116']]"
   ]
  },
  {
   "cell_type": "code",
   "execution_count": null,
   "id": "739d9227",
   "metadata": {},
   "outputs": [],
   "source": [
    "hct_merge = new_df_hct_ligandability.copy()\n",
    "hct_merge = hct_merge.drop(columns = ['chloroacetamide', 'acrylamide', 'ligandable', 'proteinid'])"
   ]
  },
  {
   "cell_type": "code",
   "execution_count": null,
   "id": "bc2bf682",
   "metadata": {},
   "outputs": [],
   "source": [
    "hek_merge = new_df_hek_ligandability.copy()\n",
    "hek_merge = hek_merge.drop(columns = ['chloroacetamide', 'acrylamide', 'ligandable', 'proteinid'])"
   ]
  },
  {
   "cell_type": "code",
   "execution_count": null,
   "id": "f88849f6",
   "metadata": {},
   "outputs": [],
   "source": [
    "patu_merge = new_df_patu_ligandability.copy()\n",
    "patu_merge = patu_merge.drop(columns = ['chloroacetamide', 'acrylamide', 'ligandable', 'proteinid'])"
   ]
  },
  {
   "cell_type": "code",
   "execution_count": null,
   "id": "9d7054d3",
   "metadata": {},
   "outputs": [],
   "source": [
    "merged = pd.merge(hct_merge, scout_merge, on = 'cysteineid', how = 'outer')"
   ]
  },
  {
   "cell_type": "code",
   "execution_count": null,
   "id": "8521b4d7",
   "metadata": {},
   "outputs": [],
   "source": [
    "merged = pd.merge(merged, hek_merge, on = 'cysteineid', how = 'outer')"
   ]
  },
  {
   "cell_type": "code",
   "execution_count": null,
   "id": "ef3df4d6",
   "metadata": {},
   "outputs": [],
   "source": [
    "merged = pd.merge(merged, patu_merge, on = 'cysteineid', how = 'outer')"
   ]
  },
  {
   "cell_type": "code",
   "execution_count": null,
   "id": "19bc64ea",
   "metadata": {},
   "outputs": [],
   "source": [
    "def get_colnames(df):\n",
    "    cols = df.columns.to_list()\n",
    "    \n",
    "    cl_cols = []\n",
    "    ac_cols = []\n",
    "    \n",
    "    for i in range(len(cols)):\n",
    "        if \"CL\" in cols[i]:\n",
    "            cl_cols.append(cols[i])\n",
    "            \n",
    "        if \"AC\" in cols[i]:\n",
    "            ac_cols.append(cols[i])\n",
    "            \n",
    "    return cl_cols, ac_cols"
   ]
  },
  {
   "cell_type": "code",
   "execution_count": null,
   "id": "dbbc9bca",
   "metadata": {},
   "outputs": [],
   "source": [
    "cl_cols, ac_cols = get_colnames(merged)"
   ]
  },
  {
   "cell_type": "code",
   "execution_count": null,
   "id": "84847b5f",
   "metadata": {},
   "outputs": [],
   "source": [
    "slcabpp_chloro_cols = cl_cols + ['Comp ratio (KBO2) hct116', 'Comp ratio (KBO3) hct116']\n",
    "slcabpp_acryl_cols = ac_cols + ['Comp ratio (KBO5) hct116']"
   ]
  },
  {
   "cell_type": "code",
   "execution_count": null,
   "id": "a8a95bfe",
   "metadata": {},
   "outputs": [],
   "source": [
    "chloro_labels = get_ligandable_category(merged, slcabpp_chloro_cols, False, 4)\n",
    "acryl_labels = get_ligandable_category(merged, slcabpp_acryl_cols, False, 4)"
   ]
  },
  {
   "cell_type": "code",
   "execution_count": null,
   "id": "2d0bbb07",
   "metadata": {},
   "outputs": [],
   "source": [
    "new_merged = merged.copy()"
   ]
  },
  {
   "cell_type": "code",
   "execution_count": null,
   "id": "75065ca2",
   "metadata": {},
   "outputs": [],
   "source": [
    "new_merged['chloroacetamide'] = chloro_labels\n",
    "new_merged['acrylamide'] = acryl_labels"
   ]
  },
  {
   "cell_type": "code",
   "execution_count": null,
   "id": "98888023",
   "metadata": {},
   "outputs": [],
   "source": [
    "new_merged['ligandable'] = np.where((new_merged['chloroacetamide'] == 'yes') | (new_merged['acrylamide'] == 'yes'), 'yes', None)"
   ]
  },
  {
   "cell_type": "code",
   "execution_count": null,
   "id": "62323c21",
   "metadata": {},
   "outputs": [],
   "source": [
    "new_merged.shape, len(new_merged['cysteineid'].unique())"
   ]
  },
  {
   "cell_type": "code",
   "execution_count": null,
   "id": "f1a7f2ba",
   "metadata": {},
   "outputs": [],
   "source": [
    "new_merged['ligandable'].value_counts()"
   ]
  },
  {
   "cell_type": "code",
   "execution_count": null,
   "id": "cc7f6b7c",
   "metadata": {},
   "outputs": [],
   "source": [
    "new_merged['proteinid'] = new_merged['cysteineid'].map(lambda x: str(x).split('_C')[0].strip())"
   ]
  },
  {
   "cell_type": "code",
   "execution_count": null,
   "id": "290446dd",
   "metadata": {},
   "outputs": [],
   "source": [
    "new_merged.to_csv('kuljanin_ligandable_dataset.csv', index = False)"
   ]
  },
  {
   "cell_type": "markdown",
   "id": "7ad52d1f",
   "metadata": {},
   "source": [
    "# Read DIA Data"
   ]
  },
  {
   "cell_type": "markdown",
   "id": "c39402c5",
   "metadata": {},
   "source": [
    "\"Applying the same criteria of defining “ligandable cysteines”\n",
    "(e.g., individual cysteine with >75% competition in IA-alkyne\n",
    "probe labeling by two or more ligand fragments)\""
   ]
  },
  {
   "cell_type": "code",
   "execution_count": null,
   "id": "fe0c232a",
   "metadata": {},
   "outputs": [],
   "source": [
    "# map peptides to 2201 uniprot fasta file \n",
    "\n",
    "def get_uniprot_dict(directory, file):\n",
    "    os.chdir(directory)\n",
    "    \n",
    "    uniprot_dict = {}\n",
    "    for record in SeqIO.parse(file, \"fasta\"):\n",
    "        protein = str(record.id).split('|')[1]\n",
    "        uniprot_dict[protein] = record.seq\n",
    "    \n",
    "    os.chdir(cd)\n",
    "    return uniprot_dict"
   ]
  },
  {
   "cell_type": "code",
   "execution_count": null,
   "id": "ca12e37e",
   "metadata": {},
   "outputs": [],
   "source": [
    "uniprot_dict = get_uniprot_dict('/Users/lisamarieboatner/Dropbox/Backus/master/uniprot/data/220505', '2201_uniprot.fasta')"
   ]
  },
  {
   "cell_type": "code",
   "execution_count": null,
   "id": "3492bc1d",
   "metadata": {},
   "outputs": [],
   "source": [
    "def get_residue_aa(identifier, peptide, uniprot_dict, uniprot_aa):\n",
    "    if (peptide in str(uniprot_dict[identifier])):\n",
    "        correct_aa = str(uniprot_dict[identifier]).index(peptide) + (int(uniprot_aa))\n",
    "        return int(correct_aa)\n",
    "    else:\n",
    "        return '--'"
   ]
  },
  {
   "cell_type": "code",
   "execution_count": null,
   "id": "1a37acda",
   "metadata": {},
   "outputs": [],
   "source": [
    "def get_cysetine_ids(df, uniprot_dict):\n",
    "    cysteines = []\n",
    "    missing_protein_ids = []\n",
    "    \n",
    "    for index, row in df.iterrows():\n",
    "        protein = row['Proteins']\n",
    "        modified_peptide = row['Peptides']\n",
    "        modified_aa = modified_peptide.index('*')\n",
    "        unmodified_peptide = modified_peptide.replace('*', '')\n",
    "\n",
    "        if (protein not in uniprot_dict.keys()):\n",
    "            correct_aa = '--'\n",
    "            missing_protein_ids.append(protein)\n",
    "        else:\n",
    "            correct_aa = get_residue_aa(protein, unmodified_peptide, uniprot_dict, modified_aa)\n",
    "    \n",
    "        cysteines.append(correct_aa)\n",
    "        \n",
    "    return cysteines, missing_protein_ids"
   ]
  },
  {
   "cell_type": "markdown",
   "id": "e021cbae",
   "metadata": {},
   "source": [
    "## Read ligandability data"
   ]
  },
  {
   "cell_type": "code",
   "execution_count": null,
   "id": "0f8906b1",
   "metadata": {},
   "outputs": [],
   "source": [
    "os.chdir(cd)\n",
    "os.chdir('DIA')"
   ]
  },
  {
   "cell_type": "markdown",
   "id": "c161950a",
   "metadata": {},
   "source": [
    "## Read All Cysteines"
   ]
  },
  {
   "cell_type": "code",
   "execution_count": null,
   "id": "3a53fdec",
   "metadata": {},
   "outputs": [],
   "source": [
    "df_dia_ligandability = pd.read_excel('ja1c11053_si_003.xlsx', sheet_name='all cysteines')"
   ]
  },
  {
   "cell_type": "code",
   "execution_count": null,
   "id": "afbb9440",
   "metadata": {},
   "outputs": [],
   "source": [
    "df_dia_ligandability = df_dia_ligandability[df_dia_ligandability['Proteins'].str.count(',') == 0]"
   ]
  },
  {
   "cell_type": "code",
   "execution_count": null,
   "id": "944a99ce",
   "metadata": {},
   "outputs": [],
   "source": [
    "all_stars = count_star(df_dia_ligandability)\n",
    "df_dia_ligandability['modified_cysteines'] = all_stars"
   ]
  },
  {
   "cell_type": "code",
   "execution_count": null,
   "id": "3ff26e61",
   "metadata": {},
   "outputs": [],
   "source": [
    "df_dia_ligandability['modified_cysteines'].value_counts()"
   ]
  },
  {
   "cell_type": "code",
   "execution_count": null,
   "id": "90e285c6",
   "metadata": {},
   "outputs": [],
   "source": [
    "df_dia_ligandability = df_dia_ligandability[df_dia_ligandability['modified_cysteines'] == 1]"
   ]
  },
  {
   "cell_type": "code",
   "execution_count": null,
   "id": "cf3322c7",
   "metadata": {},
   "outputs": [],
   "source": [
    "dia_ligandability_cysteine_ids, dia_ligandability_missing_protein_ids = get_cysetine_ids(df_dia_ligandability, uniprot_dict)"
   ]
  },
  {
   "cell_type": "code",
   "execution_count": null,
   "id": "a5811a58",
   "metadata": {},
   "outputs": [],
   "source": [
    "len(dia_ligandability_missing_protein_ids)"
   ]
  },
  {
   "cell_type": "markdown",
   "id": "700e8334",
   "metadata": {},
   "source": [
    "There are 113 proteins identified in DIA ligandability experiment that were not found in 2207 fasta. 48 were not found in 2207 fasta out of the peptides mapped to single protein entries. 48 were not found in 2207 fasta out of the peptides mapped to single protein entries and single modified peptides."
   ]
  },
  {
   "cell_type": "code",
   "execution_count": null,
   "id": "fa5c28a7",
   "metadata": {},
   "outputs": [],
   "source": [
    "df_dia_ligandability['Cysteine'] = dia_ligandability_cysteine_ids"
   ]
  },
  {
   "cell_type": "code",
   "execution_count": null,
   "id": "70f9bbf8",
   "metadata": {},
   "outputs": [],
   "source": [
    "df_dia_ligandability = df_dia_ligandability[df_dia_ligandability['Cysteine'] != '--']"
   ]
  },
  {
   "cell_type": "code",
   "execution_count": null,
   "id": "5999587c",
   "metadata": {},
   "outputs": [],
   "source": [
    "df_dia_ligandability['proteinid'] = df_dia_ligandability['Proteins']\n",
    "df_dia_ligandability['cysteineid'] = df_dia_ligandability['proteinid'] + '_C' + df_dia_ligandability['Cysteine'].astype(str)"
   ]
  },
  {
   "cell_type": "markdown",
   "id": "86ac1dc6",
   "metadata": {},
   "source": [
    "## cysteineid, chloroacetamide, acrylamide"
   ]
  },
  {
   "cell_type": "code",
   "execution_count": null,
   "id": "3b071df1",
   "metadata": {},
   "outputs": [],
   "source": [
    "dia_cols = df_dia_ligandability.columns.to_list()[2:26]"
   ]
  },
  {
   "cell_type": "code",
   "execution_count": null,
   "id": "a5b2a0be",
   "metadata": {},
   "outputs": [],
   "source": [
    "for i in range(len(dia_cols)):\n",
    "    df_dia_ligandability = df_dia_ligandability.rename(columns = {dia_cols[i]: dia_cols[i] + '_' + 'ramos'})"
   ]
  },
  {
   "cell_type": "code",
   "execution_count": null,
   "id": "bac43248",
   "metadata": {},
   "outputs": [],
   "source": [
    "dia_chloro_cols = [\n",
    " 'F2_ramos',\n",
    " 'F3_ramos',\n",
    " 'F4_ramos',\n",
    " 'F7_ramos',\n",
    " 'F8_ramos',\n",
    " 'F9_ramos',\n",
    " 'F10_ramos',\n",
    " 'F11_ramos',\n",
    " 'F12_ramos',\n",
    " 'F13_ramos',\n",
    " 'F20_ramos',\n",
    " 'F21_ramos',\n",
    " 'F27_ramos',\n",
    " 'F28_ramos',\n",
    " 'F30_ramos',\n",
    " 'F32_ramos',\n",
    " 'F33_ramos',\n",
    " 'F52_ramos'\n",
    "]"
   ]
  },
  {
   "cell_type": "code",
   "execution_count": null,
   "id": "d50753b2",
   "metadata": {},
   "outputs": [],
   "source": [
    "dia_acryl_cols = [\n",
    " 'F5_ramos',\n",
    " 'F14_ramos',\n",
    " 'F23_ramos',\n",
    " 'F31_ramos',\n",
    " 'F38_ramos',\n",
    " 'F56_ramos'\n",
    "]"
   ]
  },
  {
   "cell_type": "code",
   "execution_count": null,
   "id": "62f02ad1",
   "metadata": {},
   "outputs": [],
   "source": [
    "chloro_labels = get_ligandable_category(df_dia_ligandability, dia_chloro_cols, True, 4)"
   ]
  },
  {
   "cell_type": "code",
   "execution_count": null,
   "id": "6f9a8898",
   "metadata": {},
   "outputs": [],
   "source": [
    "acryl_labels = get_ligandable_category(df_dia_ligandability, dia_acryl_cols, True, 4)"
   ]
  },
  {
   "cell_type": "code",
   "execution_count": null,
   "id": "bb1f8ccd",
   "metadata": {},
   "outputs": [],
   "source": [
    "new_dia_ligandability_df = df_dia_ligandability.copy()\n",
    "new_dia_ligandability_df = new_dia_ligandability_df.drop(columns = [\n",
    "    'Peptides',\n",
    "                                                                     'Proteins',\n",
    "                                                                     'Unnamed: 26',\n",
    "                                                                     'Unnamed: 27',\n",
    "                                                                     'Unnamed: 28',\n",
    "                                                                     'Unnamed: 29',\n",
    "                                                                     'Unnamed: 30',\n",
    "                                                                     'Unnamed: 31',\n",
    "                                                                     'Unnamed: 32',\n",
    "                                                                     'Unnamed: 33',\n",
    "                                                                     'Unnamed: 34',\n",
    "                                                                     'Proteins',\n",
    "                                                                     'Cysteine'\n",
    "                                                                    ])"
   ]
  },
  {
   "cell_type": "code",
   "execution_count": null,
   "id": "ad414a1b",
   "metadata": {},
   "outputs": [],
   "source": [
    "new_dia_ligandability_df['chloroacetamide'] = chloro_labels\n",
    "new_dia_ligandability_df['acrylamide'] = acryl_labels"
   ]
  },
  {
   "cell_type": "code",
   "execution_count": null,
   "id": "14e557e3",
   "metadata": {},
   "outputs": [],
   "source": [
    "new_df_dia_cols = new_dia_ligandability_df.columns.to_list()[:24]"
   ]
  },
  {
   "cell_type": "code",
   "execution_count": null,
   "id": "fd220f6a",
   "metadata": {},
   "outputs": [],
   "source": [
    "def get_dia_ligandable_category(df, cols, cutoff):\n",
    "    lig_count = 0\n",
    "    lig = []\n",
    "    \n",
    "    df = df.replace('--', 0)\n",
    "    \n",
    "    for index, row in df.iterrows():\n",
    "        current_count = 0\n",
    "        current_ratios = []\n",
    "        current_cols = []\n",
    "        for j in range(len(cols)):\n",
    "            if row[cols[j]] != None:\n",
    "                current_ratio = float(row[cols[j]])\n",
    "                if current_ratio > cutoff:\n",
    "                    current_count += 1\n",
    "                    \n",
    "        if current_count >=2:\n",
    "            lig.append('yes')\n",
    "            lig_count += 1\n",
    "        else:\n",
    "            lig.append(None)\n",
    "            \n",
    "    print(lig_count)\n",
    "    return lig\n",
    "            "
   ]
  },
  {
   "cell_type": "code",
   "execution_count": null,
   "id": "84d3eab5",
   "metadata": {},
   "outputs": [],
   "source": [
    "ligandable_dia = get_dia_ligandable_category(new_dia_ligandability_df, new_df_dia_cols, 4)"
   ]
  },
  {
   "cell_type": "code",
   "execution_count": null,
   "id": "48721c3e",
   "metadata": {},
   "outputs": [],
   "source": [
    "new_dia_ligandability_df['ligandable'] = ligandable_dia"
   ]
  },
  {
   "cell_type": "code",
   "execution_count": null,
   "id": "0f7eaa3c",
   "metadata": {},
   "outputs": [],
   "source": [
    "new_dia_ligandability_df['cysteineid'] = new_dia_ligandability_df['cysteineid'].str.strip()"
   ]
  },
  {
   "cell_type": "code",
   "execution_count": null,
   "id": "710651b7",
   "metadata": {},
   "outputs": [],
   "source": [
    "dia_dup_ids = get_dup_ids(new_dia_ligandability_df)\n",
    "len(dia_dup_ids)"
   ]
  },
  {
   "cell_type": "code",
   "execution_count": null,
   "id": "b1ba6b76",
   "metadata": {},
   "outputs": [],
   "source": [
    "new_dia_ligandability_df['duplicate'] = np.where(new_dia_ligandability_df['cysteineid'].isin(dia_dup_ids), 1, 0)\n",
    "dia_no_dups = new_dia_ligandability_df[new_dia_ligandability_df['duplicate'] == 0]"
   ]
  },
  {
   "cell_type": "code",
   "execution_count": null,
   "id": "5001c73e",
   "metadata": {},
   "outputs": [],
   "source": [
    "dia_no_dups = dia_no_dups.replace('--', None)"
   ]
  },
  {
   "cell_type": "code",
   "execution_count": null,
   "id": "fe3d1118",
   "metadata": {},
   "outputs": [],
   "source": [
    "os.chdir('../')\n",
    "os.chdir('results')\n",
    "dia_no_dups.to_csv('yang_ligandable_dataset.csv', index = False)"
   ]
  },
  {
   "cell_type": "code",
   "execution_count": null,
   "id": "45fea867",
   "metadata": {},
   "outputs": [],
   "source": []
  }
 ],
 "metadata": {
  "kernelspec": {
   "display_name": "Python 3 (ipykernel)",
   "language": "python",
   "name": "python3"
  },
  "language_info": {
   "codemirror_mode": {
    "name": "ipython",
    "version": 3
   },
   "file_extension": ".py",
   "mimetype": "text/x-python",
   "name": "python",
   "nbconvert_exporter": "python",
   "pygments_lexer": "ipython3",
   "version": "3.9.7"
  }
 },
 "nbformat": 4,
 "nbformat_minor": 5
}
