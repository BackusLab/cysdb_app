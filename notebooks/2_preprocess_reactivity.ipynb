{
 "cells": [
  {
   "cell_type": "markdown",
   "id": "36fccb12",
   "metadata": {},
   "source": [
    "Reformat published datasets for CysteineomeDB. Categories: Dataset Identified, Reactive, and Ligandable. Note: Annotations from authors were used to determine \"hyperreactivity\" (R < 2)."
   ]
  },
  {
   "cell_type": "markdown",
   "id": "0e870d93",
   "metadata": {},
   "source": [
    "# Setup Environment"
   ]
  },
  {
   "cell_type": "code",
   "execution_count": null,
   "id": "15f1f9c1",
   "metadata": {},
   "outputs": [],
   "source": [
    "import os, sys\n",
    "import numpy as np\n",
    "import matplotlib.pyplot as plt\n",
    "import pandas as pd\n",
    "import csv\n",
    "import matplotlib\n",
    "import numpy as np\n",
    "import math\n",
    "from matplotlib.pyplot import figure\n",
    "import Bio\n",
    "from Bio import SeqIO\n",
    "from functools import reduce\n",
    "import seaborn as sns\n",
    "from statistics import mean"
   ]
  },
  {
   "cell_type": "code",
   "execution_count": null,
   "id": "2c2056bf",
   "metadata": {},
   "outputs": [],
   "source": [
    "cd = os.getcwd()\n",
    "cd"
   ]
  },
  {
   "cell_type": "code",
   "execution_count": null,
   "id": "f2339ace",
   "metadata": {},
   "outputs": [],
   "source": [
    "date = '220919'"
   ]
  },
  {
   "cell_type": "code",
   "execution_count": null,
   "id": "0760fb7c",
   "metadata": {},
   "outputs": [],
   "source": [
    "path_data = os.path.join(os.getcwd(), 'results')\n",
    "if not os.path.exists(path_data):\n",
    "    os.makedirs(path_data)"
   ]
  },
  {
   "cell_type": "code",
   "execution_count": null,
   "id": "ccd0cae0",
   "metadata": {},
   "outputs": [],
   "source": [
    "# merge identifiers from all csvs\n",
    "\n",
    "def get_new_df(dfs, dataset, col1, col2, cys):\n",
    "    new_df = pd.concat(dfs)\n",
    "    \n",
    "    new_df = new_df[new_df[col1].str.contains(\"contaminant\") == False]\n",
    "    \n",
    "    if dataset == 'kuljanin_gygi':\n",
    "        new_df['proteinid'] = new_df[col1].map(lambda x: str(x).split('|')[1])\n",
    "        new_df['resid'] = new_df[col2].map(lambda x: 'C' + str(x))\n",
    "    elif dataset == 'weerapana_cravatt':\n",
    "        new_df['proteinid'] = new_df[col1].map(lambda x: str(x))\n",
    "        new_df['resid'] = new_df[col2].map(lambda x: 'C' + str(x))\n",
    "    elif dataset == 'backus_cravatt':\n",
    "        new_df['proteinid'] = new_df['Identifier'].map(lambda x: str(x).split('_')[0])\n",
    "        new_df['resid'] = new_df['Identifier'].map(lambda x: str(x).split('_')[-1]) \n",
    "    elif dataset == 'yan_backus':\n",
    "        new_df['proteinid'] = new_df[col1]\n",
    "        new_df['resid'] = new_df['identifier'].map(lambda x: 'C' + str(x).split('_')[-1]) \n",
    "    elif dataset == 'yang_wang':\n",
    "        new_df['proteinid'] = new_df[col1]\n",
    "        new_df['resid'] = new_df[col2].map(lambda x: 'C' + str(x))         \n",
    "    else:\n",
    "        new_df = new_df.rename(columns = {col1: 'proteinid', col2: 'resid'})\n",
    "        \n",
    "    new_df['cysteineid'] = new_df['proteinid'] + '_' + new_df['resid'].astype(str)\n",
    "    new_df['dataset'] = dataset\n",
    "    new_df['identified'] = 1\n",
    "    new_df['identified_datasets'] = dataset\n",
    "    \n",
    "    if cys == True:\n",
    "        new_df['level'] = 'cysteine'\n",
    "        new_df = new_df[['level', 'cysteineid', 'proteinid', 'dataset', 'identified', 'identified_datasets']]\n",
    "    else:\n",
    "        new_df['level'] = 'protein'\n",
    "        new_df = new_df[['level', 'proteinid', 'dataset', 'identified', 'identified_datasets']]\n",
    "    new_df = new_df.drop_duplicates()\n",
    "    \n",
    "    return new_df"
   ]
  },
  {
   "cell_type": "code",
   "execution_count": null,
   "id": "95d7b730",
   "metadata": {},
   "outputs": [],
   "source": [
    "# create protein identifiers\n",
    "# UniProtKB\n",
    "\n",
    "def get_pro_uniprot_identifier(master, df, dataset, category, category_datasets, col1, col2):\n",
    "    if dataset == 'weerapana_cravatt':\n",
    "        df['proteinid'] = df[col1].map(lambda x: str(x))\n",
    "    elif dataset == 'kuljanin_gygi':\n",
    "        df = df[[col1, col2]]\n",
    "        df = df.drop_duplicates()\n",
    "        df['proteinid'] = df[col1].map(lambda x: str(x).split('|')[1])\n",
    "    elif dataset == 'backus_cravatt':\n",
    "        df['proteinid'] = df['Identifier'].map(lambda x: str(x).split('_')[0])\n",
    "        df = df[['proteinid']]\n",
    "        df = df.drop_duplicates()\n",
    "    elif dataset == 'yang_wang':\n",
    "        df['proteinid'] = df[col1]\n",
    "    else:\n",
    "        df = df[[col1]]\n",
    "        df = df.drop_duplicates()\n",
    "        df = df.rename(columns = {col1: 'proteinid'})\n",
    "\n",
    "    df_ids = list(df['proteinid'].unique())\n",
    "    \n",
    "    master[category] = np.where(master['proteinid'].isin(df_ids), 1, 0)\n",
    "    category_df = master[master[category] == 1]\n",
    "    category_df[category  + '_datasets'] = [category_datasets] * category_df.shape[0]\n",
    "    non_category_df = master[master[category] == 0]\n",
    "    \n",
    "    new_df = pd.concat([category_df, non_category_df])\n",
    "    \n",
    "    return new_df"
   ]
  },
  {
   "cell_type": "code",
   "execution_count": null,
   "id": "7ce86ee6",
   "metadata": {},
   "outputs": [],
   "source": [
    "# create cysteine identifiers\n",
    "# UniProtKB_C#\n",
    "\n",
    "def get_cys_uniprot_identifier(master, df, dataset, category, category_datasets, col1, col2):\n",
    "    if dataset == 'weerapana_cravatt':\n",
    "        df['proteinid'] = df[col1].map(lambda x: str(x))\n",
    "        df['resid'] = df[col2].map(lambda x: 'C' + str(x))\n",
    "    elif dataset == 'kuljanin_gygi':\n",
    "        df = df[[col1, col2]]\n",
    "        df = df.drop_duplicates()\n",
    "        df['proteinid'] = df[col1].map(lambda x: str(x).split('|')[1])\n",
    "        df['resid'] = df[col2].map(lambda x: 'C' + str(x))\n",
    "    elif dataset == 'backus_cravatt':\n",
    "        df['proteinid'] = df['Identifier'].map(lambda x: str(x).split('_')[0])\n",
    "        df['resid'] = df['Identifier'].map(lambda x: str(x).split('_')[-1])  \n",
    "        df = df[['proteinid', 'resid']]\n",
    "        df = df.drop_duplicates()\n",
    "    elif dataset == 'yang_wang':\n",
    "        df['proteinid'] = df[col1]\n",
    "        df['resid'] = df[col2].map(lambda x: 'C' + str(x)) \n",
    "    else:\n",
    "        df = df[[col1, col2]]\n",
    "        df = df.drop_duplicates()\n",
    "        df = df.rename(columns = {col1: 'proteinid', col2: 'resid'})\n",
    "        \n",
    "    df['cysteineid'] = df['proteinid'] + '_' + df['resid'].astype(str)\n",
    "    df_ids = list(df['cysteineid'].unique())\n",
    "    \n",
    "    master[category] = np.where(master['cysteineid'].isin(df_ids), 1, 0)\n",
    "    category_df = master[master[category] == 1]\n",
    "    category_df[category  + '_datasets'] = [category_datasets] * category_df.shape[0]\n",
    "    non_category_df = master[master[category] == 0]\n",
    "    \n",
    "    new_df = pd.concat([category_df, non_category_df])\n",
    "    \n",
    "    return new_df"
   ]
  },
  {
   "cell_type": "code",
   "execution_count": null,
   "id": "51a4fe8e",
   "metadata": {},
   "outputs": [],
   "source": [
    "def list_to_string(lst, symbol):\n",
    "    return (symbol.join([str(elem) for elem in lst]))"
   ]
  },
  {
   "cell_type": "code",
   "execution_count": null,
   "id": "b626da51",
   "metadata": {},
   "outputs": [],
   "source": [
    "# create cysdb reactivity bins\n",
    "\n",
    "def get_reactivity_bin(df, mean):\n",
    "    reactivity_labels = []\n",
    "    \n",
    "    for index, row in df.iterrows():\n",
    "        ratio = row[mean]\n",
    "        if ratio < 2:\n",
    "            reactivity_labels.append('High')\n",
    "        elif (ratio > 2) & (ratio <= 5):\n",
    "            reactivity_labels.append('Medium')\n",
    "        else:\n",
    "            reactivity_labels.append('Low')\n",
    "    return reactivity_labels"
   ]
  },
  {
   "cell_type": "markdown",
   "id": "ecd10eff",
   "metadata": {},
   "source": [
    "# Extract Experimental Data"
   ]
  },
  {
   "cell_type": "markdown",
   "id": "44010a1a",
   "metadata": {},
   "source": [
    "# Read Quantifying Functional Cysteines Data"
   ]
  },
  {
   "cell_type": "code",
   "execution_count": null,
   "id": "2d8fa1c9",
   "metadata": {},
   "outputs": [],
   "source": [
    "os.chdir(cd)\n",
    "os.chdir('Functional')"
   ]
  },
  {
   "cell_type": "code",
   "execution_count": null,
   "id": "76140af4",
   "metadata": {},
   "outputs": [],
   "source": [
    "df_function = pd.read_csv('nature_2010.csv')\n",
    "df_function = df_function[df_function['Identifier'].str.contains('Reverse') == False]\n",
    "df_function = df_function[df_function['Identifier'].str.contains('contaminant') == False]"
   ]
  },
  {
   "cell_type": "code",
   "execution_count": null,
   "id": "042e95b2",
   "metadata": {},
   "outputs": [],
   "source": [
    "weerapana_reactivity_df = df_function[['Identifier', 'Average']]"
   ]
  },
  {
   "cell_type": "code",
   "execution_count": null,
   "id": "a79eee84",
   "metadata": {},
   "outputs": [],
   "source": [
    "weerapana_reactivity_df = weerapana_reactivity_df.rename(columns = {'Average': 'weerapana_mean', 'Identifier': 'cysteineid'})"
   ]
  },
  {
   "cell_type": "code",
   "execution_count": null,
   "id": "4d673f2a",
   "metadata": {},
   "outputs": [],
   "source": [
    "weerapana_reactivity_df.shape[0], len(weerapana_reactivity_df['cysteineid'].unique())"
   ]
  },
  {
   "cell_type": "code",
   "execution_count": null,
   "id": "e3837836",
   "metadata": {},
   "outputs": [],
   "source": [
    "weerapana_reactivity_df['weerapana_reactivity_category'] = get_reactivity_bin(weerapana_reactivity_df, 'weerapana_mean')"
   ]
  },
  {
   "cell_type": "code",
   "execution_count": null,
   "id": "bf4968af",
   "metadata": {},
   "outputs": [],
   "source": [
    "os.chdir('../')\n",
    "os.chdir('results')\n",
    "weerapana_reactivity_df.to_csv('weerapana_reactive_dataset.csv', index = False)"
   ]
  },
  {
   "cell_type": "markdown",
   "id": "02af2034",
   "metadata": {},
   "source": [
    "# Read Mapping Data"
   ]
  },
  {
   "cell_type": "code",
   "execution_count": null,
   "id": "46c95543",
   "metadata": {},
   "outputs": [],
   "source": [
    "os.chdir(cd)\n",
    "os.chdir('Mapping')"
   ]
  },
  {
   "cell_type": "code",
   "execution_count": null,
   "id": "49197581",
   "metadata": {},
   "outputs": [],
   "source": [
    "df_mapping = pd.read_excel('msb20209840-sup-0020-datasetev18.xlsx', sheet_name='Sheet2')"
   ]
  },
  {
   "cell_type": "code",
   "execution_count": null,
   "id": "419b52b9",
   "metadata": {},
   "outputs": [],
   "source": [
    "palafox_reactivity_df = df_mapping[['pos.ID', 'Mean']]"
   ]
  },
  {
   "cell_type": "code",
   "execution_count": null,
   "id": "373b45e3",
   "metadata": {},
   "outputs": [],
   "source": [
    "palafox_reactivity_df = palafox_reactivity_df.rename(columns = {'pos.ID': 'cysteineid', 'Mean': 'palafox_mean'\n",
    "                                                               })"
   ]
  },
  {
   "cell_type": "code",
   "execution_count": null,
   "id": "d7d66cad",
   "metadata": {},
   "outputs": [],
   "source": [
    "palafox_reactivity_df.shape[0], len(palafox_reactivity_df['cysteineid'].unique())"
   ]
  },
  {
   "cell_type": "code",
   "execution_count": null,
   "id": "310dbe17",
   "metadata": {},
   "outputs": [],
   "source": [
    "palafox_reactivity_df['palafox_reactivity_category'] = get_reactivity_bin(palafox_reactivity_df, 'palafox_mean')"
   ]
  },
  {
   "cell_type": "code",
   "execution_count": null,
   "id": "e1d494c7",
   "metadata": {},
   "outputs": [],
   "source": [
    "os.chdir('../')\n",
    "os.chdir('results')\n",
    "palafox_reactivity_df.to_csv('palafox_reactive_dataset.csv', index = False)"
   ]
  },
  {
   "cell_type": "markdown",
   "id": "7ec0fff0",
   "metadata": {},
   "source": [
    "# Read T-cell Data"
   ]
  },
  {
   "cell_type": "code",
   "execution_count": null,
   "id": "9c0d387f",
   "metadata": {},
   "outputs": [],
   "source": [
    "os.chdir(cd)\n",
    "os.chdir('Tcell')"
   ]
  },
  {
   "cell_type": "markdown",
   "id": "45360c11",
   "metadata": {},
   "source": [
    "## Read reactivity data"
   ]
  },
  {
   "cell_type": "code",
   "execution_count": null,
   "id": "96e03435",
   "metadata": {},
   "outputs": [],
   "source": [
    "df_tcell_reactivity = pd.read_excel('NIHMS1616434-supplement-mmc4.xlsx', sheet_name='Table S6_Master Table', header = [5])"
   ]
  },
  {
   "cell_type": "code",
   "execution_count": null,
   "id": "05045692",
   "metadata": {},
   "outputs": [],
   "source": [
    "df_tcell_reactivity['Residue'] = df_tcell_reactivity['Residues'].str.split(',')\n",
    "df_tcell_reactivity_split = df_tcell_reactivity.explode('Residue')"
   ]
  },
  {
   "cell_type": "code",
   "execution_count": null,
   "id": "8a5167a5",
   "metadata": {},
   "outputs": [],
   "source": [
    "vinogradova_df = get_new_df([df_tcell_reactivity_split], 'vinogradova_cravatt', 'Uniprot', 'Residue', True)"
   ]
  },
  {
   "cell_type": "code",
   "execution_count": null,
   "id": "725f0bcf",
   "metadata": {},
   "outputs": [],
   "source": [
    "df_tcell_reactive_control = df_tcell_reactivity_split[df_tcell_reactivity_split['control'].isna() == False]\n",
    "df_tcell_reactive_activated = df_tcell_reactivity_split[df_tcell_reactivity_split['activated'].isna() == False]"
   ]
  },
  {
   "cell_type": "code",
   "execution_count": null,
   "id": "6f1c1f51",
   "metadata": {},
   "outputs": [],
   "source": [
    "df_tcell_reactive_control['cysteineid'] = df_tcell_reactive_control['Uniprot'].str.strip() + '_' + df_tcell_reactive_control['Residue'].str.strip()"
   ]
  },
  {
   "cell_type": "markdown",
   "id": "1842bfb6",
   "metadata": {},
   "source": [
    "## Average duplicates "
   ]
  },
  {
   "cell_type": "code",
   "execution_count": null,
   "id": "574e0c64",
   "metadata": {},
   "outputs": [],
   "source": [
    "dup_vinogradova_reactivity_df = df_tcell_reactive_control[['cysteineid', 'control']]"
   ]
  },
  {
   "cell_type": "code",
   "execution_count": null,
   "id": "fd54ffce",
   "metadata": {},
   "outputs": [],
   "source": [
    "dup_vinogradova_reactivity_df = dup_vinogradova_reactivity_df.rename(columns = {'control': 'vinogradova_mean'\n",
    "                                                                       })"
   ]
  },
  {
   "cell_type": "code",
   "execution_count": null,
   "id": "95835f06",
   "metadata": {},
   "outputs": [],
   "source": [
    "dup_vinogradova_reactivity_df = dup_vinogradova_reactivity_df.drop_duplicates()"
   ]
  },
  {
   "cell_type": "code",
   "execution_count": null,
   "id": "485c43ff",
   "metadata": {},
   "outputs": [],
   "source": [
    "ids = []\n",
    "duplicate_ids = []\n",
    "for index, row in dup_vinogradova_reactivity_df.iterrows():\n",
    "    if row['cysteineid'] not in ids:\n",
    "        ids.append(row['cysteineid'])\n",
    "    else:\n",
    "        duplicate_ids.append(row['cysteineid'])"
   ]
  },
  {
   "cell_type": "code",
   "execution_count": null,
   "id": "41ef3497",
   "metadata": {},
   "outputs": [],
   "source": [
    "dup_vinogradova_reactivity_df['duplicate'] = np.where(dup_vinogradova_reactivity_df['cysteineid'].isin(duplicate_ids), 'yes', 'no')"
   ]
  },
  {
   "cell_type": "code",
   "execution_count": null,
   "id": "beef9337",
   "metadata": {},
   "outputs": [],
   "source": [
    "no_dups_vinogradova_reactivity_df = dup_vinogradova_reactivity_df[dup_vinogradova_reactivity_df['duplicate'] == 'no']"
   ]
  },
  {
   "cell_type": "code",
   "execution_count": null,
   "id": "ec013306",
   "metadata": {},
   "outputs": [],
   "source": [
    "no_dups_vinogradova_reactivity_df = no_dups_vinogradova_reactivity_df.drop(columns = ['duplicate'])"
   ]
  },
  {
   "cell_type": "code",
   "execution_count": null,
   "id": "8888a9ae",
   "metadata": {},
   "outputs": [],
   "source": [
    "dups_vinogradova_reactivity_df = dup_vinogradova_reactivity_df[dup_vinogradova_reactivity_df['duplicate'] == 'yes']"
   ]
  },
  {
   "cell_type": "code",
   "execution_count": null,
   "id": "17f69a2c",
   "metadata": {},
   "outputs": [],
   "source": [
    "def get_duplicate_means(df):\n",
    "    cysteines = {}\n",
    "    \n",
    "    for index, row in df.iterrows():\n",
    "        if row['cysteineid'] not in cysteines.keys():\n",
    "            cysteines[row['cysteineid']] = [row['vinogradova_mean']]\n",
    "        else:\n",
    "            cysteines[row['cysteineid']] = cysteines[row['cysteineid']] + [row['vinogradova_mean']]\n",
    "            \n",
    "    dup_df = pd.DataFrame()\n",
    "    \n",
    "    dup_df['cysteineid'] = list(cysteines.keys())\n",
    "    dup_df['vinogradova_means'] = list(cysteines.values())\n",
    "    \n",
    "    new_means = []\n",
    "    for index, row in dup_df.iterrows():\n",
    "        means = row['vinogradova_means']\n",
    "        new_mean = mean(means)\n",
    "        new_means.append(new_mean)\n",
    "        \n",
    "    dup_df['vinogradova_mean'] = new_means\n",
    "    \n",
    "    return dup_df[['cysteineid', 'vinogradova_mean']]"
   ]
  },
  {
   "cell_type": "code",
   "execution_count": null,
   "id": "a5d13cf1",
   "metadata": {},
   "outputs": [],
   "source": [
    "dups_vinogradova_reactivity_df = get_duplicate_means(dups_vinogradova_reactivity_df)"
   ]
  },
  {
   "cell_type": "code",
   "execution_count": null,
   "id": "240f68e3",
   "metadata": {},
   "outputs": [],
   "source": [
    "dups_vinogradova_reactivity_df"
   ]
  },
  {
   "cell_type": "code",
   "execution_count": null,
   "id": "9b1ede90",
   "metadata": {},
   "outputs": [],
   "source": [
    "vinogradova_reactivity_df = pd.concat([no_dups_vinogradova_reactivity_df, dups_vinogradova_reactivity_df])"
   ]
  },
  {
   "cell_type": "code",
   "execution_count": null,
   "id": "cb7e381c",
   "metadata": {},
   "outputs": [],
   "source": [
    "vinogradova_reactivity_df.shape[0], len(vinogradova_reactivity_df['cysteineid'].unique())"
   ]
  },
  {
   "cell_type": "code",
   "execution_count": null,
   "id": "2ecd31dc",
   "metadata": {},
   "outputs": [],
   "source": [
    "vinogradova_reactivity_df['vinogradova_reactivity_category'] = get_reactivity_bin(vinogradova_reactivity_df, 'vinogradova_mean')"
   ]
  },
  {
   "cell_type": "code",
   "execution_count": null,
   "id": "7338b4cb",
   "metadata": {},
   "outputs": [],
   "source": [
    "os.chdir('../')\n",
    "os.chdir('results')\n",
    "vinogradova_reactivity_df.to_csv('vinogradova_reactive_dataset.csv', index = False)"
   ]
  },
  {
   "cell_type": "markdown",
   "id": "2d61b73f",
   "metadata": {},
   "source": [
    "# Aggregate Reactivity Data"
   ]
  },
  {
   "cell_type": "code",
   "execution_count": null,
   "id": "334b0167",
   "metadata": {},
   "outputs": [],
   "source": [
    "weerapana_reactivity_df = pd.read_csv('weerapana_reactive_dataset.csv')\n",
    "palafox_reactivity_df = pd.read_csv('palafox_reactive_dataset.csv')\n",
    "vinogradova_reactivity_df = pd.read_csv('vinogradova_reactive_dataset.csv')"
   ]
  },
  {
   "cell_type": "code",
   "execution_count": null,
   "id": "d6c35972",
   "metadata": {},
   "outputs": [],
   "source": [
    "w_c_ids = list(weerapana_reactivity_df['cysteineid'].unique())\n",
    "p_c_ids = list(palafox_reactivity_df['cysteineid'].unique())\n",
    "v_c_ids = list(vinogradova_reactivity_df['cysteineid'].unique())"
   ]
  },
  {
   "cell_type": "code",
   "execution_count": null,
   "id": "9cbc527f",
   "metadata": {},
   "outputs": [],
   "source": [
    "c_ids = list(set(w_c_ids + p_c_ids + v_c_ids))"
   ]
  },
  {
   "cell_type": "code",
   "execution_count": null,
   "id": "e78bf307",
   "metadata": {},
   "outputs": [],
   "source": [
    "len(c_ids)"
   ]
  },
  {
   "cell_type": "code",
   "execution_count": null,
   "id": "de7ce4f9",
   "metadata": {},
   "outputs": [],
   "source": [
    "reactivity_df = pd.DataFrame()\n",
    "reactivity_df['cysteineid'] = c_ids"
   ]
  },
  {
   "cell_type": "code",
   "execution_count": null,
   "id": "51e79410",
   "metadata": {},
   "outputs": [],
   "source": [
    "reactivity_df = pd.merge(reactivity_df, weerapana_reactivity_df, on = 'cysteineid', how = 'left')"
   ]
  },
  {
   "cell_type": "code",
   "execution_count": null,
   "id": "dab348b7",
   "metadata": {},
   "outputs": [],
   "source": [
    "reactivity_df = pd.merge(reactivity_df, palafox_reactivity_df, on = 'cysteineid', how = 'left')"
   ]
  },
  {
   "cell_type": "code",
   "execution_count": null,
   "id": "a69e68d0",
   "metadata": {},
   "outputs": [],
   "source": [
    "reactivity_df = pd.merge(reactivity_df, vinogradova_reactivity_df, on = 'cysteineid', how = 'left')"
   ]
  },
  {
   "cell_type": "markdown",
   "id": "a4921bef",
   "metadata": {},
   "source": [
    "# Make CysDB median - average of averages"
   ]
  },
  {
   "cell_type": "code",
   "execution_count": null,
   "id": "ec46ae3c",
   "metadata": {},
   "outputs": [],
   "source": [
    "def get_dataset_count(df):\n",
    "    \n",
    "    df = df.fillna(0)\n",
    "    \n",
    "    counts = []\n",
    "    for index, row in df.iterrows():\n",
    "        count = 0\n",
    "        \n",
    "        if (row['weerapana_mean'] != 0):\n",
    "            count += 1\n",
    "        if (row['palafox_mean'] != 0):\n",
    "            count += 1\n",
    "        if (row['vinogradova_mean'] != 0):\n",
    "            count += 1\n",
    "        counts.append(count)\n",
    "    return counts"
   ]
  },
  {
   "cell_type": "code",
   "execution_count": null,
   "id": "7a5cc242",
   "metadata": {},
   "outputs": [],
   "source": [
    "reactivity_counts = get_dataset_count(reactivity_df)"
   ]
  },
  {
   "cell_type": "code",
   "execution_count": null,
   "id": "6c4f980c",
   "metadata": {},
   "outputs": [],
   "source": [
    "tmp_reactivity_df = reactivity_df.copy()"
   ]
  },
  {
   "cell_type": "code",
   "execution_count": null,
   "id": "98ecfb82",
   "metadata": {},
   "outputs": [],
   "source": [
    "tmp_reactivity_df['dataset_count'] = reactivity_counts"
   ]
  },
  {
   "cell_type": "code",
   "execution_count": null,
   "id": "0ee47c19",
   "metadata": {},
   "outputs": [],
   "source": [
    "dataset_medians_df = tmp_reactivity_df[[\n",
    "'cysteineid',\n",
    " 'weerapana_mean',\n",
    " 'palafox_mean',\n",
    " 'vinogradova_mean'\n",
    "]]"
   ]
  },
  {
   "cell_type": "code",
   "execution_count": null,
   "id": "607e9aa3",
   "metadata": {},
   "outputs": [],
   "source": [
    "dataset_medians_df = dataset_medians_df.replace(0, np.nan)"
   ]
  },
  {
   "cell_type": "code",
   "execution_count": null,
   "id": "67d69229",
   "metadata": {},
   "outputs": [],
   "source": [
    "dataset_medians_df['cysdb_mean'] = dataset_medians_df.mean(skipna=True, axis = 1)"
   ]
  },
  {
   "cell_type": "code",
   "execution_count": null,
   "id": "43b1a0c8",
   "metadata": {},
   "outputs": [],
   "source": [
    "dataset_medians_df['cysdb_stdev'] = dataset_medians_df.std(skipna=True, axis = 1)"
   ]
  },
  {
   "cell_type": "code",
   "execution_count": null,
   "id": "0e1b3a9e",
   "metadata": {},
   "outputs": [],
   "source": [
    "dataset_medians_df['cysdb_median'] = dataset_medians_df.median(skipna=True, axis = 1)"
   ]
  },
  {
   "cell_type": "code",
   "execution_count": null,
   "id": "a9e09af3",
   "metadata": {},
   "outputs": [],
   "source": [
    "dataset_medians_df['cysdb_reactivity_category'] = get_reactivity_bin(dataset_medians_df, 'cysdb_median')"
   ]
  },
  {
   "cell_type": "code",
   "execution_count": null,
   "id": "1c91e60b",
   "metadata": {},
   "outputs": [],
   "source": [
    "new_reactivity_df = dataset_medians_df.copy()"
   ]
  },
  {
   "cell_type": "code",
   "execution_count": null,
   "id": "e55cf4d5",
   "metadata": {},
   "outputs": [],
   "source": [
    "# identify hyperreactive based on ratio cutoff established by Weerapana et. al., Palafox et. al. and Vinogradova et. al\n",
    "\n",
    "def get_reactive(df):\n",
    "    hyper_labels = []\n",
    "    for index, row in df.iterrows():\n",
    "        hyper = False\n",
    "        if row['weerapana_mean'] < 2:\n",
    "            hyper = True\n",
    "        if row['palafox_mean'] < 2:\n",
    "            hyper = True\n",
    "        if row['vinogradova_mean'] < 2:\n",
    "            hyper = True\n",
    "        if hyper == True:\n",
    "            hyper_labels.append('yes')\n",
    "        else:\n",
    "            hyper_labels.append(np.nan)\n",
    "        \n",
    "    return hyper_labels"
   ]
  },
  {
   "cell_type": "code",
   "execution_count": null,
   "id": "7abdac08",
   "metadata": {},
   "outputs": [],
   "source": [
    "hyper_labels = get_reactive(new_reactivity_df)"
   ]
  },
  {
   "cell_type": "code",
   "execution_count": null,
   "id": "5e992b35",
   "metadata": {},
   "outputs": [],
   "source": [
    "new_reactivity_df['hyperreactive'] = hyper_labels"
   ]
  },
  {
   "cell_type": "code",
   "execution_count": null,
   "id": "b8296f82",
   "metadata": {},
   "outputs": [],
   "source": [
    "new_reactivity_df['hyperreactive'].value_counts()"
   ]
  },
  {
   "cell_type": "code",
   "execution_count": null,
   "id": "e35c92f4",
   "metadata": {},
   "outputs": [],
   "source": [
    "new_reactivity_df['proteinid'] = new_reactivity_df['cysteineid'].map(lambda x: str(x).split('_')[0])"
   ]
  },
  {
   "cell_type": "code",
   "execution_count": null,
   "id": "893cb9ac",
   "metadata": {},
   "outputs": [],
   "source": [
    "new_reactivity_df['resid'] = new_reactivity_df['cysteineid'].map(lambda x: str(x).split('_C')[1])"
   ]
  },
  {
   "cell_type": "code",
   "execution_count": null,
   "id": "5744ef24",
   "metadata": {},
   "outputs": [],
   "source": [
    "new_reactivity_df = new_reactivity_df[[\n",
    " 'proteinid',\n",
    " 'cysteineid',\n",
    " 'resid',\n",
    " 'weerapana_mean',\n",
    " 'palafox_mean',\n",
    " 'vinogradova_mean',\n",
    " 'cysdb_mean',\n",
    " 'cysdb_stdev',\n",
    " 'cysdb_median',\n",
    " 'cysdb_reactivity_category',\n",
    " 'hyperreactive'\n",
    "]]"
   ]
  },
  {
   "cell_type": "code",
   "execution_count": null,
   "id": "0e84a737",
   "metadata": {},
   "outputs": [],
   "source": [
    "new_reactivity_df.to_csv('cysteineomedb_reactive_dataset.csv', index = False)"
   ]
  },
  {
   "cell_type": "code",
   "execution_count": null,
   "id": "64455b36",
   "metadata": {},
   "outputs": [],
   "source": []
  }
 ],
 "metadata": {
  "kernelspec": {
   "display_name": "Python 3 (ipykernel)",
   "language": "python",
   "name": "python3"
  },
  "language_info": {
   "codemirror_mode": {
    "name": "ipython",
    "version": 3
   },
   "file_extension": ".py",
   "mimetype": "text/x-python",
   "name": "python",
   "nbconvert_exporter": "python",
   "pygments_lexer": "ipython3",
   "version": "3.9.7"
  }
 },
 "nbformat": 4,
 "nbformat_minor": 5
}
