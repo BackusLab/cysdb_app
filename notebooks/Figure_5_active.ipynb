{
 "cells": [
  {
   "cell_type": "markdown",
   "id": "c7cc85ab",
   "metadata": {},
   "source": [
    "Find which cysteines are near active sites using primary sequences and UniProt annotations"
   ]
  },
  {
   "cell_type": "code",
   "execution_count": null,
   "id": "5e02c52c",
   "metadata": {},
   "outputs": [],
   "source": [
    "import os, sys\n",
    "import numpy as np\n",
    "import matplotlib.pyplot as plt\n",
    "import pandas as pd\n",
    "import csv\n",
    "import matplotlib\n",
    "import math\n",
    "from matplotlib.pyplot import figure\n",
    "import seaborn as sns\n",
    "import string\n",
    "from matplotlib import pyplot as plt\n",
    "import plotly.io as pio\n",
    "from matplotlib_venn import venn3\n",
    "from matplotlib_venn import venn2, venn2_circles\n",
    "from matplotlib import cm\n",
    "from matplotlib.colors import ListedColormap\n",
    "from venn import venn\n",
    "import plotly.express as px"
   ]
  },
  {
   "cell_type": "code",
   "execution_count": null,
   "id": "8c740836",
   "metadata": {},
   "outputs": [],
   "source": [
    "date = '220920'"
   ]
  },
  {
   "cell_type": "code",
   "execution_count": null,
   "id": "054ee335",
   "metadata": {},
   "outputs": [],
   "source": [
    "cd = os.getcwd()\n",
    "cd"
   ]
  },
  {
   "cell_type": "markdown",
   "id": "95394014",
   "metadata": {},
   "source": [
    "# Read UniProt Active Site Annotations"
   ]
  },
  {
   "cell_type": "code",
   "execution_count": null,
   "id": "7a70b1e2",
   "metadata": {},
   "outputs": [],
   "source": [
    "as_df = pd.read_csv('220908_uniprot_as_identifiers.csv')"
   ]
  },
  {
   "cell_type": "code",
   "execution_count": null,
   "id": "7986bfe3",
   "metadata": {},
   "outputs": [],
   "source": [
    "as_df['AA'] = as_df['as_id'].map(lambda x: str(x)[0])"
   ]
  },
  {
   "cell_type": "code",
   "execution_count": null,
   "id": "ec9bbf5b",
   "metadata": {},
   "outputs": [],
   "source": [
    "as_df['Site'] = as_df['as_id'].map(lambda x: str(x)[1:])"
   ]
  },
  {
   "cell_type": "code",
   "execution_count": null,
   "id": "f3c149b9",
   "metadata": {},
   "outputs": [],
   "source": [
    "c_as_df = as_df[as_df['AA'] == 'C']"
   ]
  },
  {
   "cell_type": "code",
   "execution_count": null,
   "id": "6d51763e",
   "metadata": {},
   "outputs": [],
   "source": [
    "c_as_df = c_as_df[['Entry', 'as_identifier', 'as_id', 'AA', 'Site']]"
   ]
  },
  {
   "cell_type": "code",
   "execution_count": null,
   "id": "c05126a3",
   "metadata": {},
   "outputs": [],
   "source": [
    "c_as_ids = list(c_as_df['as_identifier'].unique())"
   ]
  },
  {
   "cell_type": "markdown",
   "id": "ae1e406d",
   "metadata": {},
   "source": [
    "# Read CysDB IDs"
   ]
  },
  {
   "cell_type": "code",
   "execution_count": null,
   "id": "cb99c89c",
   "metadata": {},
   "outputs": [],
   "source": [
    "c_df = pd.read_excel('Table_S1.xlsx', sheet_name = 'Fig1D')"
   ]
  },
  {
   "cell_type": "code",
   "execution_count": null,
   "id": "503a8191",
   "metadata": {},
   "outputs": [],
   "source": [
    "c_df['is_as'] = np.where(c_df['cysteineid'].isin(c_as_ids), 1, 0)"
   ]
  },
  {
   "cell_type": "code",
   "execution_count": null,
   "id": "f59c8eb4",
   "metadata": {},
   "outputs": [],
   "source": [
    "non_as_c_df = c_df[c_df['is_as'] == 0]\n",
    "non_as_c_ids = list(non_as_c_df['cysteineid'].unique())"
   ]
  },
  {
   "cell_type": "code",
   "execution_count": null,
   "id": "0cc92355",
   "metadata": {},
   "outputs": [],
   "source": [
    "c_df['check_as'] = np.where(c_df['cysteineid'].isin(non_as_c_ids), 1, 0)"
   ]
  },
  {
   "cell_type": "code",
   "execution_count": null,
   "id": "3c30cd74",
   "metadata": {},
   "outputs": [],
   "source": [
    "cysdb_w_u_as = c_df[c_df['check_as'] == 1]"
   ]
  },
  {
   "cell_type": "code",
   "execution_count": null,
   "id": "cc3f29b8",
   "metadata": {},
   "outputs": [],
   "source": [
    "cysdb_w_u_as['cysteineid'] = cysdb_w_u_as['cysteineid'].map(lambda x: str(x).replace(' ', ''))"
   ]
  },
  {
   "cell_type": "code",
   "execution_count": null,
   "id": "f7884ec4",
   "metadata": {},
   "outputs": [],
   "source": [
    "cysdb_w_u_as['resid'] = cysdb_w_u_as['cysteineid'].map(lambda x: str(x).split('_C')[-1].strip())"
   ]
  },
  {
   "cell_type": "code",
   "execution_count": null,
   "id": "31c8d0ae",
   "metadata": {},
   "outputs": [],
   "source": [
    "# find which cysteines are within +/-10 amino acids from an annotated UniProt active site\n",
    "\n",
    "def get_range(df, u_df):\n",
    "    as_neighbor = []\n",
    "    count = 0\n",
    "    as_neighbors = []\n",
    "    \n",
    "    # iterate through cysdb\n",
    "    for index, row in df.iterrows():\n",
    "        \n",
    "        # get identifiers\n",
    "        pro = row['proteinid']\n",
    "        cys = row['cysteineid'].replace(' ', '')\n",
    "        aa = int(row['resid'])\n",
    "        \n",
    "        suaset_u_df = u_df[u_df['Entry'] == pro]\n",
    "        as_ids = list(suaset_u_df['Site'])\n",
    "        as_identifiers = list(suaset_u_df['as_id'])\n",
    "        as_neighbors.append(as_ids)\n",
    "        \n",
    "        current_as_ids = []\n",
    "        \n",
    "        for i in range(len(as_ids)):\n",
    "            u_lim = int(as_ids[i]) + 10\n",
    "            l_lim = int(as_ids[i]) - 10\n",
    "            \n",
    "            if (aa >= l_lim) & (aa <= u_lim):\n",
    "                current_as_ids.append(as_identifiers[i])\n",
    "                count += 1\n",
    "                \n",
    "        as_neighbor.append(current_as_ids)\n",
    "        \n",
    "    return as_neighbor, as_neighbors"
   ]
  },
  {
   "cell_type": "code",
   "execution_count": null,
   "id": "e37d791c",
   "metadata": {},
   "outputs": [],
   "source": [
    "near_as_neighbors, as_neighbor_list = get_range(cysdb_w_u_as, as_df)"
   ]
  },
  {
   "cell_type": "code",
   "execution_count": null,
   "id": "75c5f28e",
   "metadata": {},
   "outputs": [],
   "source": [
    "cysdb_w_u_as['near_as_neighbors'] = near_as_neighbors"
   ]
  },
  {
   "cell_type": "code",
   "execution_count": null,
   "id": "2874433a",
   "metadata": {},
   "outputs": [],
   "source": [
    "cysdb_w_u_as['near_as_neighbors_list'] = as_neighbor_list"
   ]
  },
  {
   "cell_type": "code",
   "execution_count": null,
   "id": "6da42391",
   "metadata": {},
   "outputs": [],
   "source": [
    "cysdb_w_u_as['near_as_ps'] = cysdb_w_u_as['near_as_neighbors'].str.len()"
   ]
  },
  {
   "cell_type": "code",
   "execution_count": null,
   "id": "1fae1ac4",
   "metadata": {},
   "outputs": [],
   "source": [
    "cysdb_w_u_as['near_as_1D'] = np.where(cysdb_w_u_as['near_as_ps'] >= 1, 1, 0) "
   ]
  },
  {
   "cell_type": "code",
   "execution_count": null,
   "id": "bb216071",
   "metadata": {},
   "outputs": [],
   "source": [
    "cysdb_w_u_as['near_as_neighbors'] = [';'.join(map(str, l)) for l in cysdb_w_u_as['near_as_neighbors']]"
   ]
  },
  {
   "cell_type": "code",
   "execution_count": null,
   "id": "ab9319ee",
   "metadata": {},
   "outputs": [],
   "source": [
    "c_near_as_df = cysdb_w_u_as[cysdb_w_u_as['near_as_1D'] == 1]"
   ]
  },
  {
   "cell_type": "code",
   "execution_count": null,
   "id": "34114022",
   "metadata": {},
   "outputs": [],
   "source": [
    "c_near_as = list(c_near_as_df['cysteineid'].unique())"
   ]
  },
  {
   "cell_type": "code",
   "execution_count": null,
   "id": "5825ba25",
   "metadata": {},
   "outputs": [],
   "source": [
    "merged_c_df = pd.merge(c_df, c_near_as_df[['cysteineid', 'near_as_1D', 'near_as_neighbors']], on = 'cysteineid', how = 'left')"
   ]
  },
  {
   "cell_type": "code",
   "execution_count": null,
   "id": "6b9f7554",
   "metadata": {},
   "outputs": [],
   "source": [
    "# yes if cysteine is an annotated active site or proximal to an active site\n",
    "\n",
    "def get_as_label(df):\n",
    "    \n",
    "    label = []\n",
    "    \n",
    "    df = df.fillna(0)\n",
    "    \n",
    "    for index, row in df.iterrows():\n",
    "        is_as = int(row['is_as'])\n",
    "        near_as = int(row['near_as_1D'])\n",
    "        \n",
    "        if ((is_as + near_as) >= 1):\n",
    "            label.append('yes')\n",
    "        else:\n",
    "            label.append(None)\n",
    "            \n",
    "    return label"
   ]
  },
  {
   "cell_type": "code",
   "execution_count": null,
   "id": "8756359b",
   "metadata": {},
   "outputs": [],
   "source": [
    "as_labels = get_as_label(merged_c_df)"
   ]
  },
  {
   "cell_type": "code",
   "execution_count": null,
   "id": "e395fa51",
   "metadata": {},
   "outputs": [],
   "source": [
    "merged_c_df['as_category'] = as_labels"
   ]
  },
  {
   "cell_type": "code",
   "execution_count": null,
   "id": "17ca3ceb",
   "metadata": {},
   "outputs": [],
   "source": [
    "lig_df = merged_c_df[merged_c_df['ligandable'] == 'yes']"
   ]
  },
  {
   "cell_type": "code",
   "execution_count": null,
   "id": "addad399",
   "metadata": {},
   "outputs": [],
   "source": [
    "rxt_df = merged_c_df[merged_c_df['hyperreactive'] == 'yes']"
   ]
  },
  {
   "cell_type": "code",
   "execution_count": null,
   "id": "d4e61bb8",
   "metadata": {},
   "outputs": [],
   "source": [
    "merged_c_df = merged_c_df.drop(columns = ['check_as'])"
   ]
  },
  {
   "cell_type": "code",
   "execution_count": null,
   "id": "51676efb",
   "metadata": {},
   "outputs": [],
   "source": [
    "merged_c_df.to_csv(date + '_cysdb_active_sites.csv', index = False)"
   ]
  },
  {
   "cell_type": "code",
   "execution_count": null,
   "id": "4abce600",
   "metadata": {},
   "outputs": [],
   "source": []
  }
 ],
 "metadata": {
  "kernelspec": {
   "display_name": "Python 3 (ipykernel)",
   "language": "python",
   "name": "python3"
  },
  "language_info": {
   "codemirror_mode": {
    "name": "ipython",
    "version": 3
   },
   "file_extension": ".py",
   "mimetype": "text/x-python",
   "name": "python",
   "nbconvert_exporter": "python",
   "pygments_lexer": "ipython3",
   "version": "3.9.7"
  }
 },
 "nbformat": 4,
 "nbformat_minor": 5
}
