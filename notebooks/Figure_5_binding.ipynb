{
 "cells": [
  {
   "cell_type": "markdown",
   "id": "74a2f3d5",
   "metadata": {},
   "source": [
    "Find which cysteines are near binding sites using primary sequences and UniProt annotations"
   ]
  },
  {
   "cell_type": "code",
   "execution_count": null,
   "id": "5e02c52c",
   "metadata": {},
   "outputs": [],
   "source": [
    "import os, sys\n",
    "import numpy as np\n",
    "import matplotlib.pyplot as plt\n",
    "import pandas as pd\n",
    "import csv\n",
    "import matplotlib\n",
    "import math\n",
    "from matplotlib.pyplot import figure\n",
    "import seaborn as sns\n",
    "import string\n",
    "from matplotlib import pyplot as plt\n",
    "import plotly.io as pio\n",
    "from matplotlib_venn import venn3\n",
    "from matplotlib_venn import venn2, venn2_circles\n",
    "from matplotlib import cm\n",
    "from matplotlib.colors import ListedColormap\n",
    "from venn import venn\n",
    "import plotly.express as px"
   ]
  },
  {
   "cell_type": "code",
   "execution_count": null,
   "id": "7a5babc4",
   "metadata": {},
   "outputs": [],
   "source": [
    "date = '220920'"
   ]
  },
  {
   "cell_type": "code",
   "execution_count": null,
   "id": "054ee335",
   "metadata": {},
   "outputs": [],
   "source": [
    "cd = os.getcwd()\n",
    "cd"
   ]
  },
  {
   "cell_type": "markdown",
   "id": "d0c42258",
   "metadata": {},
   "source": [
    "# Read UniProt Binding Site Annotations"
   ]
  },
  {
   "cell_type": "code",
   "execution_count": null,
   "id": "61a3a856",
   "metadata": {},
   "outputs": [],
   "source": [
    "bs_df = pd.read_csv('220908_uniprot_bs_identifiers.csv')"
   ]
  },
  {
   "cell_type": "markdown",
   "id": "ae1e406d",
   "metadata": {},
   "source": [
    "# Read CysDB IDs"
   ]
  },
  {
   "cell_type": "code",
   "execution_count": null,
   "id": "791c4827",
   "metadata": {},
   "outputs": [],
   "source": [
    "c_df = pd.read_excel('Table_S1.xlsx', sheet_name = 'Fig1D')"
   ]
  },
  {
   "cell_type": "code",
   "execution_count": null,
   "id": "c26cfa55",
   "metadata": {},
   "outputs": [],
   "source": [
    "c_df['is_bs'] = np.where(c_df['cysteineid'].isin(c_bs_ids), 1, 0)"
   ]
  },
  {
   "cell_type": "code",
   "execution_count": null,
   "id": "556e5928",
   "metadata": {},
   "outputs": [],
   "source": [
    "non_bs_c_df = c_df[c_df['is_bs'] == 0]\n",
    "non_bs_c_ids = list(non_bs_c_df['cysteineid'].unique())"
   ]
  },
  {
   "cell_type": "code",
   "execution_count": null,
   "id": "0cc92355",
   "metadata": {},
   "outputs": [],
   "source": [
    "c_df['check_bs'] = np.where(c_df['cysteineid'].isin(non_bs_c_ids), 1, 0)"
   ]
  },
  {
   "cell_type": "code",
   "execution_count": null,
   "id": "3c30cd74",
   "metadata": {},
   "outputs": [],
   "source": [
    "cysdb_w_u_bs = c_df[c_df['check_bs'] == 1]"
   ]
  },
  {
   "cell_type": "code",
   "execution_count": null,
   "id": "cc3f29b8",
   "metadata": {},
   "outputs": [],
   "source": [
    "cysdb_w_u_bs['cysteineid'] = cysdb_w_u_bs['cysteineid'].map(lambda x: str(x).replace(' ', ''))"
   ]
  },
  {
   "cell_type": "code",
   "execution_count": null,
   "id": "f7884ec4",
   "metadata": {},
   "outputs": [],
   "source": [
    "cysdb_w_u_bs['resid'] = cysdb_w_u_bs['cysteineid'].map(lambda x: str(x).split('_C')[-1].strip())"
   ]
  },
  {
   "cell_type": "code",
   "execution_count": null,
   "id": "31c8d0ae",
   "metadata": {},
   "outputs": [],
   "source": [
    "# find which cysteines are within +/-10 amino acids from an annotated UniProt binding site\n",
    "\n",
    "def get_range(df, u_df):\n",
    "    bs_neighbor = []\n",
    "    count = 0\n",
    "    bs_neighbors = []\n",
    "    \n",
    "    # iterate through cysdb\n",
    "    for index, row in df.iterrows():\n",
    "        \n",
    "        # get identifiers\n",
    "        pro = row['proteinid']\n",
    "        cys = row['cysteineid'].replace(' ', '')\n",
    "        aa = int(row['resid'])\n",
    "        \n",
    "        subset_u_df = u_df[u_df['Entry'] == pro]\n",
    "        bs_ids = list(subset_u_df['Site'])\n",
    "        bs_identifiers = list(subset_u_df['bs_id'])\n",
    "        bs_neighbors.append(bs_ids)\n",
    "        \n",
    "        current_bs_ids = []\n",
    "        \n",
    "        for i in range(len(bs_ids)):\n",
    "            u_lim = int(bs_ids[i]) + 10\n",
    "            l_lim = int(bs_ids[i]) - 10\n",
    "            \n",
    "            if (aa >= l_lim) & (aa <= u_lim):\n",
    "                current_bs_ids.append(bs_identifiers[i])\n",
    "                count += 1\n",
    "                \n",
    "        bs_neighbor.append(current_bs_ids)\n",
    "        \n",
    "    return bs_neighbor, bs_neighbors"
   ]
  },
  {
   "cell_type": "code",
   "execution_count": null,
   "id": "e37d791c",
   "metadata": {},
   "outputs": [],
   "source": [
    "near_bs_neighbors, bs_neighbor_list = get_range(cysdb_w_u_bs, bs_df)"
   ]
  },
  {
   "cell_type": "code",
   "execution_count": null,
   "id": "75c5f28e",
   "metadata": {},
   "outputs": [],
   "source": [
    "cysdb_w_u_bs['near_bs_neighbors'] = near_bs_neighbors"
   ]
  },
  {
   "cell_type": "code",
   "execution_count": null,
   "id": "2874433a",
   "metadata": {},
   "outputs": [],
   "source": [
    "cysdb_w_u_bs['near_bs_neighbors_list'] = bs_neighbor_list"
   ]
  },
  {
   "cell_type": "code",
   "execution_count": null,
   "id": "6da42391",
   "metadata": {},
   "outputs": [],
   "source": [
    "cysdb_w_u_bs['near_bs_ps'] = cysdb_w_u_bs['near_bs_neighbors'].str.len()"
   ]
  },
  {
   "cell_type": "code",
   "execution_count": null,
   "id": "1fae1ac4",
   "metadata": {},
   "outputs": [],
   "source": [
    "cysdb_w_u_bs['near_bs_1D'] = np.where(cysdb_w_u_bs['near_bs_ps'] >= 1, 1, 0) "
   ]
  },
  {
   "cell_type": "code",
   "execution_count": null,
   "id": "ec816fa9",
   "metadata": {},
   "outputs": [],
   "source": [
    "cysdb_w_u_bs['near_bs_neighbors'] = [';'.join(map(str, l)) for l in cysdb_w_u_bs['near_bs_neighbors']]"
   ]
  },
  {
   "cell_type": "code",
   "execution_count": null,
   "id": "a2a26594",
   "metadata": {},
   "outputs": [],
   "source": [
    "c_near_bs_df = cysdb_w_u_bs[cysdb_w_u_bs['near_bs_1D'] == 1]"
   ]
  },
  {
   "cell_type": "code",
   "execution_count": null,
   "id": "9d22b9bb",
   "metadata": {},
   "outputs": [],
   "source": [
    "c_near_bs = list(c_near_bs_df['cysteineid'].unique())"
   ]
  },
  {
   "cell_type": "code",
   "execution_count": null,
   "id": "9f70d561",
   "metadata": {},
   "outputs": [],
   "source": [
    "merged_c_df = pd.merge(c_df, c_near_bs_df[['cysteineid', 'near_bs_1D', 'near_bs_neighbors']], on = 'cysteineid', how = 'left')"
   ]
  },
  {
   "cell_type": "code",
   "execution_count": null,
   "id": "f1b687ce",
   "metadata": {},
   "outputs": [],
   "source": [
    "# yes if cysteine is an annotated binding site or proximal to a binding site\n",
    "\n",
    "def get_bs_label(df):\n",
    "    \n",
    "    label = []\n",
    "    \n",
    "    df = df.fillna(0)\n",
    "    \n",
    "    for index, row in df.iterrows():\n",
    "        is_bs = int(row['is_bs'])\n",
    "        near_bs = int(row['near_bs_1D'])\n",
    "        \n",
    "        if ((is_bs + near_bs) >= 1):\n",
    "            label.append('yes')\n",
    "        else:\n",
    "            label.append(None)\n",
    "            \n",
    "    return label"
   ]
  },
  {
   "cell_type": "code",
   "execution_count": null,
   "id": "cc062091",
   "metadata": {},
   "outputs": [],
   "source": [
    "bs_labels = get_bs_label(merged_c_df)"
   ]
  },
  {
   "cell_type": "code",
   "execution_count": null,
   "id": "79b11e09",
   "metadata": {},
   "outputs": [],
   "source": [
    "merged_c_df['bs_category'] = bs_labels"
   ]
  },
  {
   "cell_type": "code",
   "execution_count": null,
   "id": "3ace0992",
   "metadata": {},
   "outputs": [],
   "source": [
    "lig_df = merged_c_df[merged_c_df['ligandable'] == 'yes']"
   ]
  },
  {
   "cell_type": "code",
   "execution_count": null,
   "id": "6ca92693",
   "metadata": {},
   "outputs": [],
   "source": [
    "rxt_df = merged_c_df[merged_c_df['hyperreactive'] == 'yes']"
   ]
  },
  {
   "cell_type": "code",
   "execution_count": null,
   "id": "afad0dd1",
   "metadata": {},
   "outputs": [],
   "source": [
    "merged_c_df = merged_c_df.drop(columns = ['check_bs'])"
   ]
  },
  {
   "cell_type": "code",
   "execution_count": null,
   "id": "c2cb3e9e",
   "metadata": {},
   "outputs": [],
   "source": [
    "merged_c_df.to_csv(date + '_cysdb_binding_sites.csv', index = False)"
   ]
  },
  {
   "cell_type": "code",
   "execution_count": null,
   "id": "2d3fe058",
   "metadata": {},
   "outputs": [],
   "source": []
  }
 ],
 "metadata": {
  "kernelspec": {
   "display_name": "Python 3 (ipykernel)",
   "language": "python",
   "name": "python3"
  },
  "language_info": {
   "codemirror_mode": {
    "name": "ipython",
    "version": 3
   },
   "file_extension": ".py",
   "mimetype": "text/x-python",
   "name": "python",
   "nbconvert_exporter": "python",
   "pygments_lexer": "ipython3",
   "version": "3.9.7"
  }
 },
 "nbformat": 4,
 "nbformat_minor": 5
}
