{
 "cells": [
  {
   "cell_type": "code",
   "execution_count": null,
   "id": "08a82db0",
   "metadata": {},
   "outputs": [],
   "source": [
    "import os, sys\n",
    "import numpy as np\n",
    "import matplotlib.pyplot as plt\n",
    "import pandas as pd\n",
    "import csv\n",
    "import matplotlib\n",
    "import numpy as np\n",
    "import math\n",
    "from matplotlib.pyplot import figure\n",
    "import seaborn as sns\n",
    "import string\n",
    "from matplotlib import pyplot as plt\n",
    "import plotly.io as pio\n",
    "from matplotlib_venn import venn3\n",
    "from matplotlib_venn import venn2, venn2_circles\n",
    "# import venn\n",
    "from matplotlib import cm\n",
    "from matplotlib.colors import ListedColormap\n",
    "from venn import venn\n",
    "import plotly.express as px"
   ]
  },
  {
   "cell_type": "code",
   "execution_count": null,
   "id": "621a573c",
   "metadata": {},
   "outputs": [],
   "source": [
    "def list_to_string(lst, symbol):\n",
    "    return (symbol.join([str(elem) for elem in lst]))"
   ]
  },
  {
   "cell_type": "code",
   "execution_count": null,
   "id": "fcb02c11",
   "metadata": {},
   "outputs": [],
   "source": [
    "cd = os.getcwd()\n",
    "cd"
   ]
  },
  {
   "cell_type": "code",
   "execution_count": null,
   "id": "5d0f1bd8",
   "metadata": {},
   "outputs": [],
   "source": [
    "os.chdir(cd)\n",
    "os.chdir('results')"
   ]
  },
  {
   "cell_type": "markdown",
   "id": "73b166d0",
   "metadata": {},
   "source": [
    "# Read Identified"
   ]
  },
  {
   "cell_type": "code",
   "execution_count": null,
   "id": "fa166c1c",
   "metadata": {},
   "outputs": [],
   "source": [
    "cys_df = pd.read_csv('cysteineomedb_id_rxt.csv')"
   ]
  },
  {
   "cell_type": "code",
   "execution_count": null,
   "id": "30b8c6e3",
   "metadata": {},
   "outputs": [],
   "source": [
    "cys_df['cysteineid'] = cys_df['cysteineid'].replace(' ', '')"
   ]
  },
  {
   "cell_type": "code",
   "execution_count": null,
   "id": "4d204e33",
   "metadata": {},
   "outputs": [],
   "source": [
    "cys_df['proteinid'] = cys_df['proteinid'].replace(' ', '')"
   ]
  },
  {
   "cell_type": "code",
   "execution_count": null,
   "id": "e60e531e",
   "metadata": {},
   "outputs": [],
   "source": [
    "c_df = cys_df[cys_df['level'] == 'cysteine']"
   ]
  },
  {
   "cell_type": "code",
   "execution_count": null,
   "id": "7114f8f0",
   "metadata": {},
   "outputs": [],
   "source": [
    "p_df = cys_df[cys_df['level'] == 'protein']"
   ]
  },
  {
   "cell_type": "code",
   "execution_count": null,
   "id": "8a1977e2",
   "metadata": {},
   "outputs": [],
   "source": [
    "c_df.shape, p_df.shape"
   ]
  },
  {
   "cell_type": "markdown",
   "id": "bd34f794",
   "metadata": {},
   "source": [
    "# Read Ligandable Datasets"
   ]
  },
  {
   "cell_type": "code",
   "execution_count": null,
   "id": "5c57afa9",
   "metadata": {},
   "outputs": [],
   "source": [
    "os.getcwd()"
   ]
  },
  {
   "cell_type": "code",
   "execution_count": null,
   "id": "9a197008",
   "metadata": {},
   "outputs": [],
   "source": [
    "discovery_df = pd.read_csv('backus_ligandable_dataset.csv')"
   ]
  },
  {
   "cell_type": "code",
   "execution_count": null,
   "id": "ac46eca0",
   "metadata": {},
   "outputs": [],
   "source": [
    "suzuki_df = pd.read_csv('cao_ligandable_dataset.csv')"
   ]
  },
  {
   "cell_type": "code",
   "execution_count": null,
   "id": "8c0c30bd",
   "metadata": {},
   "outputs": [],
   "source": [
    "suzuki_df['cysteineid'] = suzuki_df['cysteineid'].replace(' ', '')"
   ]
  },
  {
   "cell_type": "code",
   "execution_count": null,
   "id": "8414f898",
   "metadata": {},
   "outputs": [],
   "source": [
    "suzuki_df['proteinid'] = suzuki_df['proteinid'].replace(' ', '')"
   ]
  },
  {
   "cell_type": "code",
   "execution_count": null,
   "id": "b10eb766",
   "metadata": {},
   "outputs": [],
   "source": [
    "tcell_df = pd.read_csv('vinogradova_ligandable_dataset.csv')"
   ]
  },
  {
   "cell_type": "code",
   "execution_count": null,
   "id": "e0d6f5ec",
   "metadata": {},
   "outputs": [],
   "source": [
    "sp3_df = pd.read_csv('yan_ligandable_dataset.csv')"
   ]
  },
  {
   "cell_type": "code",
   "execution_count": null,
   "id": "06ad04e7",
   "metadata": {},
   "outputs": [],
   "source": [
    "slcabpp_df = pd.read_csv('kuljanin_ligandable_dataset.csv')"
   ]
  },
  {
   "cell_type": "code",
   "execution_count": null,
   "id": "7d43b5ed",
   "metadata": {},
   "outputs": [],
   "source": [
    "dia_df = pd.read_csv('yang_ligandable_dataset.csv')"
   ]
  },
  {
   "cell_type": "code",
   "execution_count": null,
   "id": "a965e69e",
   "metadata": {},
   "outputs": [],
   "source": [
    "def get_lig_ids(dfs, cysteine):\n",
    "    c_ids = []\n",
    "    \n",
    "    for i in range(len(dfs)):\n",
    "        current_df = dfs[i]\n",
    "        current_df['proteinid'] = current_df['cysteineid'].map(lambda x: str(x).replace(' ', '').split('_')[0])\n",
    "        \n",
    "        lig_current_df = current_df[current_df['ligandable'] == 'yes']\n",
    "        print(lig_current_df.shape)\n",
    "        \n",
    "        if cysteine == True:\n",
    "            c_ids += list(lig_current_df['cysteineid'].unique())\n",
    "        else:\n",
    "            c_ids += list(lig_current_df['proteinid'].unique())\n",
    "        \n",
    "    unique_c_ids = list(set(c_ids))\n",
    "    return unique_c_ids"
   ]
  },
  {
   "cell_type": "code",
   "execution_count": null,
   "id": "4199a48b",
   "metadata": {},
   "outputs": [],
   "source": [
    "unique_c_ids = get_lig_ids([discovery_df,\n",
    "                           suzuki_df,\n",
    "                           tcell_df,\n",
    "                           sp3_df,\n",
    "                           slcabpp_df,\n",
    "                           dia_df], True)"
   ]
  },
  {
   "cell_type": "code",
   "execution_count": null,
   "id": "38826daa",
   "metadata": {},
   "outputs": [],
   "source": [
    "len(unique_c_ids)"
   ]
  },
  {
   "cell_type": "code",
   "execution_count": null,
   "id": "068feee0",
   "metadata": {},
   "outputs": [],
   "source": [
    "unique_p_ids = get_lig_ids([discovery_df,\n",
    "                           suzuki_df,\n",
    "                           tcell_df,\n",
    "                           sp3_df,\n",
    "                           slcabpp_df,\n",
    "                           dia_df], False)"
   ]
  },
  {
   "cell_type": "code",
   "execution_count": null,
   "id": "5edb54b4",
   "metadata": {},
   "outputs": [],
   "source": [
    "len(unique_p_ids)"
   ]
  },
  {
   "cell_type": "code",
   "execution_count": null,
   "id": "fa8f864c",
   "metadata": {},
   "outputs": [],
   "source": [
    "c_df_subset = c_df.copy()"
   ]
  },
  {
   "cell_type": "code",
   "execution_count": null,
   "id": "764f76d1",
   "metadata": {},
   "outputs": [],
   "source": [
    "c_df_subset.shape"
   ]
  },
  {
   "cell_type": "code",
   "execution_count": null,
   "id": "4a865be9",
   "metadata": {},
   "outputs": [],
   "source": [
    "new_discovery_df = discovery_df.rename(columns = {'ligandable':'backus_cravatt_ligandable'})\n",
    "c_df_subset = pd.merge(c_df_subset, new_discovery_df[['cysteineid', 'backus_cravatt_ligandable']], on = 'cysteineid', how = 'left')"
   ]
  },
  {
   "cell_type": "code",
   "execution_count": null,
   "id": "913a61c8",
   "metadata": {},
   "outputs": [],
   "source": [
    "new_suzuki_df = suzuki_df.rename(columns = {'ligandable':'cao_backus_ligandable'})\n",
    "c_df_subset = pd.merge(c_df_subset, new_suzuki_df[['cysteineid', 'cao_backus_ligandable']], on = 'cysteineid', how = 'left')"
   ]
  },
  {
   "cell_type": "code",
   "execution_count": null,
   "id": "30b8de21",
   "metadata": {},
   "outputs": [],
   "source": [
    "new_tcell_df = tcell_df.rename(columns = {'ligandable':'vinogradova_cravatt_ligandable'})\n",
    "c_df_subset = pd.merge(c_df_subset, new_tcell_df[['cysteineid', 'vinogradova_cravatt_ligandable']], on = 'cysteineid', how = 'left')"
   ]
  },
  {
   "cell_type": "code",
   "execution_count": null,
   "id": "3d5dd3df",
   "metadata": {},
   "outputs": [],
   "source": [
    "new_sp3_df = sp3_df.rename(columns = {'ligandable':'yan_backus_ligandable'})\n",
    "c_df_subset = pd.merge(c_df_subset, new_sp3_df[['cysteineid', 'yan_backus_ligandable']], on = 'cysteineid', how = 'left')"
   ]
  },
  {
   "cell_type": "code",
   "execution_count": null,
   "id": "11e4b10b",
   "metadata": {},
   "outputs": [],
   "source": [
    "new_slcabpp_df = slcabpp_df.rename(columns = {'ligandable':'kuljanin_gygi_ligandable'})\n",
    "c_df_subset = pd.merge(c_df_subset, new_slcabpp_df[['cysteineid', 'kuljanin_gygi_ligandable']], on = 'cysteineid', how = 'left')"
   ]
  },
  {
   "cell_type": "code",
   "execution_count": null,
   "id": "aee7554e",
   "metadata": {},
   "outputs": [],
   "source": [
    "new_dia_df = slcabpp_df.rename(columns = {'ligandable':'yang_wang_ligandable'})\n",
    "c_df_subset = pd.merge(c_df_subset, new_dia_df[['cysteineid', 'yang_wang_ligandable']], on = 'cysteineid', how = 'left')"
   ]
  },
  {
   "cell_type": "code",
   "execution_count": null,
   "id": "2d4e86bf",
   "metadata": {},
   "outputs": [],
   "source": [
    "test = pd.merge(c_df_subset, new_suzuki_df, on = 'cysteineid', how = 'outer')"
   ]
  },
  {
   "cell_type": "code",
   "execution_count": null,
   "id": "3d0ee3ca",
   "metadata": {},
   "outputs": [],
   "source": [
    "def get_ligandable_datasets(df):\n",
    "    datasets = []\n",
    "    \n",
    "    for index, row in df.iterrows():\n",
    "        current_datasets = ''\n",
    "        if row['backus_cravatt_ligandable'] == 'yes':\n",
    "            current_datasets += 'backus_cravatt' + ';'\n",
    "        if row['cao_backus_ligandable'] == 'yes':\n",
    "            current_datasets += 'cao_backus' + ';'\n",
    "        if row['vinogradova_cravatt_ligandable'] == 'yes':\n",
    "            current_datasets += 'vinogradova_cravatt' + ';'\n",
    "        if row['yan_backus_ligandable'] == 'yes':\n",
    "            current_datasets += 'yan_backus' + ';'\n",
    "        if row['kuljanin_gygi_ligandable'] == 'yes':\n",
    "            current_datasets += 'kuljanin_gygi' + ';'\n",
    "        if row['yang_wang_ligandable'] == 'yes':\n",
    "            current_datasets += 'yang_wang' + ';'\n",
    "            \n",
    "        datasets.append(current_datasets[:-1])\n",
    "    return datasets"
   ]
  },
  {
   "cell_type": "code",
   "execution_count": null,
   "id": "adf794eb",
   "metadata": {},
   "outputs": [],
   "source": [
    "datasets = get_ligandable_datasets(c_df_subset)"
   ]
  },
  {
   "cell_type": "code",
   "execution_count": null,
   "id": "c1c486cb",
   "metadata": {},
   "outputs": [],
   "source": [
    "c_df['ligandable_datasets'] = datasets"
   ]
  },
  {
   "cell_type": "code",
   "execution_count": null,
   "id": "4a756952",
   "metadata": {},
   "outputs": [],
   "source": [
    "c_df['ligandable'] = np.where(c_df['cysteineid'].isin(unique_c_ids), 'yes', None)"
   ]
  },
  {
   "cell_type": "code",
   "execution_count": null,
   "id": "96c7ec1e",
   "metadata": {},
   "outputs": [],
   "source": [
    "c_df['ligandable'].value_counts()"
   ]
  },
  {
   "cell_type": "code",
   "execution_count": null,
   "id": "2da78560",
   "metadata": {},
   "outputs": [],
   "source": [
    "subset_p_df = p_df.copy()"
   ]
  },
  {
   "cell_type": "code",
   "execution_count": null,
   "id": "71a863b5",
   "metadata": {},
   "outputs": [],
   "source": [
    "def get_ligandable_pro_ids(df, subset_p_df, dataset):\n",
    "    lig_df = df[df[dataset] == 'yes']\n",
    "    p_lig_ids = list(lig_df['proteinid'].unique())\n",
    "    \n",
    "    subset_p_df[dataset] = np.where(subset_p_df['proteinid'].isin(p_lig_ids), 'yes', None)\n",
    "    return subset_p_df"
   ]
  },
  {
   "cell_type": "code",
   "execution_count": null,
   "id": "3bbfeb21",
   "metadata": {},
   "outputs": [],
   "source": [
    "subset_p_df = get_ligandable_pro_ids(new_discovery_df, subset_p_df, 'backus_cravatt_ligandable')"
   ]
  },
  {
   "cell_type": "code",
   "execution_count": null,
   "id": "96cbd6da",
   "metadata": {},
   "outputs": [],
   "source": [
    "subset_p_df = get_ligandable_pro_ids(new_suzuki_df, subset_p_df, 'cao_backus_ligandable')"
   ]
  },
  {
   "cell_type": "code",
   "execution_count": null,
   "id": "ef240806",
   "metadata": {},
   "outputs": [],
   "source": [
    "subset_p_df = get_ligandable_pro_ids(new_tcell_df, subset_p_df, 'vinogradova_cravatt_ligandable')"
   ]
  },
  {
   "cell_type": "code",
   "execution_count": null,
   "id": "5b4c8af8",
   "metadata": {},
   "outputs": [],
   "source": [
    "subset_p_df = get_ligandable_pro_ids(new_sp3_df, subset_p_df, 'yan_backus_ligandable')"
   ]
  },
  {
   "cell_type": "code",
   "execution_count": null,
   "id": "2921d73f",
   "metadata": {},
   "outputs": [],
   "source": [
    "subset_p_df = get_ligandable_pro_ids(new_slcabpp_df, subset_p_df, 'kuljanin_gygi_ligandable')"
   ]
  },
  {
   "cell_type": "code",
   "execution_count": null,
   "id": "b79dc4ca",
   "metadata": {},
   "outputs": [],
   "source": [
    "subset_p_df = get_ligandable_pro_ids(new_dia_df, subset_p_df, 'yang_wang_ligandable')"
   ]
  },
  {
   "cell_type": "raw",
   "id": "3b9780d0",
   "metadata": {},
   "source": [
    "p_datasets = get_ligandable_datasets(subset_p_df)"
   ]
  },
  {
   "cell_type": "code",
   "execution_count": null,
   "id": "ee74c326",
   "metadata": {},
   "outputs": [],
   "source": [
    "p_df['ligandable_datasets'] = p_datasets"
   ]
  },
  {
   "cell_type": "code",
   "execution_count": null,
   "id": "a172a034",
   "metadata": {},
   "outputs": [],
   "source": [
    "p_df['ligandable'] = np.where(p_df['proteinid'].isin(unique_p_ids), 'yes', None)"
   ]
  },
  {
   "cell_type": "code",
   "execution_count": null,
   "id": "bd5c4118",
   "metadata": {},
   "outputs": [],
   "source": [
    "p_df['ligandable'].value_counts()"
   ]
  },
  {
   "cell_type": "code",
   "execution_count": null,
   "id": "40748dc1",
   "metadata": {},
   "outputs": [],
   "source": [
    "id_df = pd.concat([c_df, p_df])"
   ]
  },
  {
   "cell_type": "code",
   "execution_count": null,
   "id": "7b02bf3d",
   "metadata": {},
   "outputs": [],
   "source": [
    "id_df.shape"
   ]
  },
  {
   "cell_type": "code",
   "execution_count": null,
   "id": "1e94facb",
   "metadata": {},
   "outputs": [],
   "source": [
    "id_df.to_csv('cysteineomedb_id_rxt_lig.csv', index = False)"
   ]
  },
  {
   "cell_type": "markdown",
   "id": "c03d52a4",
   "metadata": {},
   "source": [
    "# Concatonated Ligandable Data"
   ]
  },
  {
   "cell_type": "code",
   "execution_count": null,
   "id": "e76432d1",
   "metadata": {},
   "outputs": [],
   "source": [
    "cysdb_datasetid_df = pd.read_csv('cysteineomedb_datasetid_rxt.csv')"
   ]
  },
  {
   "cell_type": "code",
   "execution_count": null,
   "id": "2a251e67",
   "metadata": {},
   "outputs": [],
   "source": [
    "cysdb_datasetid_df "
   ]
  },
  {
   "cell_type": "code",
   "execution_count": null,
   "id": "4e3fce65",
   "metadata": {},
   "outputs": [],
   "source": [
    "c_cysdb_datasetid_df = cysdb_datasetid_df[cysdb_datasetid_df['level'] == 'cysteine']"
   ]
  },
  {
   "cell_type": "code",
   "execution_count": null,
   "id": "bef9692b",
   "metadata": {},
   "outputs": [],
   "source": [
    "p_cysdb_datasetid_df = cysdb_datasetid_df[cysdb_datasetid_df['level'] == 'protein']"
   ]
  },
  {
   "cell_type": "code",
   "execution_count": null,
   "id": "05f3c2bd",
   "metadata": {},
   "outputs": [],
   "source": [
    "def get_new_concat_df(df, cysdb_df, dataset, lig_name, name):\n",
    "    current_df = cysdb_df[cysdb_df['dataset'] == dataset]\n",
    "    cys_df = current_df[current_df['level'] == 'cysteine']\n",
    "    pro_df = current_df[['proteinid']]\n",
    "    pro_df = pro_df.drop_duplicates()\n",
    "    \n",
    "    ligandable = df[df[lig_name] == 'yes']\n",
    "    ligandable_cys_ids = list(ligandable['cysteineid'].unique())\n",
    "    ligandable_pro_ids = list(ligandable['proteinid'].unique())\n",
    "    \n",
    "    cys_df['ligandable'] = np.where(cys_df['cysteineid'].isin(ligandable_cys_ids), 'yes', None)\n",
    "    cys_df['ligandable_datasets'] = np.where(cys_df['cysteineid'].isin(ligandable_cys_ids), name, None)\n",
    "    cys_df = cys_df[['cysteineid', 'ligandable', 'ligandable_datasets']]\n",
    "    cys_df['dataset'] = name\n",
    "    \n",
    "    pro_df['ligandable'] = np.where(pro_df['proteinid'].isin(ligandable_pro_ids), 'yes', None)\n",
    "    pro_df['ligandable_datasets'] = np.where(pro_df['proteinid'].isin(ligandable_pro_ids), name, None)\n",
    "    pro_df['dataset'] = name\n",
    "    \n",
    "    return cys_df, pro_df"
   ]
  },
  {
   "cell_type": "code",
   "execution_count": null,
   "id": "7a0e1fcf",
   "metadata": {},
   "outputs": [],
   "source": [
    "cys_discovery_df, pro_discovery_df = get_new_concat_df(c_df_subset, c_cysdb_datasetid_df, 'backus_cravatt', 'backus_cravatt_ligandable', 'backus_cravatt')"
   ]
  },
  {
   "cell_type": "code",
   "execution_count": null,
   "id": "27a4335b",
   "metadata": {},
   "outputs": [],
   "source": [
    "cys_suzuki_df, pro_suzuki_df = get_new_concat_df(c_df_subset, c_cysdb_datasetid_df, 'cao_backus', 'cao_backus_ligandable', 'cao_backus')"
   ]
  },
  {
   "cell_type": "code",
   "execution_count": null,
   "id": "4227fe45",
   "metadata": {},
   "outputs": [],
   "source": [
    "cys_sp3_df, pro_sp3_df = get_new_concat_df(c_df_subset, c_cysdb_datasetid_df, 'yan_backus', 'yan_backus_ligandable', 'yan_backus')"
   ]
  },
  {
   "cell_type": "code",
   "execution_count": null,
   "id": "6ccc98bc",
   "metadata": {},
   "outputs": [],
   "source": [
    "cys_tcell_df, pro_tcell_df = get_new_concat_df(c_df_subset, c_cysdb_datasetid_df, 'vinogradova_cravatt', 'vinogradova_cravatt_ligandable', 'vinogradova_cravatt')"
   ]
  },
  {
   "cell_type": "code",
   "execution_count": null,
   "id": "23ae4d72",
   "metadata": {},
   "outputs": [],
   "source": [
    "cys_slcabpp_df, pro_slcabpp_df = get_new_concat_df(c_df_subset, c_cysdb_datasetid_df, 'kuljanin_gygi', 'kuljanin_gygi_ligandable', 'kuljanin_gygi')"
   ]
  },
  {
   "cell_type": "code",
   "execution_count": null,
   "id": "b86d42e1",
   "metadata": {},
   "outputs": [],
   "source": [
    "cys_dia_df, pro_dia_df = get_new_concat_df(c_df_subset, c_cysdb_datasetid_df, 'yang_wang', 'yang_wang_ligandable', 'yang_wang')"
   ]
  },
  {
   "cell_type": "code",
   "execution_count": null,
   "id": "c1fd6409",
   "metadata": {},
   "outputs": [],
   "source": [
    "new_c_df = pd.concat([cys_discovery_df,\n",
    "                     cys_suzuki_df,\n",
    "                     cys_sp3_df,\n",
    "                     cys_tcell_df,\n",
    "                     cys_slcabpp_df,\n",
    "                     cys_dia_df])"
   ]
  },
  {
   "cell_type": "code",
   "execution_count": null,
   "id": "43e70df3",
   "metadata": {},
   "outputs": [],
   "source": [
    "new_p_df = pd.concat([pro_discovery_df,\n",
    "                     pro_suzuki_df,\n",
    "                     pro_sp3_df,\n",
    "                     pro_tcell_df,\n",
    "                     pro_slcabpp_df,\n",
    "                     pro_dia_df])"
   ]
  },
  {
   "cell_type": "code",
   "execution_count": null,
   "id": "8a681a5d",
   "metadata": {},
   "outputs": [],
   "source": [
    "new_c_datasetid_df = pd.merge(c_cysdb_datasetid_df, new_c_df, left_on = ['cysteineid', 'dataset'], right_on = ['cysteineid', 'dataset'], how = 'left')"
   ]
  },
  {
   "cell_type": "code",
   "execution_count": null,
   "id": "63c394c6",
   "metadata": {},
   "outputs": [],
   "source": [
    "new_p_datasetid_df = pd.merge(p_cysdb_datasetid_df, new_p_df, left_on = ['proteinid', 'dataset'], right_on = ['proteinid', 'dataset'], how =  'left')"
   ]
  },
  {
   "cell_type": "code",
   "execution_count": null,
   "id": "3bc385fa",
   "metadata": {},
   "outputs": [],
   "source": [
    "new_datasetid_df = pd.concat([new_c_datasetid_df, new_p_datasetid_df])"
   ]
  },
  {
   "cell_type": "code",
   "execution_count": null,
   "id": "3d84ffab",
   "metadata": {},
   "outputs": [],
   "source": [
    "new_datasetid_df.to_csv('cysteineomedb_datasetid_rxt_lig.csv', index = False)"
   ]
  },
  {
   "cell_type": "code",
   "execution_count": null,
   "id": "dc957509",
   "metadata": {},
   "outputs": [],
   "source": [
    "new_datasetid_df['ligandable'].value_counts()"
   ]
  },
  {
   "cell_type": "code",
   "execution_count": null,
   "id": "5d9c6564",
   "metadata": {},
   "outputs": [],
   "source": []
  }
 ],
 "metadata": {
  "kernelspec": {
   "display_name": "Python 3 (ipykernel)",
   "language": "python",
   "name": "python3"
  },
  "language_info": {
   "codemirror_mode": {
    "name": "ipython",
    "version": 3
   },
   "file_extension": ".py",
   "mimetype": "text/x-python",
   "name": "python",
   "nbconvert_exporter": "python",
   "pygments_lexer": "ipython3",
   "version": "3.9.7"
  }
 },
 "nbformat": 4,
 "nbformat_minor": 5
}
