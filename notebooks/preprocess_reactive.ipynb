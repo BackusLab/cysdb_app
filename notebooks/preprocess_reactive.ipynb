{
 "cells": [
  {
   "cell_type": "markdown",
   "id": "36fccb12",
   "metadata": {},
   "source": [
    "Reformat published datasets for CysteineomeDB.\n",
    "Categories: Dataset Found, Reactive, Ligandable, Identified but not Ligandale, and Conditional.\n",
    "Note: Annotations from authors were used to determine \"ligandabiliy.\"\n",
    "Note: Yang DIA paper did not provide cysteine residue numbers. Peptide sequences were manually mapped to the uniprot fasta (2201). "
   ]
  },
  {
   "cell_type": "markdown",
   "id": "0e870d93",
   "metadata": {},
   "source": [
    "# Setup Environment"
   ]
  },
  {
   "cell_type": "code",
   "execution_count": null,
   "id": "15f1f9c1",
   "metadata": {},
   "outputs": [],
   "source": [
    "import os, sys\n",
    "import numpy as np\n",
    "import matplotlib.pyplot as plt\n",
    "import pandas as pd\n",
    "import csv\n",
    "import matplotlib\n",
    "import numpy as np\n",
    "import math\n",
    "from matplotlib.pyplot import figure\n",
    "import Bio\n",
    "from Bio import SeqIO\n",
    "from functools import reduce\n",
    "import seaborn as sns\n",
    "from statistics import mean"
   ]
  },
  {
   "cell_type": "code",
   "execution_count": null,
   "id": "2c2056bf",
   "metadata": {},
   "outputs": [],
   "source": [
    "cd = os.getcwd()\n",
    "cd"
   ]
  },
  {
   "cell_type": "code",
   "execution_count": null,
   "id": "f2339ace",
   "metadata": {},
   "outputs": [],
   "source": [
    "date = '220919'"
   ]
  },
  {
   "cell_type": "code",
   "execution_count": null,
   "id": "0760fb7c",
   "metadata": {},
   "outputs": [],
   "source": [
    "path_data = os.path.join(os.getcwd(), 'results')\n",
    "if not os.path.exists(path_data):\n",
    "    os.makedirs(path_data)"
   ]
  },
  {
   "cell_type": "code",
   "execution_count": null,
   "id": "ccd0cae0",
   "metadata": {},
   "outputs": [],
   "source": [
    "def get_new_df(dfs, dataset, col1, col2, cys):\n",
    "    new_df = pd.concat(dfs)\n",
    "    \n",
    "    new_df = new_df[new_df[col1].str.contains(\"contaminant\") == False]\n",
    "    \n",
    "    if dataset == 'kuljanin_gygi':\n",
    "        new_df['proteinid'] = new_df[col1].map(lambda x: str(x).split('|')[1])\n",
    "        new_df['resid'] = new_df[col2].map(lambda x: 'C' + str(x))\n",
    "    elif dataset == 'weerapana_cravatt':\n",
    "        new_df['proteinid'] = new_df[col1].map(lambda x: str(x))\n",
    "        new_df['resid'] = new_df[col2].map(lambda x: 'C' + str(x))\n",
    "    elif dataset == 'backus_cravatt':\n",
    "        new_df['proteinid'] = new_df['Identifier'].map(lambda x: str(x).split('_')[0])\n",
    "        new_df['resid'] = new_df['Identifier'].map(lambda x: str(x).split('_')[-1]) \n",
    "    elif dataset == 'yan_backus':\n",
    "        new_df['proteinid'] = new_df[col1]\n",
    "        new_df['resid'] = new_df['identifier'].map(lambda x: 'C' + str(x).split('_')[-1]) \n",
    "    elif dataset == 'yang_wang':\n",
    "        new_df['proteinid'] = new_df[col1]\n",
    "        new_df['resid'] = new_df[col2].map(lambda x: 'C' + str(x))         \n",
    "    else:\n",
    "        new_df = new_df.rename(columns = {col1: 'proteinid', col2: 'resid'})\n",
    "        \n",
    "    new_df['cysteineid'] = new_df['proteinid'] + '_' + new_df['resid'].astype(str)\n",
    "    new_df['dataset'] = dataset\n",
    "    new_df['identified'] = 1\n",
    "    new_df['identified_datasets'] = dataset\n",
    "    \n",
    "    if cys == True:\n",
    "        new_df['level'] = 'cysteine'\n",
    "        new_df = new_df[['level', 'cysteineid', 'proteinid', 'dataset', 'identified', 'identified_datasets']]\n",
    "    else:\n",
    "        new_df['level'] = 'protein'\n",
    "        new_df = new_df[['level', 'proteinid', 'dataset', 'identified', 'identified_datasets']]\n",
    "    new_df = new_df.drop_duplicates()\n",
    "    \n",
    "    return new_df"
   ]
  },
  {
   "cell_type": "code",
   "execution_count": null,
   "id": "7ce86ee6",
   "metadata": {},
   "outputs": [],
   "source": [
    "def get_cys_uniprot_identifier(master, df, dataset, category, category_datasets, col1, col2):\n",
    "    if dataset == 'weerapana_cravatt':\n",
    "        df['proteinid'] = df[col1].map(lambda x: str(x))\n",
    "        df['resid'] = df[col2].map(lambda x: 'C' + str(x))\n",
    "    elif dataset == 'kuljanin_gygi':\n",
    "        df = df[[col1, col2]]\n",
    "        df = df.drop_duplicates()\n",
    "        df['proteinid'] = df[col1].map(lambda x: str(x).split('|')[1])\n",
    "        df['resid'] = df[col2].map(lambda x: 'C' + str(x))\n",
    "    elif dataset == 'backus_cravatt':\n",
    "        df['proteinid'] = df['Identifier'].map(lambda x: str(x).split('_')[0])\n",
    "        df['resid'] = df['Identifier'].map(lambda x: str(x).split('_')[-1])  \n",
    "        df = df[['proteinid', 'resid']]\n",
    "        df = df.drop_duplicates()\n",
    "    elif dataset == 'yang_wang':\n",
    "        df['proteinid'] = df[col1]\n",
    "        df['resid'] = df[col2].map(lambda x: 'C' + str(x)) \n",
    "    else:\n",
    "        df = df[[col1, col2]]\n",
    "        df = df.drop_duplicates()\n",
    "        df = df.rename(columns = {col1: 'proteinid', col2: 'resid'})\n",
    "        \n",
    "    df['cysteineid'] = df['proteinid'] + '_' + df['resid'].astype(str)\n",
    "    df_ids = list(df['cysteineid'].unique())\n",
    "    \n",
    "    master[category] = np.where(master['cysteineid'].isin(df_ids), 1, 0)\n",
    "    category_df = master[master[category] == 1]\n",
    "    category_df[category  + '_datasets'] = [category_datasets] * category_df.shape[0]\n",
    "    non_category_df = master[master[category] == 0]\n",
    "    \n",
    "    new_df = pd.concat([category_df, non_category_df])\n",
    "    \n",
    "    return new_df"
   ]
  },
  {
   "cell_type": "code",
   "execution_count": null,
   "id": "95d7b730",
   "metadata": {},
   "outputs": [],
   "source": [
    "def get_pro_uniprot_identifier(master, df, dataset, category, category_datasets, col1, col2):\n",
    "    if dataset == 'weerapana_cravatt':\n",
    "        df['proteinid'] = df[col1].map(lambda x: str(x))\n",
    "    elif dataset == 'kuljanin_gygi':\n",
    "        df = df[[col1, col2]]\n",
    "        df = df.drop_duplicates()\n",
    "        df['proteinid'] = df[col1].map(lambda x: str(x).split('|')[1])\n",
    "    elif dataset == 'backus_cravatt':\n",
    "        df['proteinid'] = df['Identifier'].map(lambda x: str(x).split('_')[0])\n",
    "        df = df[['proteinid']]\n",
    "        df = df.drop_duplicates()\n",
    "    elif dataset == 'yang_wang':\n",
    "        df['proteinid'] = df[col1]\n",
    "    else:\n",
    "        df = df[[col1]]\n",
    "        df = df.drop_duplicates()\n",
    "        df = df.rename(columns = {col1: 'proteinid'})\n",
    "\n",
    "    df_ids = list(df['proteinid'].unique())\n",
    "    \n",
    "    master[category] = np.where(master['proteinid'].isin(df_ids), 1, 0)\n",
    "    category_df = master[master[category] == 1]\n",
    "    category_df[category  + '_datasets'] = [category_datasets] * category_df.shape[0]\n",
    "    non_category_df = master[master[category] == 0]\n",
    "    \n",
    "    new_df = pd.concat([category_df, non_category_df])\n",
    "    \n",
    "    return new_df"
   ]
  },
  {
   "cell_type": "code",
   "execution_count": null,
   "id": "25063cbc",
   "metadata": {},
   "outputs": [],
   "source": [
    "def get_ligandability(df, compound_list, cutoff):\n",
    "    ligandable = []\n",
    "    \n",
    "    for index, row in df.iterrows():\n",
    "        \n",
    "        count = 0\n",
    "\n",
    "        for i in range(len(compound_list)):\n",
    "            current_ratio = row[compound_list[i]]\n",
    "            \n",
    "            if type(current_ratio) != int and type(current_ratio) != float:\n",
    "                continue\n",
    "            else:    \n",
    "                if float(current_ratio) >= 4:\n",
    "                    count += 1\n",
    "    \n",
    "        if count >= cutoff:\n",
    "            ligandable.append('yes')\n",
    "        else:\n",
    "            ligandable.append(np.nan)\n",
    "            \n",
    "    df['ligandable'] = ligandable\n",
    "    \n",
    "    df_identified = df[df['ligandable'].isna() == True]\n",
    "    df_ligandable = df[df['ligandable'].isna() == False]\n",
    "    return df_identified, df_ligandable"
   ]
  },
  {
   "cell_type": "code",
   "execution_count": null,
   "id": "51a4fe8e",
   "metadata": {},
   "outputs": [],
   "source": [
    "def list_to_string(lst, symbol):\n",
    "    return (symbol.join([str(elem) for elem in lst]))"
   ]
  },
  {
   "cell_type": "code",
   "execution_count": null,
   "id": "b626da51",
   "metadata": {},
   "outputs": [],
   "source": [
    "def get_reactivity_bin(df, mean):\n",
    "    reactivity_labels = []\n",
    "    \n",
    "    for index, row in df.iterrows():\n",
    "        ratio = row[mean]\n",
    "        if ratio < 2:\n",
    "            reactivity_labels.append('High')\n",
    "        elif (ratio > 2) & (ratio <= 5):\n",
    "            reactivity_labels.append('Medium')\n",
    "        else:\n",
    "            reactivity_labels.append('Low')\n",
    "    return reactivity_labels"
   ]
  },
  {
   "cell_type": "markdown",
   "id": "8d41cf6a",
   "metadata": {},
   "source": [
    "# Create final files"
   ]
  },
  {
   "cell_type": "markdown",
   "id": "5a2b2fdf",
   "metadata": {},
   "source": [
    "## cysteineid, hyperreactive, hyperreactive_datasets, cysdb_mean, cysdb_stdev, weerapana_mean, palafox_mean, vinogradova_mean "
   ]
  },
  {
   "cell_type": "code",
   "execution_count": null,
   "id": "6608c57b",
   "metadata": {},
   "outputs": [],
   "source": [
    "# cysteineid\tidentified\tidentified_datasets\treactive\treactive_datasets\tligandable\tligandable_datasets\tcellline\tcellline_datasets\tcondition\tcondition_datasets\tlevel\tproteinid"
   ]
  },
  {
   "cell_type": "code",
   "execution_count": null,
   "id": "0f82b9a8",
   "metadata": {},
   "outputs": [],
   "source": [
    "os.chdir(cd)\n",
    "# os.chdir('results')\n",
    "# os.chdir('../')"
   ]
  },
  {
   "cell_type": "code",
   "execution_count": null,
   "id": "5fc45a3b",
   "metadata": {},
   "outputs": [],
   "source": [
    "new_reactivity_df = pd.read_csv('cysteineomedb_reactive_dataset.csv')"
   ]
  },
  {
   "cell_type": "code",
   "execution_count": null,
   "id": "ae191bb2",
   "metadata": {},
   "outputs": [],
   "source": [
    "reactivity_id_df = new_reactivity_df.copy()"
   ]
  },
  {
   "cell_type": "code",
   "execution_count": null,
   "id": "1d99a803",
   "metadata": {},
   "outputs": [],
   "source": [
    "pro_reactivity_id_df = new_reactivity_df.copy()"
   ]
  },
  {
   "cell_type": "markdown",
   "id": "eb34c2ff",
   "metadata": {},
   "source": [
    "## Cysteine Level"
   ]
  },
  {
   "cell_type": "code",
   "execution_count": null,
   "id": "8f66320f",
   "metadata": {},
   "outputs": [],
   "source": [
    "def get_hyperreactive_datasets(df):\n",
    "    datasets = []\n",
    "    means = []\n",
    "    \n",
    "    df = df.replace(np.nan, 0)\n",
    "    \n",
    "    for index, row in df.iterrows():\n",
    "        current_datasets = ''\n",
    "        current_means = ''\n",
    "\n",
    "        if (row['weerapana_mean'] != 0) & (row['weerapana_mean'] < 2):\n",
    "            current_datasets += 'weerapana_cravatt' + ';'\n",
    "        if (row['palafox_mean'] != 0) & (row['palafox_mean'] < 2):\n",
    "            current_datasets += 'palafox_backus' + ';'\n",
    "        if (row['vinogradova_mean'] != 0) & (row['vinogradova_mean'] < 2):\n",
    "            current_datasets += 'vinogradova_cravatt' + ';'\n",
    "            \n",
    "        if len(current_datasets) == 0:\n",
    "            datasets.append(None)\n",
    "            means.append(None)\n",
    "        else:\n",
    "            datasets.append(current_datasets[:-1])\n",
    "            means.append(current_means[:-1])\n",
    "    return datasets, means"
   ]
  },
  {
   "cell_type": "code",
   "execution_count": null,
   "id": "199723ae",
   "metadata": {},
   "outputs": [],
   "source": [
    "hyperreactive_datasets, hyperreactive_means = get_hyperreactive_datasets(reactivity_id_df)"
   ]
  },
  {
   "cell_type": "code",
   "execution_count": null,
   "id": "41a6b3c6",
   "metadata": {},
   "outputs": [],
   "source": [
    "reactivity_id_df['hyperreactive_datasets'] = hyperreactive_datasets"
   ]
  },
  {
   "cell_type": "code",
   "execution_count": null,
   "id": "258f1c80",
   "metadata": {},
   "outputs": [],
   "source": [
    "def get_reactive_datasets(df):\n",
    "    datasets = []\n",
    "    means = []\n",
    "    \n",
    "    df = df.replace(np.nan, 0)\n",
    "    \n",
    "    for index, row in df.iterrows():\n",
    "        current_datasets = ''\n",
    "        current_means = ''\n",
    "        if (row['weerapana_mean'] != 0):\n",
    "            current_datasets += 'weerapana_cravatt' + ';'\n",
    "            current_means += str(row['weerapana_mean']) + ';'\n",
    "        if (row['palafox_mean'] != 0):\n",
    "            current_datasets += 'palafox_backus' + ';'\n",
    "            current_means += str(row['palafox_mean']) + ';'\n",
    "        if (row['vinogradova_mean'] != 0):\n",
    "            current_datasets += 'vinogradova_cravatt' + ';'\n",
    "            current_means += str(row['vinogradova_mean']) + ';'\n",
    "            \n",
    "        if len(current_datasets) == 0:\n",
    "            datasets.append(None)\n",
    "            means.append(None)\n",
    "        else:\n",
    "            datasets.append(current_datasets[:-1])\n",
    "            means.append(current_means[:-1])\n",
    "    return datasets, means"
   ]
  },
  {
   "cell_type": "code",
   "execution_count": null,
   "id": "97ebb459",
   "metadata": {},
   "outputs": [],
   "source": [
    "datasets, means = get_reactive_datasets(reactivity_id_df)"
   ]
  },
  {
   "cell_type": "code",
   "execution_count": null,
   "id": "fba16366",
   "metadata": {},
   "outputs": [],
   "source": [
    "reactivity_id_df['reactive_datasets'] = datasets"
   ]
  },
  {
   "cell_type": "code",
   "execution_count": null,
   "id": "62b9d82b",
   "metadata": {},
   "outputs": [],
   "source": [
    "reactivity_id_df['level'] = 'cysteine'"
   ]
  },
  {
   "cell_type": "markdown",
   "id": "ecb1008f",
   "metadata": {},
   "source": [
    "## Protein Level"
   ]
  },
  {
   "cell_type": "code",
   "execution_count": null,
   "id": "f439c7c2",
   "metadata": {},
   "outputs": [],
   "source": [
    "pro_reactivity_id_df = reactivity_id_df.copy()"
   ]
  },
  {
   "cell_type": "code",
   "execution_count": null,
   "id": "09bd3b59",
   "metadata": {},
   "outputs": [],
   "source": [
    "pro_reactivity_id_df = pro_reactivity_id_df[['proteinid']]"
   ]
  },
  {
   "cell_type": "code",
   "execution_count": null,
   "id": "a0b0881a",
   "metadata": {},
   "outputs": [],
   "source": [
    "pro_reactivity_id_df = pro_reactivity_id_df.drop_duplicates()"
   ]
  },
  {
   "cell_type": "code",
   "execution_count": null,
   "id": "a23fdee2",
   "metadata": {},
   "outputs": [],
   "source": [
    "def get_h_pro_ids(df, dataset, cutoff):\n",
    "    \n",
    "    h_df = df[df[dataset] < cutoff]\n",
    "    \n",
    "    h_pro_ids = list(h_df['proteinid'].unique())\n",
    "    h_cys_ids = list(h_df['cysteineid'].unique())\n",
    "    \n",
    "    return h_pro_ids, h_cys_ids"
   ]
  },
  {
   "cell_type": "code",
   "execution_count": null,
   "id": "2446953c",
   "metadata": {},
   "outputs": [],
   "source": [
    "w_pro_ids, w_cys_ids = get_h_pro_ids(reactivity_id_df, 'weerapana_mean', 2)"
   ]
  },
  {
   "cell_type": "code",
   "execution_count": null,
   "id": "1bf2aeee",
   "metadata": {},
   "outputs": [],
   "source": [
    "p_pro_ids, p_cys_ids = get_h_pro_ids(reactivity_id_df, 'palafox_mean', 2)"
   ]
  },
  {
   "cell_type": "code",
   "execution_count": null,
   "id": "78d6288d",
   "metadata": {},
   "outputs": [],
   "source": [
    "v_pro_ids, v_cys_ids = get_h_pro_ids(reactivity_id_df, 'vinogradova_mean', 2)"
   ]
  },
  {
   "cell_type": "code",
   "execution_count": null,
   "id": "d7e438cb",
   "metadata": {},
   "outputs": [],
   "source": [
    "def get_hyperreactive_proteins(df, w_pro_ids, p_pro_ids, v_pro_ids):\n",
    "    datasets = []\n",
    "    hyperreactive = []\n",
    "    \n",
    "    for index, row in df.iterrows():\n",
    "        ds_hyperreactive = ''\n",
    "        if row['proteinid'] in w_pro_ids:\n",
    "            ds_hyperreactive += 'weerapana_cravatt' + ';'\n",
    "        if row['proteinid'] in p_pro_ids:\n",
    "            ds_hyperreactive += 'palafox_backus' + ';'\n",
    "        if row['proteinid'] in v_pro_ids:\n",
    "            ds_hyperreactive += 'vinogradova_cravatt' + ';'\n",
    "            \n",
    "        datasets.append(ds_hyperreactive[:-1])\n",
    "        \n",
    "        if ds_hyperreactive != '':\n",
    "            hyperreactive.append('yes')\n",
    "        else:\n",
    "            hyperreactive.append(np.nan)\n",
    "            \n",
    "    return hyperreactive, datasets"
   ]
  },
  {
   "cell_type": "code",
   "execution_count": null,
   "id": "22ad737e",
   "metadata": {},
   "outputs": [],
   "source": [
    "hyper, datasets = get_hyperreactive_proteins(pro_reactivity_id_df, w_pro_ids, p_pro_ids, v_pro_ids)"
   ]
  },
  {
   "cell_type": "code",
   "execution_count": null,
   "id": "b235358d",
   "metadata": {},
   "outputs": [],
   "source": [
    "pro_reactivity_id_df['hyperreactive'] = hyper\n",
    "pro_reactivity_id_df['hyperreactive_datasets'] = datasets"
   ]
  },
  {
   "cell_type": "code",
   "execution_count": null,
   "id": "795fad6e",
   "metadata": {},
   "outputs": [],
   "source": [
    "pro_reactivity_id_df['level'] = 'protein'"
   ]
  },
  {
   "cell_type": "code",
   "execution_count": null,
   "id": "2330cbb2",
   "metadata": {},
   "outputs": [],
   "source": [
    "pro_reactivity_id_df['hyperreactive'].value_counts()"
   ]
  },
  {
   "cell_type": "code",
   "execution_count": null,
   "id": "7a782a3e",
   "metadata": {},
   "outputs": [],
   "source": [
    "c_reactivity_id_df = reactivity_id_df.copy()"
   ]
  },
  {
   "cell_type": "code",
   "execution_count": null,
   "id": "7b7875d3",
   "metadata": {},
   "outputs": [],
   "source": [
    "p_reactivity_id_df = pro_reactivity_id_df.copy()"
   ]
  },
  {
   "cell_type": "markdown",
   "id": "d1dfacb0",
   "metadata": {},
   "source": [
    "# Merge Cysteine and Protein"
   ]
  },
  {
   "cell_type": "code",
   "execution_count": null,
   "id": "5aeefff0",
   "metadata": {},
   "outputs": [],
   "source": [
    "cys_reactivity_id_df = reactivity_id_df[['cysteineid', 'proteinid', 'hyperreactive', 'hyperreactive_datasets', 'level']]"
   ]
  },
  {
   "cell_type": "code",
   "execution_count": null,
   "id": "b0d203de",
   "metadata": {},
   "outputs": [],
   "source": [
    "reactive_df = pd.concat([cys_reactivity_id_df, pro_reactivity_id_df])"
   ]
  },
  {
   "cell_type": "code",
   "execution_count": null,
   "id": "52332cde",
   "metadata": {},
   "outputs": [],
   "source": [
    "reactive_df.to_csv('cysteineomedb_id_reactive.csv', index = False)"
   ]
  },
  {
   "cell_type": "code",
   "execution_count": null,
   "id": "030303f3",
   "metadata": {},
   "outputs": [],
   "source": [
    "reactivity_id_df = pd.read_csv('cysteineomedb_id_reactive.csv')"
   ]
  },
  {
   "cell_type": "code",
   "execution_count": null,
   "id": "3023f7fb",
   "metadata": {},
   "outputs": [],
   "source": [
    "cys_reactivity_id_df = reactivity_id_df[reactivity_id_df['level'] == 'cysteine']"
   ]
  },
  {
   "cell_type": "code",
   "execution_count": null,
   "id": "7846b23c",
   "metadata": {},
   "outputs": [],
   "source": [
    "pro_reactivity_id_df = reactivity_id_df[reactivity_id_df['level'] == 'protein']"
   ]
  },
  {
   "cell_type": "markdown",
   "id": "79e0e838",
   "metadata": {},
   "source": [
    "# Merge with CysteineomeDB ID"
   ]
  },
  {
   "cell_type": "code",
   "execution_count": null,
   "id": "798d51b7",
   "metadata": {},
   "outputs": [],
   "source": [
    "os.chdir('results')"
   ]
  },
  {
   "cell_type": "code",
   "execution_count": null,
   "id": "8cfce37c",
   "metadata": {},
   "outputs": [],
   "source": [
    "cysdb_id_df = pd.read_csv('cysteineomedb_id.csv')"
   ]
  },
  {
   "cell_type": "code",
   "execution_count": null,
   "id": "473f3366",
   "metadata": {},
   "outputs": [],
   "source": [
    "cys_cysdb_id_df = cysdb_id_df[cysdb_id_df['level'] == 'cysteine']"
   ]
  },
  {
   "cell_type": "code",
   "execution_count": null,
   "id": "3adc0d9c",
   "metadata": {},
   "outputs": [],
   "source": [
    "subset_reactivity_id_df = c_reactivity_id_df[['cysteineid', 'hyperreactive', 'hyperreactive_datasets']]"
   ]
  },
  {
   "cell_type": "code",
   "execution_count": null,
   "id": "7c521e48",
   "metadata": {},
   "outputs": [],
   "source": [
    "cys_id_df = pd.merge(cys_cysdb_id_df, subset_reactivity_id_df, on = 'cysteineid', how = 'left')"
   ]
  },
  {
   "cell_type": "code",
   "execution_count": null,
   "id": "632f4f51",
   "metadata": {},
   "outputs": [],
   "source": [
    "pro_cysdb_id_df = cysdb_id_df[cysdb_id_df['level'] == 'protein']"
   ]
  },
  {
   "cell_type": "code",
   "execution_count": null,
   "id": "210ed190",
   "metadata": {},
   "outputs": [],
   "source": [
    "subset_pro_reactivity_id_df = p_reactivity_id_df[['proteinid', 'hyperreactive', 'hyperreactive_datasets']]"
   ]
  },
  {
   "cell_type": "code",
   "execution_count": null,
   "id": "c2d86637",
   "metadata": {},
   "outputs": [],
   "source": [
    "pro_id_df = pd.merge(pro_cysdb_id_df, subset_pro_reactivity_id_df, on = 'proteinid', how = 'left')"
   ]
  },
  {
   "cell_type": "code",
   "execution_count": null,
   "id": "5f185903",
   "metadata": {},
   "outputs": [],
   "source": [
    "new_cysdb_id_df = pd.concat([cys_id_df, pro_id_df])"
   ]
  },
  {
   "cell_type": "code",
   "execution_count": null,
   "id": "13b0bf1f",
   "metadata": {},
   "outputs": [],
   "source": [
    "new_cysdb_id_df.to_csv('cysteineomedb_id_rxt.csv', index = False)"
   ]
  },
  {
   "cell_type": "markdown",
   "id": "ed924f03",
   "metadata": {},
   "source": [
    "# Concatonated Reactivity Data"
   ]
  },
  {
   "cell_type": "code",
   "execution_count": null,
   "id": "5254d413",
   "metadata": {},
   "outputs": [],
   "source": [
    "def get_new_concat_df(df, dataset, name):\n",
    "    current_df = df[df[dataset].isna() == False]\n",
    "    cys_df = current_df[current_df['level'] == 'cysteine']\n",
    "    pro_df = current_df[['proteinid']]\n",
    "    pro_df = pro_df.drop_duplicates()\n",
    "    \n",
    "    hyperreactive = cys_df[cys_df[dataset] < 2]\n",
    "    hyperreactive_pro_ids = list(hyperreactive['proteinid'].unique())\n",
    "    \n",
    "    cys_df['hyperreactive'] = np.where(cys_df[dataset] < 2, 'yes', None)\n",
    "    cys_df['hyperreactive_datasets'] = np.where(cys_df[dataset] < 2, name, None)\n",
    "    cys_df = cys_df[['cysteineid', 'hyperreactive', 'hyperreactive_datasets']]\n",
    "    cys_df['dataset'] = name\n",
    "    \n",
    "    pro_df['hyperreactive'] = np.where(pro_df['proteinid'].isin(hyperreactive_pro_ids), 'yes', None)\n",
    "    pro_df['hyperreactive_datasets'] = np.where(pro_df['proteinid'].isin(hyperreactive_pro_ids), name, None)\n",
    "    pro_df['dataset'] = name\n",
    "    \n",
    "    return cys_df, pro_df"
   ]
  },
  {
   "cell_type": "code",
   "execution_count": null,
   "id": "6a8fb33b",
   "metadata": {},
   "outputs": [],
   "source": [
    "new_w_cys_df, new_w_pro_df = get_new_concat_df(c_reactivity_id_df, 'weerapana_mean', 'weerapana_cravatt')"
   ]
  },
  {
   "cell_type": "code",
   "execution_count": null,
   "id": "c5d1163d",
   "metadata": {},
   "outputs": [],
   "source": [
    "new_p_cys_df, new_p_pro_df = get_new_concat_df(c_reactivity_id_df, 'palafox_mean', 'palafox_backus')"
   ]
  },
  {
   "cell_type": "code",
   "execution_count": null,
   "id": "3418ee10",
   "metadata": {},
   "outputs": [],
   "source": [
    "new_v_cys_df, new_v_pro_df = get_new_concat_df(c_reactivity_id_df, 'vinogradova_mean', 'vinogradova_cravatt')"
   ]
  },
  {
   "cell_type": "code",
   "execution_count": null,
   "id": "9d7279e4",
   "metadata": {},
   "outputs": [],
   "source": [
    "c_datasetid_df = pd.concat([new_w_cys_df, new_p_cys_df, new_v_cys_df])"
   ]
  },
  {
   "cell_type": "code",
   "execution_count": null,
   "id": "09ccbe1b",
   "metadata": {},
   "outputs": [],
   "source": [
    "p_datasetid_df = pd.concat([new_w_pro_df, new_p_pro_df, new_v_pro_df])"
   ]
  },
  {
   "cell_type": "markdown",
   "id": "28d992d6",
   "metadata": {},
   "source": [
    "# Merge with CysteineomeDB Dataset"
   ]
  },
  {
   "cell_type": "code",
   "execution_count": null,
   "id": "ee98f658",
   "metadata": {},
   "outputs": [],
   "source": [
    "cysdb_datasetid_df = pd.read_csv('cysteineomedb_datasetid.csv')"
   ]
  },
  {
   "cell_type": "code",
   "execution_count": null,
   "id": "b757a177",
   "metadata": {},
   "outputs": [],
   "source": [
    "c_cysdb_datasetid_df = cysdb_datasetid_df[cysdb_datasetid_df['level'] == 'cysteine']"
   ]
  },
  {
   "cell_type": "code",
   "execution_count": null,
   "id": "7be5c8ba",
   "metadata": {},
   "outputs": [],
   "source": [
    "p_cysdb_datasetid_df = cysdb_datasetid_df[cysdb_datasetid_df['level'] == 'protein']"
   ]
  },
  {
   "cell_type": "code",
   "execution_count": null,
   "id": "125246b3",
   "metadata": {},
   "outputs": [],
   "source": [
    "new_c_datasetid_df = pd.merge(c_cysdb_datasetid_df, c_datasetid_df, left_on = ['cysteineid', 'dataset'], right_on = ['cysteineid', 'dataset'], how = 'left')"
   ]
  },
  {
   "cell_type": "code",
   "execution_count": null,
   "id": "664d00f4",
   "metadata": {},
   "outputs": [],
   "source": [
    "new_p_datasetid_df = pd.merge(p_cysdb_datasetid_df, p_datasetid_df, left_on = ['proteinid', 'dataset'], right_on = ['proteinid', 'dataset'], how =  'left')"
   ]
  },
  {
   "cell_type": "code",
   "execution_count": null,
   "id": "fc622fa4",
   "metadata": {},
   "outputs": [],
   "source": [
    "new_datasetid_df = pd.concat([new_c_datasetid_df, new_p_datasetid_df])"
   ]
  },
  {
   "cell_type": "code",
   "execution_count": null,
   "id": "1a35de9f",
   "metadata": {},
   "outputs": [],
   "source": [
    "new_datasetid_df.to_csv('cysteineomedb_datasetid_rxt.csv', index = False)"
   ]
  },
  {
   "cell_type": "code",
   "execution_count": null,
   "id": "64455b36",
   "metadata": {},
   "outputs": [],
   "source": []
  }
 ],
 "metadata": {
  "kernelspec": {
   "display_name": "Python 3 (ipykernel)",
   "language": "python",
   "name": "python3"
  },
  "language_info": {
   "codemirror_mode": {
    "name": "ipython",
    "version": 3
   },
   "file_extension": ".py",
   "mimetype": "text/x-python",
   "name": "python",
   "nbconvert_exporter": "python",
   "pygments_lexer": "ipython3",
   "version": "3.9.7"
  }
 },
 "nbformat": 4,
 "nbformat_minor": 5
}
