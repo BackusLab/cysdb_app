{
 "cells": [
  {
   "cell_type": "markdown",
   "id": "36fccb12",
   "metadata": {},
   "source": [
    "Reformat published datasets for CysteineomeDB. Categories: Dataset Found, Reactive, Ligandable, Identified but not Ligandale, and Conditional. Note: Annotations from authors were used to determine \"ligandabiliy.\" Note: Peptide sequences from Yang DIA were manually mapped to the uniprot fasta (2201) to find cysteine identifiers."
   ]
  },
  {
   "cell_type": "markdown",
   "id": "57106303",
   "metadata": {},
   "source": [
    "main directory 'data' has nine folders according to each publication"
   ]
  },
  {
   "cell_type": "markdown",
   "id": "0e870d93",
   "metadata": {},
   "source": [
    "# Setup Environment"
   ]
  },
  {
   "cell_type": "code",
   "execution_count": null,
   "id": "15f1f9c1",
   "metadata": {},
   "outputs": [],
   "source": [
    "import os, sys\n",
    "import numpy as np\n",
    "import matplotlib.pyplot as plt\n",
    "import pandas as pd\n",
    "import csv\n",
    "import matplotlib\n",
    "import numpy as np\n",
    "import math\n",
    "from matplotlib.pyplot import figure\n",
    "import Bio\n",
    "from Bio import SeqIO\n",
    "from functools import reduce"
   ]
  },
  {
   "cell_type": "code",
   "execution_count": null,
   "id": "2c2056bf",
   "metadata": {},
   "outputs": [],
   "source": [
    "cd = os.getcwd()\n",
    "cd"
   ]
  },
  {
   "cell_type": "code",
   "execution_count": null,
   "id": "0760fb7c",
   "metadata": {},
   "outputs": [],
   "source": [
    "path_data = os.path.join(os.getcwd(), 'results')\n",
    "if not os.path.exists(path_data):\n",
    "    os.makedirs(path_data)"
   ]
  },
  {
   "cell_type": "code",
   "execution_count": null,
   "id": "ccd0cae0",
   "metadata": {},
   "outputs": [],
   "source": [
    "# merge identifiers from all csvs\n",
    "\n",
    "def get_new_df(dfs, dataset, col1, col2, cys):\n",
    "    new_df = pd.concat(dfs)\n",
    "    \n",
    "    new_df = new_df[new_df[col1].str.contains(\"contaminant\") == False]\n",
    "    \n",
    "    if dataset == 'kuljanin_gygi':\n",
    "        new_df['proteinid'] = new_df[col1].map(lambda x: str(x).replace(' ','').split('|')[1])\n",
    "        new_df['resid'] = new_df[col2].map(lambda x: 'C' + str(x).replace(' ',''))\n",
    "    elif dataset == 'weerapana_cravatt':\n",
    "        new_df['proteinid'] = new_df[col1].map(lambda x: str(x).replace(' ',''))\n",
    "        new_df['resid'] = new_df[col2].map(lambda x: 'C' + str(x).replace(' ',''))\n",
    "    elif dataset == 'backus_cravatt':\n",
    "        new_df['proteinid'] = new_df['Identifier'].map(lambda x: str(x).replace(' ','').split('_')[0])\n",
    "        new_df['resid'] = new_df['Identifier'].map(lambda x: str(x).replace(' ','').split('_')[-1]) \n",
    "    elif dataset == 'yan_backus':\n",
    "        new_df['proteinid'] = new_df[col1].map(lambda x: str(x).replace(' ',''))\n",
    "        new_df['resid'] = new_df['identifier'].map(lambda x: 'C' + str(x).replace(' ','').split('_')[-1]) \n",
    "    elif dataset == 'yang_wang':\n",
    "        new_df['proteinid'] = new_df[col1]\n",
    "        new_df['resid'] = new_df[col2].map(lambda x: 'C' + str(x).replace(' ',''))         \n",
    "    else:\n",
    "        new_df = new_df.rename(columns = {col1: 'proteinid', col2: 'resid'})\n",
    "        \n",
    "    new_df['cysteineid'] = new_df['proteinid'] + '_' + new_df['resid'].astype(str)\n",
    "    new_df['dataset'] = dataset\n",
    "    new_df['identified'] = 1\n",
    "    new_df['identified_datasets'] = dataset\n",
    "    \n",
    "    if cys == True:\n",
    "        new_df['level'] = 'cysteine'\n",
    "        new_df = new_df[['level', 'cysteineid', 'proteinid', 'dataset', 'identified', 'identified_datasets']]\n",
    "    else:\n",
    "        new_df['level'] = 'protein'\n",
    "        new_df = new_df[['level', 'proteinid', 'dataset', 'identified', 'identified_datasets']]\n",
    "    new_df = new_df.drop_duplicates()\n",
    "    \n",
    "    return new_df"
   ]
  },
  {
   "cell_type": "code",
   "execution_count": null,
   "id": "95d7b730",
   "metadata": {},
   "outputs": [],
   "source": [
    "# create protein identifiers\n",
    "# UniProtKB\n",
    "\n",
    "def get_pro_uniprot_identifier(master, df, dataset, category, category_datasets, col1, col2):\n",
    "    if dataset == 'weerapana_cravatt':\n",
    "        df['proteinid'] = df[col1].map(lambda x: str(x).replace(' ',''))\n",
    "    elif dataset == 'kuljanin_gygi':\n",
    "        df = df[[col1, col2]]\n",
    "        df = df.drop_duplicates()\n",
    "        df['proteinid'] = df[col1].map(lambda x: str(x).replace(' ','').split('|')[1])\n",
    "    elif dataset == 'backus_cravatt':\n",
    "        df['proteinid'] = df['Identifier'].map(lambda x: str(x).replace(' ','').split('_')[0])\n",
    "        df = df[['proteinid']]\n",
    "        df = df.drop_duplicates()\n",
    "    elif dataset == 'yang_wang':\n",
    "        df['proteinid'] = df[col1].map(lambda x: str(x).replace(' ',''))\n",
    "    else:\n",
    "        df = df[[col1]]\n",
    "        df = df.drop_duplicates()\n",
    "        df = df.rename(columns = {col1: 'proteinid'})\n",
    "\n",
    "    df_ids = list(df['proteinid'].unique())\n",
    "    \n",
    "    master[category] = np.where(master['proteinid'].isin(df_ids), 1, 0)\n",
    "    category_df = master[master[category] == 1]\n",
    "    category_df[category  + '_datasets'] = [category_datasets] * category_df.shape[0]\n",
    "    non_category_df = master[master[category] == 0]\n",
    "    \n",
    "    new_df = pd.concat([category_df, non_category_df])\n",
    "\n",
    "    return new_df"
   ]
  },
  {
   "cell_type": "code",
   "execution_count": null,
   "id": "7ce86ee6",
   "metadata": {},
   "outputs": [],
   "source": [
    "# create cysteine identifiers\n",
    "# UniProtKB_C#\n",
    "\n",
    "def get_cys_uniprot_identifier(master, df, dataset, category, category_datasets, col1, col2):\n",
    "    if dataset == 'weerapana_cravatt':\n",
    "        df['proteinid'] = df[col1].map(lambda x: str(x).replace(' ',''))\n",
    "        df['resid'] = df[col2].map(lambda x: 'C' + str(x).replace(' ',''))\n",
    "    elif dataset == 'kuljanin_gygi':\n",
    "        df = df[[col1, col2]]\n",
    "        df = df.drop_duplicates()\n",
    "        df['proteinid'] = df[col1].map(lambda x: str(x).replace(' ','').split('|')[1])\n",
    "        df['resid'] = df[col2].map(lambda x: 'C' + str(x).replace(' ',''))\n",
    "    elif dataset == 'backus_cravatt':\n",
    "        df['proteinid'] = df['Identifier'].map(lambda x: str(x).replace(' ','').split('_')[0])\n",
    "        df['resid'] = df['Identifier'].map(lambda x: str(x).replace(' ','').split('_')[-1])  \n",
    "        df = df[['proteinid', 'resid']]\n",
    "        df = df.drop_duplicates()\n",
    "    elif dataset == 'yan_backus':\n",
    "        df['proteinid'] = df[col1].map(lambda x: str(x).replace(' ',''))\n",
    "        df['resid'] = df[col2].map(lambda x: 'C' + str(x).replace(' ','').split('_')[-1]) \n",
    "    elif dataset == 'yang_wang':\n",
    "        df['proteinid'] = df[col1].map(lambda x: str(x).replace(' ',''))\n",
    "        df['resid'] = df[col2].map(lambda x: 'C' + str(x).replace(' ','')) \n",
    "    else:\n",
    "        df = df[[col1, col2]]\n",
    "        df = df.drop_duplicates()\n",
    "        df = df.rename(columns = {col1: 'proteinid', col2: 'resid'})\n",
    "        \n",
    "    df['cysteineid'] = df['proteinid'] + '_' + df['resid'].astype(str)\n",
    "    df_ids = list(df['cysteineid'].unique())\n",
    "    \n",
    "    master[category] = np.where(master['cysteineid'].isin(df_ids), 1, 0)\n",
    "    category_df = master[master[category] == 1]\n",
    "    category_df[category  + '_datasets'] = [category_datasets] * category_df.shape[0]\n",
    "    non_category_df = master[master[category] == 0]\n",
    "    \n",
    "    new_df = pd.concat([category_df, non_category_df])\n",
    "\n",
    "    return new_df"
   ]
  },
  {
   "cell_type": "code",
   "execution_count": null,
   "id": "c222fb32",
   "metadata": {},
   "outputs": [],
   "source": [
    "def update_category(df, category, labels, datasets):\n",
    "    df['category_sum'] = df[labels].sum(axis=1)\n",
    "    df[category] = np.where(df['category_sum'] >= 1 , 1, 0)\n",
    "    \n",
    "    category_datasets = []\n",
    "    for index, row in df.iterrows():\n",
    "        current_datasets = []\n",
    "        for i in range(len(datasets)):\n",
    "            if str(row[datasets[i]]) != 'nan':\n",
    "                current_datasets.append(row[datasets[i]])\n",
    "        \n",
    "        category_datasets.append(list_to_string(list(set(current_datasets)), ';'))\n",
    "        \n",
    "            \n",
    "    df[category + '_datasets'] = category_datasets\n",
    "    df = df.drop(columns = labels + datasets + ['category_sum'])\n",
    "    \n",
    "    return df"
   ]
  },
  {
   "cell_type": "code",
   "execution_count": null,
   "id": "51a4fe8e",
   "metadata": {},
   "outputs": [],
   "source": [
    "def list_to_string(lst, symbol):\n",
    "    return (symbol.join([str(elem) for elem in lst]))"
   ]
  },
  {
   "cell_type": "markdown",
   "id": "ecd10eff",
   "metadata": {},
   "source": [
    "# Extract Experimental Data"
   ]
  },
  {
   "cell_type": "markdown",
   "id": "44010a1a",
   "metadata": {},
   "source": [
    "# Read Quantifying Functional Cysteines Data"
   ]
  },
  {
   "cell_type": "code",
   "execution_count": null,
   "id": "2d8fa1c9",
   "metadata": {},
   "outputs": [],
   "source": [
    "os.chdir(cd)\n",
    "os.chdir('Functional')"
   ]
  },
  {
   "cell_type": "code",
   "execution_count": null,
   "id": "76140af4",
   "metadata": {},
   "outputs": [],
   "source": [
    "df_function = pd.read_csv('nature_2010.csv')\n",
    "df_function = df_function[df_function['Identifier'].str.contains('Reverse') == False]\n",
    "df_function = df_function[df_function['Identifier'].str.contains('contaminant') == False]"
   ]
  },
  {
   "cell_type": "code",
   "execution_count": null,
   "id": "e59dae9f",
   "metadata": {},
   "outputs": [],
   "source": [
    "weerapana_df = get_new_df([df_function], 'weerapana_cravatt', 'Protein', 'PTM', True)"
   ]
  },
  {
   "cell_type": "code",
   "execution_count": null,
   "id": "9a95841a",
   "metadata": {},
   "outputs": [],
   "source": [
    "weerapana_cys_ids = list(weerapana_df['cysteineid'].unique())\n",
    "weerapana_pro_ids = list(weerapana_df['proteinid'].unique())"
   ]
  },
  {
   "cell_type": "code",
   "execution_count": null,
   "id": "e0137cb6",
   "metadata": {},
   "outputs": [],
   "source": [
    "cys_weerapana_df = weerapana_df.copy()"
   ]
  },
  {
   "cell_type": "code",
   "execution_count": null,
   "id": "39f23842",
   "metadata": {},
   "outputs": [],
   "source": [
    "pro_weerapana_df = weerapana_df.copy()\n",
    "pro_weerapana_df = pro_weerapana_df.drop(columns = [\"cysteineid\", \"level\"])\n",
    "pro_weerapana_df = pro_weerapana_df.drop_duplicates()\n",
    "pro_weerapana_df['level'] = 'protein'"
   ]
  },
  {
   "cell_type": "code",
   "execution_count": null,
   "id": "e0430d11",
   "metadata": {},
   "outputs": [],
   "source": [
    "cys_weerapana_df.shape, pro_weerapana_df.shape"
   ]
  },
  {
   "cell_type": "code",
   "execution_count": null,
   "id": "d28f009c",
   "metadata": {},
   "outputs": [],
   "source": [
    "weerapana_df = pd.concat([cys_weerapana_df, pro_weerapana_df])"
   ]
  },
  {
   "cell_type": "code",
   "execution_count": null,
   "id": "2894bdc8",
   "metadata": {},
   "outputs": [],
   "source": [
    "os.chdir(cd)\n",
    "os.chdir('results')\n",
    "weerapana_df.to_csv('weerapana_cravatt_dataset.csv', index = False)"
   ]
  },
  {
   "cell_type": "markdown",
   "id": "d3cbda61",
   "metadata": {},
   "source": [
    "# Read Proteome-wide Discovery Data"
   ]
  },
  {
   "cell_type": "code",
   "execution_count": null,
   "id": "017068a6",
   "metadata": {},
   "outputs": [],
   "source": [
    "os.chdir(cd)\n",
    "os.chdir('Discovery')"
   ]
  },
  {
   "cell_type": "code",
   "execution_count": null,
   "id": "e9b727bb",
   "metadata": {},
   "outputs": [],
   "source": [
    "df_discovery_ligandable = pd.read_excel('41586_2016_BFnature18002_MOESM54_ESM.xlsx', sheet_name='Probe Targets In vitro')\n",
    "df_discovery_not_ligandable = pd.read_excel('41586_2016_BFnature18002_MOESM54_ESM.xlsx', sheet_name='In vitro (not probe targets)')"
   ]
  },
  {
   "cell_type": "code",
   "execution_count": null,
   "id": "fa518497",
   "metadata": {},
   "outputs": [],
   "source": [
    "backus_df = get_new_df([df_discovery_ligandable, df_discovery_not_ligandable], 'backus_cravatt', 'Identifier', '', True)"
   ]
  },
  {
   "cell_type": "code",
   "execution_count": null,
   "id": "d63dad4e",
   "metadata": {},
   "outputs": [],
   "source": [
    "cys_backus_df = backus_df.copy()"
   ]
  },
  {
   "cell_type": "code",
   "execution_count": null,
   "id": "c8160780",
   "metadata": {},
   "outputs": [],
   "source": [
    "pro_backus_df = get_new_df([df_discovery_ligandable, df_discovery_not_ligandable], 'backus_cravatt', 'Identifier', '', False)"
   ]
  },
  {
   "cell_type": "code",
   "execution_count": null,
   "id": "8749126f",
   "metadata": {},
   "outputs": [],
   "source": [
    "cys_backus_df.shape, pro_backus_df.shape"
   ]
  },
  {
   "cell_type": "code",
   "execution_count": null,
   "id": "5e125b45",
   "metadata": {},
   "outputs": [],
   "source": [
    "backus_df = pd.concat([cys_backus_df, pro_backus_df])"
   ]
  },
  {
   "cell_type": "code",
   "execution_count": null,
   "id": "a14fa81e",
   "metadata": {},
   "outputs": [],
   "source": [
    "os.chdir(cd)\n",
    "os.chdir('results')\n",
    "backus_df.to_csv('backus_cravatt_dataset.csv', index = False)"
   ]
  },
  {
   "cell_type": "markdown",
   "id": "71f833cd",
   "metadata": {},
   "source": [
    "# Read Suzuki Data"
   ]
  },
  {
   "cell_type": "code",
   "execution_count": null,
   "id": "ce75fb9e",
   "metadata": {},
   "outputs": [],
   "source": [
    "os.chdir(cd)\n",
    "os.chdir('Suzuki')\n",
    "os.chdir('5275142')"
   ]
  },
  {
   "cell_type": "code",
   "execution_count": null,
   "id": "59b8e52c",
   "metadata": {},
   "outputs": [],
   "source": [
    "df_suzuki = pd.read_excel('ac0c04726_si_002.xlsx', sheet_name='Suzuki_CuAAC_w_sp3')"
   ]
  },
  {
   "cell_type": "code",
   "execution_count": null,
   "id": "fc722969",
   "metadata": {},
   "outputs": [],
   "source": [
    "df_suzuki['protein'] = df_suzuki['identifier'].map(lambda x: str(x).split('_')[0])"
   ]
  },
  {
   "cell_type": "code",
   "execution_count": null,
   "id": "7204d82e",
   "metadata": {},
   "outputs": [],
   "source": [
    "df_suzuki['cysteine_ptm'] = df_suzuki['cysteine_ptm'].map(lambda x: 'C' + str(x))"
   ]
  },
  {
   "cell_type": "code",
   "execution_count": null,
   "id": "df885978",
   "metadata": {},
   "outputs": [],
   "source": [
    "df_suzuki_click = df_suzuki[df_suzuki['identified_in_click_dataset (0: no | 1: yes)'] == 1]\n",
    "df_suzuki_suzuki = df_suzuki[df_suzuki['identified_in_suzuku_dataset (0: no | 1: yes)'] == 1]"
   ]
  },
  {
   "cell_type": "code",
   "execution_count": null,
   "id": "85fe94e5",
   "metadata": {},
   "outputs": [],
   "source": [
    "df_suzuki_ligandability = pd.read_excel('ac0c04726_si_003.xlsx', sheet_name='Liganded Cysteines')"
   ]
  },
  {
   "cell_type": "code",
   "execution_count": null,
   "id": "d8734d93",
   "metadata": {},
   "outputs": [],
   "source": [
    "df_suzuki_ligandability['cysteine_ptm'] = df_suzuki_ligandability['Cysteine Labeled'].str.split(';')\n",
    "df_suzuki_ligandability['protein'] = df_suzuki_ligandability['Proteins'].str.split(',')"
   ]
  },
  {
   "cell_type": "code",
   "execution_count": null,
   "id": "9d527f1e",
   "metadata": {},
   "outputs": [],
   "source": [
    "df_suzuki_ligandability_subset = df_suzuki_ligandability[['Sequence', 'cysteine_ptm', 'protein']]\n",
    "df_suzuki_ligandability_subset = df_suzuki_ligandability_subset.set_index('Sequence').apply(pd.Series.explode).reset_index()\n",
    "df_suzuki_ligandability_subset = df_suzuki_ligandability_subset.drop(columns = 'Sequence')"
   ]
  },
  {
   "cell_type": "code",
   "execution_count": null,
   "id": "aceccc69",
   "metadata": {},
   "outputs": [],
   "source": [
    "df_suzuki_ligandability_explode = df_suzuki_ligandability[['Sequence', 'cysteine_ptm', 'protein']]\n",
    "df_suzuki_ligandability_explode = df_suzuki_ligandability_explode.set_index('Sequence').apply(pd.Series.explode).reset_index()\n",
    "df_suzuki_ligandability_explode['cysteineid'] = df_suzuki_ligandability_explode['protein'] + '_' + df_suzuki_ligandability_explode['cysteine_ptm']"
   ]
  },
  {
   "cell_type": "code",
   "execution_count": null,
   "id": "852ac20d",
   "metadata": {},
   "outputs": [],
   "source": [
    "merge_df_suzuki_ligandability = df_suzuki_ligandability.drop(columns = ['cysteine_ptm', 'protein'])\n",
    "df_suzuki_ligandability_merged = pd.merge(df_suzuki_ligandability_explode, merge_df_suzuki_ligandability , on = 'Sequence', how = 'left')"
   ]
  },
  {
   "cell_type": "code",
   "execution_count": null,
   "id": "f712d6f2",
   "metadata": {},
   "outputs": [],
   "source": [
    "cao_df = get_new_df([df_suzuki, df_suzuki_ligandability_merged], 'cao_backus', 'protein', 'cysteine_ptm', True)"
   ]
  },
  {
   "cell_type": "code",
   "execution_count": null,
   "id": "e2ef60e3",
   "metadata": {},
   "outputs": [],
   "source": [
    "cys_cao_df = cao_df.copy()"
   ]
  },
  {
   "cell_type": "code",
   "execution_count": null,
   "id": "8caddfbc",
   "metadata": {},
   "outputs": [],
   "source": [
    "pro_cao_df = get_new_df([df_suzuki, df_suzuki_ligandability_subset], 'cao_backus', 'protein', 'cysteine_ptm', False)"
   ]
  },
  {
   "cell_type": "code",
   "execution_count": null,
   "id": "48c346db",
   "metadata": {},
   "outputs": [],
   "source": [
    "cys_cao_df.shape, pro_cao_df.shape"
   ]
  },
  {
   "cell_type": "code",
   "execution_count": null,
   "id": "c8c6f9e7",
   "metadata": {},
   "outputs": [],
   "source": [
    "cao_df = pd.concat([cys_cao_df, pro_cao_df])"
   ]
  },
  {
   "cell_type": "code",
   "execution_count": null,
   "id": "4c6d2026",
   "metadata": {},
   "outputs": [],
   "source": [
    "os.chdir(cd)\n",
    "os.chdir('results')\n",
    "cao_df.to_csv('cao_backus_dataset.csv', index = False)"
   ]
  },
  {
   "cell_type": "markdown",
   "id": "02af2034",
   "metadata": {},
   "source": [
    "# Read Mapping Data"
   ]
  },
  {
   "cell_type": "code",
   "execution_count": null,
   "id": "46c95543",
   "metadata": {},
   "outputs": [],
   "source": [
    "os.chdir(cd)\n",
    "os.chdir('Mapping')"
   ]
  },
  {
   "cell_type": "code",
   "execution_count": null,
   "id": "49197581",
   "metadata": {},
   "outputs": [],
   "source": [
    "df_mapping = pd.read_excel('msb20209840-sup-0020-datasetev18.xlsx', sheet_name='Sheet2')"
   ]
  },
  {
   "cell_type": "code",
   "execution_count": null,
   "id": "7d013a49",
   "metadata": {},
   "outputs": [],
   "source": [
    "palafox_df = get_new_df([df_mapping], 'palafox_backus', 'Protein ID', 'Cysteine', True)"
   ]
  },
  {
   "cell_type": "code",
   "execution_count": null,
   "id": "3b9a3fcf",
   "metadata": {},
   "outputs": [],
   "source": [
    "cys_palafox_df = palafox_df.copy()"
   ]
  },
  {
   "cell_type": "code",
   "execution_count": null,
   "id": "218036dc",
   "metadata": {},
   "outputs": [],
   "source": [
    "pro_palafox_df = palafox_df.copy()\n",
    "pro_palafox_df = pro_palafox_df.drop(columns = [\"cysteineid\", \"level\"])\n",
    "pro_palafox_df = pro_palafox_df.drop_duplicates()\n",
    "pro_palafox_df['level'] = 'protein'"
   ]
  },
  {
   "cell_type": "code",
   "execution_count": null,
   "id": "a4e5cc6e",
   "metadata": {},
   "outputs": [],
   "source": [
    "cys_palafox_df.shape, pro_palafox_df.shape"
   ]
  },
  {
   "cell_type": "code",
   "execution_count": null,
   "id": "3a79275c",
   "metadata": {},
   "outputs": [],
   "source": [
    "palafox_df = pd.concat([cys_palafox_df, pro_palafox_df])"
   ]
  },
  {
   "cell_type": "code",
   "execution_count": null,
   "id": "e38c13f6",
   "metadata": {},
   "outputs": [],
   "source": [
    "os.chdir(cd)\n",
    "os.chdir('results')\n",
    "palafox_df.to_csv('palafox_backus_dataset.csv', index = False)"
   ]
  },
  {
   "cell_type": "markdown",
   "id": "36d237a5",
   "metadata": {},
   "source": [
    "# Read SP3 Data"
   ]
  },
  {
   "cell_type": "code",
   "execution_count": null,
   "id": "ad33e179",
   "metadata": {},
   "outputs": [],
   "source": [
    "os.chdir(cd)\n",
    "os.chdir('SP3')"
   ]
  },
  {
   "cell_type": "code",
   "execution_count": null,
   "id": "4b2d0256",
   "metadata": {},
   "outputs": [],
   "source": [
    "df_sp3 = pd.read_excel('cbic202000870-sup-0001-table_s4.xlsx', sheet_name='Aggregate_Identifiers')"
   ]
  },
  {
   "cell_type": "code",
   "execution_count": null,
   "id": "e76a39d6",
   "metadata": {},
   "outputs": [],
   "source": [
    "def split_sp3(df):\n",
    "    \n",
    "    new_df = df[['identifier', 'protein']]\n",
    "    new_df = new_df.drop_duplicates()\n",
    "    \n",
    "    df_cols = df.columns.to_list()\n",
    "    grouped_cols = sorted(df_cols[4:])\n",
    "\n",
    "    for i in range(0, len(grouped_cols), 2):\n",
    "        name = grouped_cols[i].split('-')[0]\n",
    "        new_df[name] = df[grouped_cols[i]].astype(int) + df[grouped_cols[i+1]].astype(int)\n",
    "    \n",
    "    return new_df\n",
    " "
   ]
  },
  {
   "cell_type": "code",
   "execution_count": null,
   "id": "e4ee1138",
   "metadata": {},
   "outputs": [],
   "source": [
    "df_sp3_split = split_sp3(df_sp3)"
   ]
  },
  {
   "cell_type": "markdown",
   "id": "a432e087",
   "metadata": {},
   "source": [
    "## Read ligandability data"
   ]
  },
  {
   "cell_type": "code",
   "execution_count": null,
   "id": "e48acb76",
   "metadata": {},
   "outputs": [],
   "source": [
    "df_sp3_lig = pd.read_excel(\"cbic202000870-sup-0001-table_s6_modified.xlsx\")"
   ]
  },
  {
   "cell_type": "code",
   "execution_count": null,
   "id": "11c8f5c8",
   "metadata": {},
   "outputs": [],
   "source": [
    "df_sp3_lig = df_sp3_lig[df_sp3_lig['Protein'] != 'conta.minant']"
   ]
  },
  {
   "cell_type": "code",
   "execution_count": null,
   "id": "2648ffdc",
   "metadata": {},
   "outputs": [],
   "source": [
    "df_sp3_lig['protein'] = df_sp3_lig['Protein'].str.split(',')"
   ]
  },
  {
   "cell_type": "code",
   "execution_count": null,
   "id": "7b5f6df2",
   "metadata": {},
   "outputs": [],
   "source": [
    "df_sp3_lig['resid'] = df_sp3_lig['PTM'].str.split(',')"
   ]
  },
  {
   "cell_type": "code",
   "execution_count": null,
   "id": "65e63fa1",
   "metadata": {},
   "outputs": [],
   "source": [
    "df_sp3_lig = df_sp3_lig.explode('protein')"
   ]
  },
  {
   "cell_type": "code",
   "execution_count": null,
   "id": "4b632cb7",
   "metadata": {},
   "outputs": [],
   "source": [
    "df_sp3_lig = df_sp3_lig.explode('resid')"
   ]
  },
  {
   "cell_type": "code",
   "execution_count": null,
   "id": "4a45e877",
   "metadata": {},
   "outputs": [],
   "source": [
    "df_sp3_lig['resid'] = df_sp3_lig['resid'].map(lambda x: str(x)[1:])"
   ]
  },
  {
   "cell_type": "code",
   "execution_count": null,
   "id": "0f5d34e0",
   "metadata": {},
   "outputs": [],
   "source": [
    "df_sp3_lig = df_sp3_lig.drop(columns = ['PTM', 'Protein'])\n",
    "df_sp3_lig = df_sp3_lig.drop_duplicates()"
   ]
  },
  {
   "cell_type": "code",
   "execution_count": null,
   "id": "245980ca",
   "metadata": {},
   "outputs": [],
   "source": [
    "df_sp3_lig['identifier'] = df_sp3_lig['protein'] + '_' + df_sp3_lig['resid']"
   ]
  },
  {
   "cell_type": "code",
   "execution_count": null,
   "id": "99aac2d0",
   "metadata": {},
   "outputs": [],
   "source": [
    "yan_df = get_new_df([df_sp3, df_sp3_lig], 'yan_backus', 'protein', 'identifier', True)"
   ]
  },
  {
   "cell_type": "code",
   "execution_count": null,
   "id": "163e5807",
   "metadata": {},
   "outputs": [],
   "source": [
    "yan_df"
   ]
  },
  {
   "cell_type": "code",
   "execution_count": null,
   "id": "d0f2686d",
   "metadata": {},
   "outputs": [],
   "source": [
    "cys_yan_df = yan_df.copy()"
   ]
  },
  {
   "cell_type": "code",
   "execution_count": null,
   "id": "3675ab5f",
   "metadata": {},
   "outputs": [],
   "source": [
    "pro_yan_df = get_new_df([df_sp3, df_sp3_lig], 'yan_backus', 'protein', 'identifier', False)"
   ]
  },
  {
   "cell_type": "code",
   "execution_count": null,
   "id": "8442c26f",
   "metadata": {},
   "outputs": [],
   "source": [
    "cys_yan_df.shape, pro_yan_df.shape"
   ]
  },
  {
   "cell_type": "code",
   "execution_count": null,
   "id": "d20844a4",
   "metadata": {},
   "outputs": [],
   "source": [
    "yan_df = pd.concat([cys_yan_df, pro_yan_df])"
   ]
  },
  {
   "cell_type": "code",
   "execution_count": null,
   "id": "9342580e",
   "metadata": {},
   "outputs": [],
   "source": [
    "os.chdir(cd)\n",
    "os.chdir('results')\n",
    "yan_df.to_csv('yan_backus_dataset.csv', index = False)"
   ]
  },
  {
   "cell_type": "markdown",
   "id": "7ec0fff0",
   "metadata": {},
   "source": [
    "# Read T-cell Data"
   ]
  },
  {
   "cell_type": "code",
   "execution_count": null,
   "id": "9c0d387f",
   "metadata": {},
   "outputs": [],
   "source": [
    "os.chdir(cd)\n",
    "os.chdir('Tcell')"
   ]
  },
  {
   "cell_type": "code",
   "execution_count": null,
   "id": "96e03435",
   "metadata": {},
   "outputs": [],
   "source": [
    "df_tcell = pd.read_excel('NIHMS1616434-supplement-mmc4.xlsx', sheet_name='Table S6_Master Table', header = [5])"
   ]
  },
  {
   "cell_type": "code",
   "execution_count": null,
   "id": "05045692",
   "metadata": {},
   "outputs": [],
   "source": [
    "df_tcell['Residue'] = df_tcell['Residues'].str.split(',')\n",
    "df_tcell_split = df_tcell.explode('Residue')"
   ]
  },
  {
   "cell_type": "code",
   "execution_count": null,
   "id": "9c79b13b",
   "metadata": {},
   "outputs": [],
   "source": [
    "vinogradova_df = get_new_df([df_tcell_split], 'vinogradova_cravatt', 'Uniprot', 'Residue', True)"
   ]
  },
  {
   "cell_type": "code",
   "execution_count": null,
   "id": "d5602d7b",
   "metadata": {},
   "outputs": [],
   "source": [
    "cys_vinogradova_df = vinogradova_df.copy()"
   ]
  },
  {
   "cell_type": "code",
   "execution_count": null,
   "id": "190e4036",
   "metadata": {},
   "outputs": [],
   "source": [
    "pro_vinogradova_df = get_new_df([df_tcell], 'vinogradova_cravatt', 'Uniprot', 'Residue', False)"
   ]
  },
  {
   "cell_type": "code",
   "execution_count": null,
   "id": "111eedbf",
   "metadata": {},
   "outputs": [],
   "source": [
    "cys_vinogradova_df.shape, pro_vinogradova_df.shape"
   ]
  },
  {
   "cell_type": "code",
   "execution_count": null,
   "id": "6d382449",
   "metadata": {},
   "outputs": [],
   "source": [
    "vinogradova_df = pd.concat([cys_vinogradova_df, pro_vinogradova_df])"
   ]
  },
  {
   "cell_type": "code",
   "execution_count": null,
   "id": "5c32b38d",
   "metadata": {},
   "outputs": [],
   "source": [
    "os.chdir(cd)\n",
    "os.chdir('results')\n",
    "vinogradova_df.to_csv('vinogradova_cravatt_dataset.csv', index = False)"
   ]
  },
  {
   "cell_type": "markdown",
   "id": "c41b5576",
   "metadata": {},
   "source": [
    "# Read SLCABPP Data"
   ]
  },
  {
   "cell_type": "code",
   "execution_count": null,
   "id": "f3bfb233",
   "metadata": {},
   "outputs": [],
   "source": [
    "os.chdir(cd)\n",
    "os.chdir('SLCABPP')\n",
    "os.chdir('NIHMS1660575-supplement-9_supplementary_tables')"
   ]
  },
  {
   "cell_type": "code",
   "execution_count": null,
   "id": "5b1546f8",
   "metadata": {},
   "outputs": [],
   "source": [
    "df_hct = pd.read_excel('41587_2020_778_S6_ESM.xlsx', sheet_name='SLC-ABPP HCT116 Screen')\n",
    "df_hek = pd.read_excel('41587_2020_778_S7_ESM.xlsx', sheet_name='SLC-ABPP HEK293T SCreen')\n",
    "df_patu = pd.read_excel('41587_2020_778_S8_ESM.xlsx', sheet_name='SLC-ABPP PaTu-8988T Screen')"
   ]
  },
  {
   "cell_type": "code",
   "execution_count": null,
   "id": "dedc25c0",
   "metadata": {},
   "outputs": [],
   "source": [
    "df_scout = pd.read_excel('41587_2020_778_S4_ESM.xlsx', sheet_name='Scout Profiling')"
   ]
  },
  {
   "cell_type": "code",
   "execution_count": null,
   "id": "23cdd416",
   "metadata": {},
   "outputs": [],
   "source": [
    "kuljanin_df = get_new_df([df_hct, df_hek, df_patu, df_scout], 'kuljanin_gygi', 'Uniprot ID', 'Site Position', True)"
   ]
  },
  {
   "cell_type": "code",
   "execution_count": null,
   "id": "035a196b",
   "metadata": {},
   "outputs": [],
   "source": [
    "cys_kuljanin_df = kuljanin_df.copy()"
   ]
  },
  {
   "cell_type": "code",
   "execution_count": null,
   "id": "ab29a66d",
   "metadata": {},
   "outputs": [],
   "source": [
    "pro_kuljanin_df = get_new_df([df_hct, df_hek, df_patu, df_scout], 'kuljanin_gygi', 'Uniprot ID', 'Site Position', False)"
   ]
  },
  {
   "cell_type": "code",
   "execution_count": null,
   "id": "79be12b8",
   "metadata": {},
   "outputs": [],
   "source": [
    "pro_kuljanin_df = update_category(pro_kuljanin_df, 'ligandable', \n",
    "                         ['ligandable_1', 'ligandable_2', 'ligandable_3', 'ligandable_4'], \n",
    "                         ['ligandable_1_datasets', 'ligandable_2_datasets', 'ligandable_3_datasets', 'ligandable_4_datasets'])"
   ]
  },
  {
   "cell_type": "code",
   "execution_count": null,
   "id": "4d2d3543",
   "metadata": {},
   "outputs": [],
   "source": [
    "cys_kuljanin_df.shape, pro_kuljanin_df.shape"
   ]
  },
  {
   "cell_type": "code",
   "execution_count": null,
   "id": "00e0b576",
   "metadata": {},
   "outputs": [],
   "source": [
    "kuljanin_df = pd.concat([cys_kuljanin_df, pro_kuljanin_df])"
   ]
  },
  {
   "cell_type": "code",
   "execution_count": null,
   "id": "702f850a",
   "metadata": {},
   "outputs": [],
   "source": [
    "os.chdir(cd)\n",
    "os.chdir('results')\n",
    "kuljanin_df.to_csv('kuljanin_gygi_dataset.csv', index = False)"
   ]
  },
  {
   "cell_type": "markdown",
   "id": "7ad52d1f",
   "metadata": {},
   "source": [
    "# Read DIA Data"
   ]
  },
  {
   "cell_type": "code",
   "execution_count": null,
   "id": "fe0c232a",
   "metadata": {},
   "outputs": [],
   "source": [
    "def get_uniprot_dict(directory, file):\n",
    "    os.chdir(directory)\n",
    "    \n",
    "    uniprot_dict = {}\n",
    "    for record in SeqIO.parse(file, \"fasta\"):\n",
    "        protein = str(record.id).split('|')[1]\n",
    "        uniprot_dict[protein] = record.seq\n",
    "    \n",
    "    os.chdir(cd)\n",
    "    return uniprot_dict"
   ]
  },
  {
   "cell_type": "code",
   "execution_count": null,
   "id": "49209cff",
   "metadata": {},
   "outputs": [],
   "source": [
    "uniprot_dict = get_uniprot_dict('/Users/lisamarieboatner/Dropbox/Backus/master/uniprot/data/220505', '2201_uniprot.fasta')\n",
    "# uniprot_dict = get_uniprot_dict('C:\\\\Users\\\\Onee-sama\\\\Dropbox\\\\Backus\\\\master\\\\uniprot\\\\data\\\\220724', '2207_uniprot.fasta')"
   ]
  },
  {
   "cell_type": "code",
   "execution_count": null,
   "id": "3492bc1d",
   "metadata": {},
   "outputs": [],
   "source": [
    "def get_residue_aa(identifier, peptide, uniprot_dict, uniprot_aa):\n",
    "    if (peptide in str(uniprot_dict[identifier])):\n",
    "        correct_aa = str(uniprot_dict[identifier]).index(peptide) + (int(uniprot_aa))\n",
    "        return int(correct_aa)\n",
    "    else:\n",
    "        return '--'"
   ]
  },
  {
   "cell_type": "code",
   "execution_count": null,
   "id": "1a37acda",
   "metadata": {},
   "outputs": [],
   "source": [
    "def get_cysetine_ids(df, uniprot_dict):\n",
    "    cysteines = []\n",
    "    missing_protein_ids = []\n",
    "    missing_peptide_ids = []\n",
    "    \n",
    "    for index, row in df.iterrows():\n",
    "        protein = row['Protein'].strip()\n",
    "        modified_peptide = row['Peptides']\n",
    "        modified_aa = modified_peptide.index('*')\n",
    "        unmodified_peptide = modified_peptide.replace('*', '')\n",
    "\n",
    "        if (protein not in uniprot_dict.keys()):\n",
    "            correct_aa = '--'\n",
    "            missing_protein_ids.append(protein)\n",
    "            missing_peptide_ids.append(modified_peptide)\n",
    "        else:\n",
    "            correct_aa = get_residue_aa(protein, unmodified_peptide, uniprot_dict, modified_aa)\n",
    "    \n",
    "        cysteines.append(correct_aa)\n",
    "        \n",
    "    return cysteines, missing_protein_ids, missing_peptide_ids"
   ]
  },
  {
   "cell_type": "markdown",
   "id": "e8ea0bb8",
   "metadata": {},
   "source": [
    "## Read reactivity data "
   ]
  },
  {
   "cell_type": "code",
   "execution_count": null,
   "id": "662777c2",
   "metadata": {},
   "outputs": [],
   "source": [
    "os.chdir(cd)\n",
    "os.chdir('DIA')"
   ]
  },
  {
   "cell_type": "code",
   "execution_count": null,
   "id": "b860124b",
   "metadata": {},
   "outputs": [],
   "source": [
    "df_dia_reactivity = pd.read_excel('https://www.dropbox.com/s/5vwm2p4qsbw4599/ja1c11053_si_002.xlsx?dl=1', sheet_name='DIA-ABPP')"
   ]
  },
  {
   "cell_type": "code",
   "execution_count": null,
   "id": "5b9f3007",
   "metadata": {},
   "outputs": [],
   "source": [
    "df_dia_reactivity['Protein'] = df_dia_reactivity['Proteins'].str.split(',')\n",
    "df_dia_reactivity_split = df_dia_reactivity.explode('Protein')"
   ]
  },
  {
   "cell_type": "code",
   "execution_count": null,
   "id": "ec40ce18",
   "metadata": {},
   "outputs": [],
   "source": [
    "dia_reactivity_cysteine_ids, dia_reactivity_missing_protein_ids, missing_peptide_ids = get_cysetine_ids(df_dia_reactivity_split, uniprot_dict)"
   ]
  },
  {
   "cell_type": "code",
   "execution_count": null,
   "id": "02f1d816",
   "metadata": {},
   "outputs": [],
   "source": [
    "len(dia_reactivity_missing_protein_ids)"
   ]
  },
  {
   "cell_type": "markdown",
   "id": "f891b6c4",
   "metadata": {},
   "source": [
    "There are 37 proteins identified in DIA reactivity experiment that were not found in 2207 fasta."
   ]
  },
  {
   "cell_type": "code",
   "execution_count": null,
   "id": "631167e0",
   "metadata": {},
   "outputs": [],
   "source": [
    "len(dia_reactivity_missing_protein_ids), len(missing_peptide_ids)"
   ]
  },
  {
   "cell_type": "code",
   "execution_count": null,
   "id": "6608b18a",
   "metadata": {},
   "outputs": [],
   "source": [
    "missing_id_df = pd.DataFrame()"
   ]
  },
  {
   "cell_type": "code",
   "execution_count": null,
   "id": "bbc1baae",
   "metadata": {},
   "outputs": [],
   "source": [
    "missing_id_df['proteinid'] = dia_reactivity_missing_protein_ids"
   ]
  },
  {
   "cell_type": "code",
   "execution_count": null,
   "id": "8805f756",
   "metadata": {},
   "outputs": [],
   "source": [
    "missing_id_df['peptide'] = missing_peptide_ids"
   ]
  },
  {
   "cell_type": "code",
   "execution_count": null,
   "id": "f1c58f58",
   "metadata": {},
   "outputs": [],
   "source": [
    "missing_id_df.to_csv('dia_missing_ids.csv', index = False)"
   ]
  },
  {
   "cell_type": "code",
   "execution_count": null,
   "id": "1b7ef4f9",
   "metadata": {},
   "outputs": [],
   "source": [
    "df_dia_reactivity_split['Cysteine'] = dia_reactivity_cysteine_ids\n",
    "df_dia_reactivity_split = df_dia_reactivity_split[df_dia_reactivity_split['Cysteine'] != '--']"
   ]
  },
  {
   "cell_type": "markdown",
   "id": "e021cbae",
   "metadata": {},
   "source": [
    "## Read ligandability data"
   ]
  },
  {
   "cell_type": "code",
   "execution_count": null,
   "id": "0f8906b1",
   "metadata": {},
   "outputs": [],
   "source": [
    "os.chdir(cd)\n",
    "os.chdir('DIA')"
   ]
  },
  {
   "cell_type": "code",
   "execution_count": null,
   "id": "3a53fdec",
   "metadata": {},
   "outputs": [],
   "source": [
    "df_dia_ligandability = pd.read_excel('ja1c11053_si_003.xlsx', sheet_name='all cysteines')"
   ]
  },
  {
   "cell_type": "code",
   "execution_count": null,
   "id": "b5530cd4",
   "metadata": {},
   "outputs": [],
   "source": [
    "df_dia_ligandability['Protein'] = df_dia_ligandability['Proteins'].str.split(',')\n",
    "df_dia_ligandability_split = df_dia_ligandability.explode('Protein')"
   ]
  },
  {
   "cell_type": "code",
   "execution_count": null,
   "id": "cf3322c7",
   "metadata": {},
   "outputs": [],
   "source": [
    "dia_ligandability_cysteine_ids, dia_ligandability_missing_protein_ids = get_cysetine_ids(df_dia_ligandability_split, uniprot_dict)"
   ]
  },
  {
   "cell_type": "code",
   "execution_count": null,
   "id": "bf7b7ca0",
   "metadata": {},
   "outputs": [],
   "source": [
    "len(dia_ligandability_missing_protein_ids)"
   ]
  },
  {
   "cell_type": "markdown",
   "id": "700e8334",
   "metadata": {},
   "source": [
    "There are 113 proteins identified in DIA ligandability experiment that were not found in 2201 fasta."
   ]
  },
  {
   "cell_type": "code",
   "execution_count": null,
   "id": "70f9bbf8",
   "metadata": {},
   "outputs": [],
   "source": [
    "df_dia_ligandability_split['Cysteine'] = dia_ligandability_cysteine_ids\n",
    "df_dia_ligandability_split = df_dia_ligandability_split[df_dia_ligandability_split['Cysteine'] != '--']"
   ]
  },
  {
   "cell_type": "code",
   "execution_count": null,
   "id": "69690814",
   "metadata": {},
   "outputs": [],
   "source": [
    "yang_df = get_new_df([df_dia_reactivity_split, df_dia_ligandability_split], 'yang_wang', 'Protein', 'Cysteine', True)"
   ]
  },
  {
   "cell_type": "code",
   "execution_count": null,
   "id": "101a3c66",
   "metadata": {},
   "outputs": [],
   "source": [
    "cys_yang_df = yang_df.copy()"
   ]
  },
  {
   "cell_type": "code",
   "execution_count": null,
   "id": "d6ecae97",
   "metadata": {},
   "outputs": [],
   "source": [
    "pro_yang_df = get_new_df([df_dia_reactivity_split, df_dia_ligandability_split], 'yang_wang', 'Protein', 'Cysteine', False)"
   ]
  },
  {
   "cell_type": "code",
   "execution_count": null,
   "id": "749b4c59",
   "metadata": {},
   "outputs": [],
   "source": [
    "cys_yang_df.shape, pro_yang_df.shape"
   ]
  },
  {
   "cell_type": "code",
   "execution_count": null,
   "id": "e21d22ae",
   "metadata": {},
   "outputs": [],
   "source": [
    "yang_df = pd.concat([cys_yang_df, pro_yang_df])"
   ]
  },
  {
   "cell_type": "code",
   "execution_count": null,
   "id": "797e5b80",
   "metadata": {},
   "outputs": [],
   "source": [
    "os.chdir(cd)\n",
    "os.chdir('results')\n",
    "yang_df.to_csv('yang_wang_dataset.csv', index = False)"
   ]
  },
  {
   "cell_type": "markdown",
   "id": "232f5610",
   "metadata": {},
   "source": [
    "# Read Biotin Cleavable Tags Data"
   ]
  },
  {
   "cell_type": "code",
   "execution_count": null,
   "id": "598d8080",
   "metadata": {},
   "outputs": [],
   "source": [
    "os.chdir(cd)\n",
    "os.chdir('Biotin')"
   ]
  },
  {
   "cell_type": "code",
   "execution_count": null,
   "id": "6f949e6f",
   "metadata": {},
   "outputs": [],
   "source": [
    "df_tag1_sheet_a = pd.read_excel('pr2c00174_si_002.xlsx', sheet_name='Workflow A')\n",
    "df_tag1_sheet_b = pd.read_excel('pr2c00174_si_002.xlsx', sheet_name='Workflow B')\n",
    "df_tag1_sheet_c = pd.read_excel('pr2c00174_si_002.xlsx', sheet_name='Workflow C')"
   ]
  },
  {
   "cell_type": "code",
   "execution_count": null,
   "id": "4f38fbae",
   "metadata": {},
   "outputs": [],
   "source": [
    "df_tag2_sheet_a = pd.read_excel('pr2c00174_si_003.xlsx', sheet_name='Workflow A')\n",
    "df_tag2_sheet_b = pd.read_excel('pr2c00174_si_003.xlsx', sheet_name='Workflow B')\n",
    "df_tag2_sheet_c = pd.read_excel('pr2c00174_si_003.xlsx', sheet_name='Workflow C')"
   ]
  },
  {
   "cell_type": "code",
   "execution_count": null,
   "id": "df1284e2",
   "metadata": {},
   "outputs": [],
   "source": [
    "df_tag3_sheet_a = pd.read_excel('pr2c00174_si_004.xlsx', sheet_name='Workflow A')\n",
    "df_tag3_sheet_b = pd.read_excel('pr2c00174_si_004.xlsx', sheet_name='Workflow B')\n",
    "df_tag3_sheet_c = pd.read_excel('pr2c00174_si_004.xlsx', sheet_name='Workflow C')"
   ]
  },
  {
   "cell_type": "code",
   "execution_count": null,
   "id": "d968d9b4",
   "metadata": {},
   "outputs": [],
   "source": [
    "df_tag4_sheet_a = pd.read_excel('pr2c00174_si_005.xlsx', sheet_name='Workflow A')\n",
    "df_tag4_sheet_b = pd.read_excel('pr2c00174_si_005.xlsx', sheet_name='Workflow B')\n",
    "df_tag4_sheet_c = pd.read_excel('pr2c00174_si_005.xlsx', sheet_name='Workflow C')"
   ]
  },
  {
   "cell_type": "code",
   "execution_count": null,
   "id": "83a29327",
   "metadata": {},
   "outputs": [],
   "source": [
    "df_tag5_sheet_a = pd.read_excel('pr2c00174_si_006.xlsx', sheet_name='Workflow A')\n",
    "df_tag5_sheet_b = pd.read_excel('pr2c00174_si_006.xlsx', sheet_name='Workflow B')\n",
    "df_tag5_sheet_c = pd.read_excel('pr2c00174_si_006.xlsx', sheet_name='Workflow C')"
   ]
  },
  {
   "cell_type": "code",
   "execution_count": null,
   "id": "f9b21f1e",
   "metadata": {},
   "outputs": [],
   "source": [
    "concat_li_df = pd.concat([df_tag1_sheet_a, df_tag1_sheet_b, df_tag1_sheet_c,\n",
    "                     df_tag2_sheet_a, df_tag2_sheet_b, df_tag2_sheet_c,\n",
    "                     df_tag3_sheet_a, df_tag3_sheet_b, df_tag3_sheet_c,\n",
    "                     df_tag4_sheet_a, df_tag4_sheet_b, df_tag4_sheet_c,\n",
    "                     df_tag5_sheet_a, df_tag5_sheet_b, df_tag5_sheet_c,\n",
    "                    ])"
   ]
  },
  {
   "cell_type": "code",
   "execution_count": null,
   "id": "8a06dbfd",
   "metadata": {},
   "outputs": [],
   "source": [
    "li_df = get_new_df([df_tag1_sheet_a, df_tag1_sheet_b, df_tag1_sheet_c,\n",
    "                     df_tag2_sheet_a, df_tag2_sheet_b, df_tag2_sheet_c,\n",
    "                     df_tag3_sheet_a, df_tag3_sheet_b, df_tag3_sheet_c,\n",
    "                     df_tag4_sheet_a, df_tag4_sheet_b, df_tag4_sheet_c,\n",
    "                     df_tag5_sheet_a, df_tag5_sheet_b, df_tag5_sheet_c,\n",
    "                    ], 'li_yang', 'Uniprot accession #', 'Site', True)"
   ]
  },
  {
   "cell_type": "code",
   "execution_count": null,
   "id": "d4842254",
   "metadata": {},
   "outputs": [],
   "source": [
    "cys_li_df = li_df.copy()"
   ]
  },
  {
   "cell_type": "code",
   "execution_count": null,
   "id": "4c086470",
   "metadata": {},
   "outputs": [],
   "source": [
    "pro_li_df = get_new_df([df_tag1_sheet_a, df_tag1_sheet_b, df_tag1_sheet_c,\n",
    "                     df_tag2_sheet_a, df_tag2_sheet_b, df_tag2_sheet_c,\n",
    "                     df_tag3_sheet_a, df_tag3_sheet_b, df_tag3_sheet_c,\n",
    "                     df_tag4_sheet_a, df_tag4_sheet_b, df_tag4_sheet_c,\n",
    "                     df_tag5_sheet_a, df_tag5_sheet_b, df_tag5_sheet_c,\n",
    "                    ], 'li_yang', 'Uniprot accession #', 'Site', False)"
   ]
  },
  {
   "cell_type": "code",
   "execution_count": null,
   "id": "4d30e9f6",
   "metadata": {},
   "outputs": [],
   "source": [
    "pro_li_df = get_new_df([df_tag1_sheet_a, df_tag1_sheet_b, df_tag1_sheet_c\n",
    "                    ], 'li_yang', 'Uniprot accession #', 'Site', False)"
   ]
  },
  {
   "cell_type": "code",
   "execution_count": null,
   "id": "fa860aa8",
   "metadata": {},
   "outputs": [],
   "source": [
    "cys_li_df.shape, pro_li_df.shape"
   ]
  },
  {
   "cell_type": "code",
   "execution_count": null,
   "id": "fcd1d7af",
   "metadata": {},
   "outputs": [],
   "source": [
    "li_df = pd.concat([cys_li_df, pro_li_df])"
   ]
  },
  {
   "cell_type": "code",
   "execution_count": null,
   "id": "f7fa78c8",
   "metadata": {},
   "outputs": [],
   "source": [
    "os.chdir(cd)\n",
    "os.chdir('results')\n",
    "li_df.to_csv('li_yang_dataset.csv', index = False)"
   ]
  },
  {
   "cell_type": "markdown",
   "id": "8cb28837",
   "metadata": {},
   "source": [
    "# Transform"
   ]
  },
  {
   "cell_type": "code",
   "execution_count": null,
   "id": "7e9fbca0",
   "metadata": {},
   "outputs": [],
   "source": [
    "def get_exp_df(dfs):\n",
    "    new_df = pd.concat(dfs)\n",
    "    \n",
    "    new_df = new_df.rename(columns = {'identifier': 'cysteineid'})\n",
    "\n",
    "    id_df = new_df[['cysteineid', 'proteinid', 'resid']]\n",
    "    id_df = id_df.drop_duplicates()\n",
    "    \n",
    "    return new_df, id_df"
   ]
  },
  {
   "cell_type": "code",
   "execution_count": null,
   "id": "d7084db2",
   "metadata": {},
   "outputs": [],
   "source": [
    "def get_col_names(df, name, find_in, multi):\n",
    "    df_cols = df.columns.to_list()\n",
    "    \n",
    "    if find_in == True:\n",
    "        results = [item for item in df_cols if name in item]\n",
    "    else:\n",
    "        if multi == True:\n",
    "            results = [item for item in df_cols if item[0].isupper()]\n",
    "        else:\n",
    "            results = [item for item in df_cols if name not in item]\n",
    "    \n",
    "    return results"
   ]
  },
  {
   "cell_type": "code",
   "execution_count": null,
   "id": "b31f7f82",
   "metadata": {},
   "outputs": [],
   "source": [
    "def get_single_labels(df, col1, dataset_cols, reactive_cols, ligandable_cols, not_ligandable_cols, experiment_cols, new_auth):\n",
    "    \n",
    "    ids = []\n",
    "    \n",
    "    ds_labels, exp_labels, rxt_labels, lig_labels, nolig_labels = [], [], [], [], []\n",
    "    ds_vals, exp_vals, rxt_vals, lig_vals, nolig_vals = [], [], [], [], []\n",
    "   \n",
    "    for name, group in df:\n",
    "        count = 0\n",
    "        for index, row in group.iterrows():\n",
    "            ds_labels += search(dataset_cols, row)\n",
    "            ds_vals += search_results(dataset_cols, row)\n",
    "            rxt_labels += search(reactive_cols, row)\n",
    "            rxt_vals += search_results(reactive_cols, row)\n",
    "            lig_labels += search(ligandable_cols, row)\n",
    "            lig_vals += search_results(ligandable_cols, row)\n",
    "            nolig_labels += search(not_ligandable_cols, row)\n",
    "            nolig_vals += search_results(not_ligandable_cols, row)\n",
    "            exp_labels += search(experiment_cols, row)\n",
    "            exp_vals += search_results(experiment_cols, row)\n",
    "            \n",
    "        ids.append(name)\n",
    "    \n",
    "    auth = [new_auth] * len(ids)\n",
    "    zipped = list(zip(ids, auth, \n",
    "                      ds_labels, ds_vals, \n",
    "                      rxt_labels, rxt_vals, \n",
    "                      lig_labels, lig_vals, \n",
    "                      nolig_labels, nolig_vals,\n",
    "                      exp_labels, exp_vals))\n",
    "    \n",
    "    new_df = pd.DataFrame(zipped, columns = [col1, 'dataset', \n",
    "                                            'identified', 'identified_datasets', \n",
    "                                            'reactive', 'reactive_datasets',\n",
    "                                            'ligandable', 'ligandable_datasets',\n",
    "                                            'not_ligandable', 'not_ligandable_datasets',\n",
    "                                            'conditional', 'conditional_datasets'])\n",
    "    \n",
    "    return new_df"
   ]
  },
  {
   "cell_type": "code",
   "execution_count": null,
   "id": "e5e42c08",
   "metadata": {},
   "outputs": [],
   "source": [
    "def search(search_cols, row):\n",
    "    found = np.nan\n",
    "    for i in range(len(search_cols)):\n",
    "        current = row[search_cols[i]]\n",
    "        if current == 'yes':\n",
    "            found = 'yes'\n",
    "    return [found]"
   ]
  },
  {
   "cell_type": "code",
   "execution_count": null,
   "id": "6726e5b2",
   "metadata": {},
   "outputs": [],
   "source": [
    "def search_results(search_cols, row):\n",
    "    results = []\n",
    "    for i in range(len(search_cols)):\n",
    "        current = row[search_cols[i]]\n",
    "        if (current == 'yes') & (search_cols[i] not in results):\n",
    "            results.append(search_cols[i])\n",
    "\n",
    "    return [list_to_string(results, ';')]"
   ]
  },
  {
   "cell_type": "code",
   "execution_count": null,
   "id": "87dc8455",
   "metadata": {},
   "outputs": [],
   "source": [
    "def list_to_string(lst, symbol):\n",
    "    return (symbol.join([str(elem) for elem in lst]))"
   ]
  },
  {
   "cell_type": "code",
   "execution_count": null,
   "id": "521c832b",
   "metadata": {},
   "outputs": [],
   "source": [
    "def get_merged_df (dfs, id_df, cys):\n",
    "    merged_df = id_df.copy()\n",
    "    for i in range(len(dfs)):\n",
    "        if cys == True:\n",
    "            merged_df = pd.merge(merged_df, current_df, on = 'cysteineid', how = 'left')\n",
    "            \n",
    "        else:\n",
    "            merged_df = pd.merge(merged_df, current_df, on = 'proteinid', how = 'left')\n",
    "        \n",
    "    return merged_df"
   ]
  },
  {
   "cell_type": "code",
   "execution_count": null,
   "id": "b8f303bf",
   "metadata": {},
   "outputs": [],
   "source": [
    "def get_single_dataset(df, old_auth, new_auth):\n",
    "\n",
    "    old_colnames = df.columns.to_list()\n",
    "    new_colnames = {}\n",
    "    \n",
    "    for i in range(len(old_colnames)):\n",
    "        current_colname = old_colnames[i]\n",
    "        \n",
    "        if old_auth in current_colname:\n",
    "            new_colname = current_colname.replace(old_auth + '_', \"\")\n",
    "            \n",
    "            if \"identified\" in current_colname:\n",
    "                new_colname = new_colname.replace(\"identified\", \"not_ligandable\")\n",
    "            if \"dataset\" in current_colname:\n",
    "                new_colname = new_colname.replace(\"dataset\", \"identified\")\n",
    "            new_colname = new_colname.title()\n",
    "            \n",
    "            new_colnames[current_colname] = new_colname\n",
    "\n",
    "    new_df = df.copy()\n",
    "    new_df = new_df.rename(columns = new_colnames)        \n",
    "    new_df['dataset'] = new_auth\n",
    "    \n",
    "    new_df.to_csv('dataset_' + old_auth + '.csv', index = False)\n",
    "    return new_df"
   ]
  },
  {
   "cell_type": "markdown",
   "id": "777a6ba1",
   "metadata": {},
   "source": [
    "## Read Preprocessed Data"
   ]
  },
  {
   "cell_type": "code",
   "execution_count": null,
   "id": "d5e7c34b",
   "metadata": {},
   "outputs": [],
   "source": [
    "os.chdir(cd)\n",
    "os.chdir('results')"
   ]
  },
  {
   "cell_type": "code",
   "execution_count": null,
   "id": "8bbcc6d5",
   "metadata": {},
   "outputs": [],
   "source": [
    "weerapana_df = pd.read_csv('weerapana_cravatt_dataset.csv')\n",
    "backus_df = pd.read_csv('backus_cravatt_dataset.csv')\n",
    "cao_df = pd.read_csv('cao_backus_dataset.csv')\n",
    "palafox_df = pd.read_csv('palafox_backus_dataset.csv')\n",
    "yan_df = pd.read_csv('yan_backus_dataset.csv')\n",
    "vinogradova_df = pd.read_csv('vinogradova_cravatt_dataset.csv')\n",
    "kuljanin_df = pd.read_csv('kuljanin_gygi_dataset.csv')\n",
    "yang_df = pd.read_csv('yang_wang_dataset.csv')\n",
    "li_df = pd.read_csv('li_yang_dataset.csv')"
   ]
  },
  {
   "cell_type": "markdown",
   "id": "f0c11065",
   "metadata": {},
   "source": [
    "## Concatonate"
   ]
  },
  {
   "cell_type": "code",
   "execution_count": null,
   "id": "6895acc3",
   "metadata": {},
   "outputs": [],
   "source": [
    "dataset_df = pd.concat([\n",
    "    weerapana_df, \n",
    "    backus_df, \n",
    "    cao_df, \n",
    "    palafox_df, \n",
    "    yan_df, \n",
    "    vinogradova_df, \n",
    "    kuljanin_df, \n",
    "    yang_df, \n",
    "    li_df\n",
    "])"
   ]
  },
  {
   "cell_type": "code",
   "execution_count": null,
   "id": "27762f4c",
   "metadata": {},
   "outputs": [],
   "source": [
    "dataset_df = dataset_df.replace([1.0, 1], 'yes')"
   ]
  },
  {
   "cell_type": "code",
   "execution_count": null,
   "id": "96cfe5ef",
   "metadata": {},
   "outputs": [],
   "source": [
    "dataset_df = dataset_df.replace([0], None)"
   ]
  },
  {
   "cell_type": "code",
   "execution_count": null,
   "id": "71efdac4",
   "metadata": {},
   "outputs": [],
   "source": [
    "dataset_df = dataset_df.replace(' ', '')"
   ]
  },
  {
   "cell_type": "code",
   "execution_count": null,
   "id": "a3404563",
   "metadata": {},
   "outputs": [],
   "source": [
    "dataset_df = dataset_df.drop_duplicates()"
   ]
  },
  {
   "cell_type": "code",
   "execution_count": null,
   "id": "50a0630b",
   "metadata": {},
   "outputs": [],
   "source": [
    "dataset_df.to_csv('cysteineomedb_datasetid.csv', index = False)"
   ]
  },
  {
   "cell_type": "markdown",
   "id": "199dae8f",
   "metadata": {},
   "source": [
    "## Merge by Cysteine ID, Protein ID"
   ]
  },
  {
   "cell_type": "code",
   "execution_count": null,
   "id": "17f7d6ed",
   "metadata": {},
   "outputs": [],
   "source": [
    "dataset_df = pd.concat([\n",
    "    weerapana_df, \n",
    "    backus_df, \n",
    "    cao_df, \n",
    "    palafox_df, \n",
    "    yan_df, \n",
    "    vinogradova_df, \n",
    "    kuljanin_df, \n",
    "    yang_df, \n",
    "    li_df\n",
    "])"
   ]
  },
  {
   "cell_type": "code",
   "execution_count": null,
   "id": "e7ecfb72",
   "metadata": {},
   "outputs": [],
   "source": [
    "datasets = [    \n",
    "    weerapana_df, \n",
    "    backus_df, \n",
    "    cao_df, \n",
    "    palafox_df, \n",
    "    yan_df, \n",
    "    vinogradova_df, \n",
    "    kuljanin_df, \n",
    "    yang_df, \n",
    "    li_df\n",
    "]"
   ]
  },
  {
   "cell_type": "code",
   "execution_count": null,
   "id": "77149b0a",
   "metadata": {},
   "outputs": [],
   "source": [
    "dataset_df = dataset_df.replace(' ', '')"
   ]
  },
  {
   "cell_type": "code",
   "execution_count": null,
   "id": "1a7e5a13",
   "metadata": {},
   "outputs": [],
   "source": [
    "dataset_df = dataset_df.drop_duplicates()"
   ]
  },
  {
   "cell_type": "code",
   "execution_count": null,
   "id": "d54ab098",
   "metadata": {},
   "outputs": [],
   "source": [
    "cys_concat_df = dataset_df[dataset_df['level'] == 'cysteine']\n",
    "cys_ids_df = cys_concat_df[['cysteineid']]\n",
    "cys_ids_df = cys_ids_df.drop_duplicates()"
   ]
  },
  {
   "cell_type": "code",
   "execution_count": null,
   "id": "46aff8b5",
   "metadata": {},
   "outputs": [],
   "source": [
    "pro_concat_df = dataset_df[dataset_df['level'] == 'protein']\n",
    "pro_ids_df = pro_concat_df[['proteinid']]\n",
    "pro_ids_df = pro_ids_df.drop_duplicates()"
   ]
  },
  {
   "cell_type": "code",
   "execution_count": null,
   "id": "a226d920",
   "metadata": {},
   "outputs": [],
   "source": [
    "cys_ids_df.shape, pro_ids_df.shape"
   ]
  },
  {
   "cell_type": "code",
   "execution_count": null,
   "id": "9d2d5246",
   "metadata": {},
   "outputs": [],
   "source": [
    "def get_merged_df (dfs, id_df, cys):\n",
    "    merged_df = id_df.copy()\n",
    "    for i in range(len(dfs)):\n",
    "        current_df = dfs[i]\n",
    "        if cys == True:\n",
    "            current_df = current_df[current_df['level'] == 'cysteine']\n",
    "            current_df = current_df.drop(columns = ['proteinid', 'level', 'dataset'])\n",
    "            current_df = current_df.rename(columns = {'identified': 'identified_' + str(i), 'identified_datasets': 'identified_datasets_' + str(i),\n",
    "                                                      'reactive': 'reactive_' + str(i), 'reactive_datasets': 'reactive_datasets_' + str(i),\n",
    "                                                      'ligandable': 'ligandable_' + str(i), 'ligandable_datasets': 'ligandable_datasets_' + str(i),\n",
    "                                                      'cellline': 'cellline_' + str(i), 'cellline_datasets': 'cellline_datasets_' + str(i),\n",
    "                                                      'condition': 'condition_' + str(i), 'condition_datasets': 'condition_datasets_' + str(i),\n",
    "                                                     })\n",
    "            merged_df = pd.merge(merged_df, current_df, on = 'cysteineid', how = 'left')\n",
    "        else:\n",
    "            current_df = current_df[current_df['level'] == 'protein']\n",
    "            current_df = current_df.drop(columns = ['cysteineid', 'level', 'dataset'])\n",
    "            current_df = current_df.rename(columns = {'identified': 'identified_' + str(i), 'identified_datasets': 'identified_datasets_' + str(i),\n",
    "                                                      'reactive': 'reactive_' + str(i), 'reactive_datasets': 'reactive_datasets_' + str(i),\n",
    "                                                      'ligandable': 'ligandable_' + str(i), 'ligandable_datasets': 'ligandable_datasets_' + str(i),\n",
    "                                                      'cellline': 'cellline_' + str(i), 'cellline_datasets': 'cellline_datasets_' + str(i),\n",
    "                                                      'condition': 'condition_' + str(i), 'condition_datasets': 'condition_datasets_' + str(i),\n",
    "                                                     })\n",
    "            merged_df = pd.merge(merged_df, current_df, on = 'proteinid', how = 'left')\n",
    "        \n",
    "    return merged_df"
   ]
  },
  {
   "cell_type": "code",
   "execution_count": null,
   "id": "8add23b9",
   "metadata": {},
   "outputs": [],
   "source": [
    "cys_merged_df = get_merged_df(datasets, cys_ids_df, True)"
   ]
  },
  {
   "cell_type": "code",
   "execution_count": null,
   "id": "989c135d",
   "metadata": {},
   "outputs": [],
   "source": [
    "cys_merged_df"
   ]
  },
  {
   "cell_type": "code",
   "execution_count": null,
   "id": "e60d605b",
   "metadata": {},
   "outputs": [],
   "source": [
    "def get_col_names(df, name, find_in, multi):\n",
    "    df_cols = df.columns.to_list()\n",
    "    \n",
    "    if find_in == True:\n",
    "        results = [item for item in df_cols if name in item]\n",
    "    else:\n",
    "        if multi == True:\n",
    "            results = [item for item in df_cols if item[0].isupper()]\n",
    "        else:\n",
    "            results = [item for item in df_cols if name not in item]\n",
    "    \n",
    "    new_results = [ x for x in results if \"datasets\" not in x ]\n",
    "    return new_results"
   ]
  },
  {
   "cell_type": "code",
   "execution_count": null,
   "id": "fa2b8746",
   "metadata": {},
   "outputs": [],
   "source": [
    "def get_cols(df):\n",
    "    identified_cols = get_col_names(df, 'identified', True, False)\n",
    "    reactive_cols = get_col_names(df, 'reactive', True, False)\n",
    "    ligandable_cols = get_col_names(df, 'ligandable', True, False) \n",
    "    cellline_cols = get_col_names(df, 'cellline', True, False)\n",
    "    condition_cols = get_col_names(df, 'condition', True, False)\n",
    "    \n",
    "    return identified_cols, reactive_cols, ligandable_cols, cellline_cols, condition_cols"
   ]
  },
  {
   "cell_type": "code",
   "execution_count": null,
   "id": "1270a225",
   "metadata": {},
   "outputs": [],
   "source": [
    "identified_cols, reactive_cols, ligandable_cols, cellline_cols, condition_cols = get_cols(cys_merged_df)"
   ]
  },
  {
   "cell_type": "code",
   "execution_count": null,
   "id": "1d770544",
   "metadata": {},
   "outputs": [],
   "source": [
    "def get_category_datasets(labels):\n",
    "    category_datasets = []\n",
    "    for i in range(len(labels)):\n",
    "            category_dataset = (labels[i].split('_')[0] + '_datasets_' + str(labels[i].split('_')[1]))\n",
    "            category_datasets.append(category_dataset)\n",
    "    return category_datasets"
   ]
  },
  {
   "cell_type": "code",
   "execution_count": null,
   "id": "1c0c637a",
   "metadata": {},
   "outputs": [],
   "source": [
    "def update_merged_category(df, category, labels):\n",
    "    datasets = get_category_datasets(labels)\n",
    "    \n",
    "    df['category_sum'] = df[labels].sum(axis=1)\n",
    "    df[category] = np.where(df['category_sum'] >= 1 , 1, 0)\n",
    "    \n",
    "    category_datasets = []\n",
    "    for index, row in df.iterrows():\n",
    "        current_datasets = []\n",
    "        for i in range(len(datasets)):\n",
    "            \n",
    "            if str(row[datasets[i]]) != 'nan':\n",
    "                current_datasets.append(row[datasets[i]])\n",
    "        \n",
    "        category_datasets.append(list_to_string(list(set(current_datasets)), ';'))\n",
    "        \n",
    "            \n",
    "    df[category + '_datasets'] = category_datasets\n",
    "    df = df.drop(columns = labels + datasets + ['category_sum'])\n",
    "    \n",
    "    return df"
   ]
  },
  {
   "cell_type": "code",
   "execution_count": null,
   "id": "be12c7a1",
   "metadata": {},
   "outputs": [],
   "source": [
    "cys_updated_df = update_merged_category(cys_merged_df, 'identified', identified_cols)"
   ]
  },
  {
   "cell_type": "code",
   "execution_count": null,
   "id": "15e963c9",
   "metadata": {},
   "outputs": [],
   "source": [
    "cys_updated_df['proteinid'] = cys_updated_df['cysteineid'].map(lambda x: str(x).split('_')[0]) "
   ]
  },
  {
   "cell_type": "code",
   "execution_count": null,
   "id": "e0605431",
   "metadata": {},
   "outputs": [],
   "source": [
    "pro_merged_df = get_merged_df(datasets, pro_ids_df, False)"
   ]
  },
  {
   "cell_type": "code",
   "execution_count": null,
   "id": "fe17f17c",
   "metadata": {},
   "outputs": [],
   "source": [
    "pro_updated_df = update_merged_category(pro_merged_df, 'identified', identified_cols)"
   ]
  },
  {
   "cell_type": "code",
   "execution_count": null,
   "id": "a1ade1ff",
   "metadata": {},
   "outputs": [],
   "source": [
    "cys_updated_df['level'] = 'cysteine'\n",
    "pro_updated_df['level'] = 'protein'"
   ]
  },
  {
   "cell_type": "code",
   "execution_count": null,
   "id": "6581cc99",
   "metadata": {},
   "outputs": [],
   "source": [
    "updated_df = pd.concat([cys_updated_df, pro_updated_df])"
   ]
  },
  {
   "cell_type": "code",
   "execution_count": null,
   "id": "63187da4",
   "metadata": {},
   "outputs": [],
   "source": [
    "updated_df = updated_df.replace([1.0, 1], 'yes')\n",
    "updated_df = updated_df.replace([0], None)"
   ]
  },
  {
   "cell_type": "code",
   "execution_count": null,
   "id": "9b9521f9",
   "metadata": {},
   "outputs": [],
   "source": [
    "updated_df.to_csv('cysteineomedb_id.csv', index = False)"
   ]
  },
  {
   "cell_type": "code",
   "execution_count": null,
   "id": "c514a292",
   "metadata": {},
   "outputs": [],
   "source": []
  }
 ],
 "metadata": {
  "kernelspec": {
   "display_name": "Python 3 (ipykernel)",
   "language": "python",
   "name": "python3"
  },
  "language_info": {
   "codemirror_mode": {
    "name": "ipython",
    "version": 3
   },
   "file_extension": ".py",
   "mimetype": "text/x-python",
   "name": "python",
   "nbconvert_exporter": "python",
   "pygments_lexer": "ipython3",
   "version": "3.9.7"
  }
 },
 "nbformat": 4,
 "nbformat_minor": 5
}
