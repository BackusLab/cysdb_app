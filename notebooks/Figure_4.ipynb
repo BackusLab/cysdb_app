{
 "cells": [
  {
   "cell_type": "markdown",
   "id": "32df21f9",
   "metadata": {},
   "source": [
    "Find which proteins have been targeted by ChEMBL, DrugBank and FDA drug targets using CysDB proteins, UniProt ChEMBL, UniProt DrugBank and Human Protein Atlas annotations"
   ]
  },
  {
   "cell_type": "code",
   "execution_count": null,
   "id": "ce4da0cc",
   "metadata": {},
   "outputs": [],
   "source": [
    "import os, sys\n",
    "import pandas as pd\n",
    "import csv\n",
    "import numpy as np"
   ]
  },
  {
   "cell_type": "code",
   "execution_count": null,
   "id": "a1763957",
   "metadata": {},
   "outputs": [],
   "source": [
    "cd = os.getcwd()\n",
    "cd"
   ]
  },
  {
   "cell_type": "code",
   "execution_count": null,
   "id": "546f7acd",
   "metadata": {},
   "outputs": [],
   "source": [
    "date = '220919'"
   ]
  },
  {
   "cell_type": "markdown",
   "id": "450a3a5a",
   "metadata": {},
   "source": [
    "# Read CysDB Proteins"
   ]
  },
  {
   "cell_type": "code",
   "execution_count": null,
   "id": "90d7ea55",
   "metadata": {},
   "outputs": [],
   "source": [
    "cysdb_df = pd.read_excel('Table_S1.xlsx', sheet_name = 'Fig1C')"
   ]
  },
  {
   "cell_type": "code",
   "execution_count": null,
   "id": "3b4a0c1a",
   "metadata": {},
   "outputs": [],
   "source": [
    "lig_df = cysdb_df[cysdb_df['ligandable'] == 'yes']\n",
    "lig_ids = lig_df['proteinid'].unique()"
   ]
  },
  {
   "cell_type": "markdown",
   "id": "5309c319",
   "metadata": {},
   "source": [
    "# Read UniProt with ChEMBL and DrugBank Annotations"
   ]
  },
  {
   "cell_type": "code",
   "execution_count": null,
   "id": "04b96f13",
   "metadata": {},
   "outputs": [],
   "source": [
    "# Download UniProt/Swiss-Prot Human Proteome with ChEMBL and DrugBank Annotations\n",
    "u_df = pd.read_excel('2209_uniprot.xlsx')"
   ]
  },
  {
   "cell_type": "code",
   "execution_count": null,
   "id": "71670085",
   "metadata": {},
   "outputs": [],
   "source": [
    "u_ids = u_df['Entry'].unique()"
   ]
  },
  {
   "cell_type": "code",
   "execution_count": null,
   "id": "a70c4c3f",
   "metadata": {},
   "outputs": [],
   "source": [
    "drugbank_df = u_df[u_df['DrugBank'].isna() != True]"
   ]
  },
  {
   "cell_type": "code",
   "execution_count": null,
   "id": "35690747",
   "metadata": {},
   "outputs": [],
   "source": [
    "chembl_df = u_df[u_df['ChEMBL'].isna() != True]"
   ]
  },
  {
   "cell_type": "code",
   "execution_count": null,
   "id": "5b7c3053",
   "metadata": {},
   "outputs": [],
   "source": [
    "drugbank_ids = drugbank_df['Entry'].unique()"
   ]
  },
  {
   "cell_type": "code",
   "execution_count": null,
   "id": "66947650",
   "metadata": {},
   "outputs": [],
   "source": [
    "chembl_ids = chembl_df['Entry'].unique()"
   ]
  },
  {
   "cell_type": "markdown",
   "id": "8fbcaa76",
   "metadata": {},
   "source": [
    "# Read Human Protein Atlas FDA Target Annotations"
   ]
  },
  {
   "cell_type": "code",
   "execution_count": null,
   "id": "22b5cf26",
   "metadata": {},
   "outputs": [],
   "source": [
    "# Human Protein Atlas version 21.1 \n",
    "# https://www.proteinatlas.org/about/download\n",
    "hpa_df = pd.read_csv('220906_hpa_dataset.csv')"
   ]
  },
  {
   "cell_type": "code",
   "execution_count": null,
   "id": "962fc09a",
   "metadata": {},
   "outputs": [],
   "source": [
    "fda_df = hpa_df[hpa_df['FDA'] == 'yes']\n",
    "fda_tot_ids = fda_df['Entry'].unique()"
   ]
  },
  {
   "cell_type": "code",
   "execution_count": null,
   "id": "989a9b31",
   "metadata": {},
   "outputs": [],
   "source": [
    "fda_ids = []\n",
    "for i in range(len(fda_tot_ids)):\n",
    "    if (fda_tot_ids[i] != 'Q6ZRZ4') & (fda_tot_ids[i] not in fda_ids):\n",
    "        fda_ids.append(fda_tot_ids[i])"
   ]
  },
  {
   "cell_type": "markdown",
   "id": "9954e97f",
   "metadata": {},
   "source": [
    "# Create Final Dataframe"
   ]
  },
  {
   "cell_type": "code",
   "execution_count": null,
   "id": "d00fba82",
   "metadata": {},
   "outputs": [],
   "source": [
    "drug_df = pd.DataFrame()\n",
    "drug_df['proteinid'] = list(u_ids)"
   ]
  },
  {
   "cell_type": "code",
   "execution_count": null,
   "id": "b975a2d9",
   "metadata": {},
   "outputs": [],
   "source": [
    "drug_df['ChEMBL'] = np.where(drug_df['proteinid'].isin(chembl_ids), 'yes', None)"
   ]
  },
  {
   "cell_type": "code",
   "execution_count": null,
   "id": "5534e1b6",
   "metadata": {},
   "outputs": [],
   "source": [
    "drug_df['DrugBank'] = np.where(drug_df['proteinid'].isin(drugbank_ids), 'yes', None)"
   ]
  },
  {
   "cell_type": "code",
   "execution_count": null,
   "id": "9fc9742d",
   "metadata": {},
   "outputs": [],
   "source": [
    "drug_df['FDA'] = np.where(drug_df['proteinid'].isin(fda_ids), 'yes', None)"
   ]
  },
  {
   "cell_type": "code",
   "execution_count": null,
   "id": "fc7cdb56",
   "metadata": {},
   "outputs": [],
   "source": [
    "drug_df['LIG'] = np.where(drug_df['proteinid'].isin(lig_ids), 'yes', None)"
   ]
  },
  {
   "cell_type": "code",
   "execution_count": null,
   "id": "5cfba0c1",
   "metadata": {},
   "outputs": [],
   "source": [
    "os.chdir('../')"
   ]
  },
  {
   "cell_type": "code",
   "execution_count": null,
   "id": "f5905040",
   "metadata": {},
   "outputs": [],
   "source": [
    "drug_df.to_csv('druggable_ids.csv', index = False)"
   ]
  }
 ],
 "metadata": {
  "kernelspec": {
   "display_name": "Python 3 (ipykernel)",
   "language": "python",
   "name": "python3"
  },
  "language_info": {
   "codemirror_mode": {
    "name": "ipython",
    "version": 3
   },
   "file_extension": ".py",
   "mimetype": "text/x-python",
   "name": "python",
   "nbconvert_exporter": "python",
   "pygments_lexer": "ipython3",
   "version": "3.9.7"
  }
 },
 "nbformat": 4,
 "nbformat_minor": 5
}
