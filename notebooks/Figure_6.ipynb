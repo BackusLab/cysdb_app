{
 "cells": [
  {
   "cell_type": "markdown",
   "id": "1e23d944",
   "metadata": {},
   "source": [
    "Find which genes or proteins are in CGC, have been targeted by FDA drug targets and detected in CysDB using Cancer Census Genes and Human Protein Atlas annotations"
   ]
  },
  {
   "cell_type": "code",
   "execution_count": null,
   "id": "fd56fc80",
   "metadata": {},
   "outputs": [],
   "source": [
    "import os, sys\n",
    "import numpy as np\n",
    "import pandas as pd\n",
    "import csv\n",
    "import matplotlib\n",
    "import math\n",
    "import string"
   ]
  },
  {
   "cell_type": "code",
   "execution_count": null,
   "id": "a29fd2f9",
   "metadata": {},
   "outputs": [],
   "source": [
    "def get_separated_df(df, xvar, new_xvar):\n",
    "    \n",
    "    df[new_xvar] = df[xvar].str.split(',')\n",
    "    df = df.explode(new_xvar)\n",
    "    df[new_xvar] = df[new_xvar].map(lambda x: str(x).strip())\n",
    "    \n",
    "    return df"
   ]
  },
  {
   "cell_type": "code",
   "execution_count": null,
   "id": "b15be389",
   "metadata": {},
   "outputs": [],
   "source": [
    "cd = os.getcwd()\n",
    "cd"
   ]
  },
  {
   "cell_type": "code",
   "execution_count": null,
   "id": "22651107",
   "metadata": {},
   "outputs": [],
   "source": [
    "date = '220916'"
   ]
  },
  {
   "cell_type": "markdown",
   "id": "a6392d04",
   "metadata": {},
   "source": [
    "# Read CysDB IDs"
   ]
  },
  {
   "cell_type": "code",
   "execution_count": null,
   "id": "65adb655",
   "metadata": {},
   "outputs": [],
   "source": [
    "c_df = pd.read_excel('Table_S1.xlsx', sheet_name = 'Fig1D')"
   ]
  },
  {
   "cell_type": "code",
   "execution_count": null,
   "id": "3330710d",
   "metadata": {},
   "outputs": [],
   "source": [
    "p_df = pd.read_excel('Table_S1.xlsx', sheet_name = 'Fig1C')"
   ]
  },
  {
   "cell_type": "code",
   "execution_count": null,
   "id": "ea973b5b",
   "metadata": {},
   "outputs": [],
   "source": [
    "id_c_df = c_df[c_df['identified'] == True]\n",
    "id_c_ids = id_c_df['proteinid']"
   ]
  },
  {
   "cell_type": "code",
   "execution_count": null,
   "id": "df0b3d4d",
   "metadata": {},
   "outputs": [],
   "source": [
    "lig_c_df = c_df[c_df['ligandable'] == True]\n",
    "lig_c_ids = lig_c_df['proteinid']"
   ]
  },
  {
   "cell_type": "code",
   "execution_count": null,
   "id": "6f2cf912",
   "metadata": {},
   "outputs": [],
   "source": [
    "rxt_c_df = c_df[c_df['hyperreactive'] == True]\n",
    "rxt_c_ids = rxt_c_df['proteinid']"
   ]
  },
  {
   "cell_type": "code",
   "execution_count": null,
   "id": "4fc49345",
   "metadata": {},
   "outputs": [],
   "source": [
    "id_p_df = p_df[p_df['identified'] == 'yes']\n",
    "id_p_ids = id_p_df['proteinid']"
   ]
  },
  {
   "cell_type": "code",
   "execution_count": null,
   "id": "dc0d2b8b",
   "metadata": {},
   "outputs": [],
   "source": [
    "lig_p_df = p_df[p_df['ligandable'] == 'yes']\n",
    "lig_p_ids = lig_p_df['proteinid']"
   ]
  },
  {
   "cell_type": "code",
   "execution_count": null,
   "id": "1ba33dce",
   "metadata": {},
   "outputs": [],
   "source": [
    "rxt_p_df = p_df[p_df['hyperreactive'] == 'yes']\n",
    "rxt_p_ids = rxt_p_df['proteinid']"
   ]
  },
  {
   "cell_type": "markdown",
   "id": "148d6c99",
   "metadata": {},
   "source": [
    "# Read Cancer Gene Census"
   ]
  },
  {
   "cell_type": "code",
   "execution_count": null,
   "id": "4815bbf5",
   "metadata": {},
   "outputs": [],
   "source": [
    "# https://cancer.sanger.ac.uk/census\n",
    "cgc_df = pd.read_csv('220903_cgc_dataset.csv')"
   ]
  },
  {
   "cell_type": "markdown",
   "id": "0cc6337d",
   "metadata": {},
   "source": [
    "# Merge CysDB IDs and CGC"
   ]
  },
  {
   "cell_type": "code",
   "execution_count": null,
   "id": "94626506",
   "metadata": {},
   "outputs": [],
   "source": [
    "cysdb_cgc_df = pd.merge(cgc_df, p_df[['proteinid', 'identified', 'ligandable', 'hyperreactive']], left_on = 'Uniprot_Mapped', right_on = 'proteinid', how = 'left')"
   ]
  },
  {
   "cell_type": "code",
   "execution_count": null,
   "id": "6c7dd67d",
   "metadata": {},
   "outputs": [],
   "source": [
    "id_cgc_df = cysdb_cgc_df[cysdb_cgc_df['identified'] == 'yes']"
   ]
  },
  {
   "cell_type": "code",
   "execution_count": null,
   "id": "20d4c6a0",
   "metadata": {},
   "outputs": [],
   "source": [
    "lig_cgc_df = cysdb_cgc_df[cysdb_cgc_df['ligandable'] == 'yes']"
   ]
  },
  {
   "cell_type": "code",
   "execution_count": null,
   "id": "14d01ba1",
   "metadata": {},
   "outputs": [],
   "source": [
    "rxt_cgc_df = cysdb_cgc_df[cysdb_cgc_df['hyperreactive'] == 'yes']"
   ]
  },
  {
   "cell_type": "code",
   "execution_count": null,
   "id": "26acfbcd",
   "metadata": {},
   "outputs": [],
   "source": [
    "id_cgc_som_df = get_separated_df(id_cgc_df, 'Tumour Types(Somatic)', 'Somatic')"
   ]
  },
  {
   "cell_type": "code",
   "execution_count": null,
   "id": "0209c044",
   "metadata": {},
   "outputs": [],
   "source": [
    "cgc_som_df = get_separated_df(cgc_df, 'Tumour Types(Somatic)', 'Somatic')"
   ]
  },
  {
   "cell_type": "markdown",
   "id": "8d0e52fa",
   "metadata": {},
   "source": [
    "# Not FDA Targeted but in CGC and Identified in CysDB"
   ]
  },
  {
   "cell_type": "code",
   "execution_count": null,
   "id": "74de6906",
   "metadata": {},
   "outputs": [],
   "source": [
    "fda_cgc_df = cysdb_cgc_df[cysdb_cgc_df['FDA'] == 'yes']\n",
    "fda_cgc_som_df = get_separated_df(fda_cgc_df, 'Tumour Types(Somatic)', 'Somatic')"
   ]
  },
  {
   "cell_type": "code",
   "execution_count": null,
   "id": "1f305cc4",
   "metadata": {},
   "outputs": [],
   "source": [
    "no_fda_cgc_df = cysdb_cgc_df[cysdb_cgc_df['FDA'] != 'yes']\n",
    "no_fda_cgc_som_df = get_separated_df(no_fda_cgc_df, 'Tumour Types(Somatic)', 'Somatic')"
   ]
  },
  {
   "cell_type": "code",
   "execution_count": null,
   "id": "3e8b92b8",
   "metadata": {},
   "outputs": [],
   "source": [
    "def get_mutation_df(df, xvar):\n",
    "    count_df = pd.DataFrame()\n",
    "    count_df[xvar] = list(df[xvar].value_counts().index)\n",
    "    count_df['count'] = list(df[xvar].value_counts())\n",
    "    \n",
    "    return count_df"
   ]
  },
  {
   "cell_type": "code",
   "execution_count": null,
   "id": "fc1dbc6a",
   "metadata": {},
   "outputs": [],
   "source": [
    "mutation_df = get_mutation_df(cgc_som_df[cgc_som_df['Somatic'] != \"nan\"], 'Somatic')"
   ]
  },
  {
   "cell_type": "code",
   "execution_count": null,
   "id": "4967b9a6",
   "metadata": {},
   "outputs": [],
   "source": [
    "id_mutation_df = id_mutation_df.rename(columns = {'count': 'id_count'})"
   ]
  },
  {
   "cell_type": "code",
   "execution_count": null,
   "id": "028147e9",
   "metadata": {},
   "outputs": [],
   "source": [
    "lig_mutation_df = lig_mutation_df.rename(columns = {'count': 'lig_count'})"
   ]
  },
  {
   "cell_type": "code",
   "execution_count": null,
   "id": "ba47ea3d",
   "metadata": {},
   "outputs": [],
   "source": [
    "rxt_mutation_df = rxt_mutation_df.rename(columns = {'count': 'rxt_count'})"
   ]
  },
  {
   "cell_type": "code",
   "execution_count": null,
   "id": "1963a178",
   "metadata": {},
   "outputs": [],
   "source": [
    "merged_mutation_df = mutation_df.merge(id_mutation_df, on = 'Somatic')"
   ]
  },
  {
   "cell_type": "code",
   "execution_count": null,
   "id": "9ab27a6b",
   "metadata": {},
   "outputs": [],
   "source": [
    "merged_mutation_df = merged_mutation_df.merge(lig_mutation_df, on = 'Somatic')"
   ]
  },
  {
   "cell_type": "code",
   "execution_count": null,
   "id": "cfd6e03e",
   "metadata": {},
   "outputs": [],
   "source": [
    "merged_mutation_df = merged_mutation_df.merge(rxt_mutation_df, on = 'Somatic')"
   ]
  },
  {
   "cell_type": "code",
   "execution_count": null,
   "id": "0d98a4aa",
   "metadata": {},
   "outputs": [],
   "source": [
    "# create new dataframe with columns: Cancer, CGC_FDA, CysDB_LIG & CysDB_ID\n",
    "\n",
    "def get_vals(fda_df, no_fda_df):\n",
    "    fda = []\n",
    "    no_fda_lig = []\n",
    "    no_fda_lig_id = []\n",
    "    cgc = []\n",
    "    new_df = pd.DataFrame()\n",
    "    \n",
    "    for i in range(len(top_cancers)):\n",
    "        \n",
    "        cancer_fda_df = fda_df[fda_df['Somatic'] == top_cancers[i]]\n",
    "        cancer_fda_vals = list(cancer_fda_df['Uniprot_Mapped'].unique())\n",
    "        \n",
    "        cancer_no_fda_df = no_fda_df[no_fda_df['Somatic'] == top_cancers[i]]\n",
    "        cancer_no_fda_vals = list(cancer_no_fda_df['Uniprot_Mapped'].unique())\n",
    "        \n",
    "        cancer_lig_df = cancer_no_fda_df[cancer_no_fda_df['ligandable'] == 'yes']\n",
    "        cancer_lig_vals = list(cancer_lig_df['Uniprot_Mapped'].unique())\n",
    "                               \n",
    "        cancer_id_df = cancer_no_fda_df[cancer_no_fda_df['identified'] == 'yes']\n",
    "        cancer_id_vals = list(cancer_id_df['Uniprot_Mapped'].unique())\n",
    "        \n",
    "        cancer_cgc_df = no_fda_df[no_fda_df['Somatic'] == top_cancers[i]]\n",
    "        cancer_cgc_ids = list(cancer_cgc_df['proteinid'].unique())\n",
    "                              \n",
    "        cgc_count = len(cancer_cgc_ids) - len(cancer_id_vals)\n",
    "        lig_count = len(cancer_lig_vals)\n",
    "        id_count = len(cancer_id_vals) - len(cancer_lig_vals)\n",
    "        fda_count = len(cancer_fda_vals)\n",
    "        \n",
    "        \n",
    "        fda.append(fda_count)\n",
    "        no_fda_lig.append(lig_count)\n",
    "        no_fda_lig_id.append(id_count)\n",
    "    \n",
    "    new_df['Cancer'] = top_cancers\n",
    "    new_df['CGC_FDA'] = fda\n",
    "    new_df['CysDB_LIG'] = no_fda_lig\n",
    "    new_df['CysDB_ID'] = no_fda_lig_id\n",
    "        \n",
    "    return new_df"
   ]
  },
  {
   "cell_type": "code",
   "execution_count": null,
   "id": "7415c2ca",
   "metadata": {},
   "outputs": [],
   "source": [
    "top_cancers = ['AML', 'melanoma', 'NSCLC', 'T-ALL', 'colorectal']"
   ]
  },
  {
   "cell_type": "code",
   "execution_count": null,
   "id": "b2635c89",
   "metadata": {},
   "outputs": [],
   "source": [
    "stacked_df = get_vals(fda_cgc_som_df, no_fda_cgc_som_df)"
   ]
  },
  {
   "cell_type": "code",
   "execution_count": null,
   "id": "b546c281",
   "metadata": {},
   "outputs": [],
   "source": [
    "# totals of each row as column\n",
    "stacked_df['total'] = [74, 43, 25, 30, 27]"
   ]
  },
  {
   "cell_type": "code",
   "execution_count": null,
   "id": "4b11f0ca",
   "metadata": {},
   "outputs": [],
   "source": [
    "stacked_df['CGC_Other'] = stacked_df['total'] - (stacked_df['CysDB_ID'] + stacked_df['CysDB_LIG'])"
   ]
  },
  {
   "cell_type": "code",
   "execution_count": null,
   "id": "4f5b82aa",
   "metadata": {},
   "outputs": [],
   "source": [
    "stacked_df.to_csv(date + '_cgc_fda_cysdb.csv', index = False)"
   ]
  }
 ],
 "metadata": {
  "kernelspec": {
   "display_name": "Python 3 (ipykernel)",
   "language": "python",
   "name": "python3"
  },
  "language_info": {
   "codemirror_mode": {
    "name": "ipython",
    "version": 3
   },
   "file_extension": ".py",
   "mimetype": "text/x-python",
   "name": "python",
   "nbconvert_exporter": "python",
   "pygments_lexer": "ipython3",
   "version": "3.9.7"
  }
 },
 "nbformat": 4,
 "nbformat_minor": 5
}
